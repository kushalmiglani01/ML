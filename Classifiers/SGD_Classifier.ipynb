{
  "nbformat": 4,
  "nbformat_minor": 0,
  "metadata": {
    "colab": {
      "provenance": []
    },
    "kernelspec": {
      "name": "python3",
      "display_name": "Python 3"
    },
    "language_info": {
      "name": "python"
    }
  },
  "cells": [
    {
      "cell_type": "markdown",
      "source": [
        "## Classification Problems\n",
        "\n",
        "**Dataset Used:** MNIST Dataset\n",
        "\n",
        "* which is a set of 70,000 small images of digits handwritten by high school students and employees of the US Census Bureau"
      ],
      "metadata": {
        "id": "yxwphG1PjH6R"
      }
    },
    {
      "cell_type": "code",
      "execution_count": null,
      "metadata": {
        "colab": {
          "base_uri": "https://localhost:8080/"
        },
        "id": "FB7i8aKHh-3B",
        "outputId": "1fab48df-9bef-4061-db17-3e1634a2b5cd"
      },
      "outputs": [
        {
          "output_type": "stream",
          "name": "stderr",
          "text": [
            "/usr/local/lib/python3.10/dist-packages/sklearn/datasets/_openml.py:968: FutureWarning: The default value of `parser` will change from `'liac-arff'` to `'auto'` in 1.4. You can set `parser='auto'` to silence this warning. Therefore, an `ImportError` will be raised from 1.4 if the dataset is dense and pandas is not installed. Note that the pandas parser may return different data types. See the Notes Section in fetch_openml's API doc for details.\n",
            "  warn(\n"
          ]
        },
        {
          "output_type": "execute_result",
          "data": {
            "text/plain": [
              "dict_keys(['data', 'target', 'frame', 'categories', 'feature_names', 'target_names', 'DESCR', 'details', 'url'])"
            ]
          },
          "metadata": {},
          "execution_count": 1
        }
      ],
      "source": [
        "from sklearn.datasets import fetch_openml\n",
        "mnist = fetch_openml('mnist_784', version = 1)\n",
        "mnist.keys()"
      ]
    },
    {
      "cell_type": "code",
      "source": [
        "X, y = mnist[\"data\"], mnist[\"target\"]"
      ],
      "metadata": {
        "id": "Krelw8Hgj-so"
      },
      "execution_count": null,
      "outputs": []
    },
    {
      "cell_type": "code",
      "source": [
        "X.shape"
      ],
      "metadata": {
        "colab": {
          "base_uri": "https://localhost:8080/"
        },
        "id": "pN42SLoFknA5",
        "outputId": "340dcda2-a75d-4c9a-f5ca-039d2ca086cb"
      },
      "execution_count": null,
      "outputs": [
        {
          "output_type": "execute_result",
          "data": {
            "text/plain": [
              "(70000, 784)"
            ]
          },
          "metadata": {},
          "execution_count": 3
        }
      ]
    },
    {
      "cell_type": "code",
      "source": [
        "y.shape"
      ],
      "metadata": {
        "colab": {
          "base_uri": "https://localhost:8080/"
        },
        "id": "R7Gw0Nirk125",
        "outputId": "5f736617-4e21-40fb-d669-f57f0ac34cd7"
      },
      "execution_count": null,
      "outputs": [
        {
          "output_type": "execute_result",
          "data": {
            "text/plain": [
              "(70000,)"
            ]
          },
          "metadata": {},
          "execution_count": 4
        }
      ]
    },
    {
      "cell_type": "code",
      "source": [
        "X.head()"
      ],
      "metadata": {
        "colab": {
          "base_uri": "https://localhost:8080/",
          "height": 235
        },
        "id": "qlbbTCSUk2xQ",
        "outputId": "88d19b64-534a-4021-cb48-f1f47f615be5"
      },
      "execution_count": null,
      "outputs": [
        {
          "output_type": "execute_result",
          "data": {
            "text/plain": [
              "   pixel1  pixel2  pixel3  pixel4  pixel5  pixel6  pixel7  pixel8  pixel9  \\\n",
              "0     0.0     0.0     0.0     0.0     0.0     0.0     0.0     0.0     0.0   \n",
              "1     0.0     0.0     0.0     0.0     0.0     0.0     0.0     0.0     0.0   \n",
              "2     0.0     0.0     0.0     0.0     0.0     0.0     0.0     0.0     0.0   \n",
              "3     0.0     0.0     0.0     0.0     0.0     0.0     0.0     0.0     0.0   \n",
              "4     0.0     0.0     0.0     0.0     0.0     0.0     0.0     0.0     0.0   \n",
              "\n",
              "   pixel10  ...  pixel775  pixel776  pixel777  pixel778  pixel779  pixel780  \\\n",
              "0      0.0  ...       0.0       0.0       0.0       0.0       0.0       0.0   \n",
              "1      0.0  ...       0.0       0.0       0.0       0.0       0.0       0.0   \n",
              "2      0.0  ...       0.0       0.0       0.0       0.0       0.0       0.0   \n",
              "3      0.0  ...       0.0       0.0       0.0       0.0       0.0       0.0   \n",
              "4      0.0  ...       0.0       0.0       0.0       0.0       0.0       0.0   \n",
              "\n",
              "   pixel781  pixel782  pixel783  pixel784  \n",
              "0       0.0       0.0       0.0       0.0  \n",
              "1       0.0       0.0       0.0       0.0  \n",
              "2       0.0       0.0       0.0       0.0  \n",
              "3       0.0       0.0       0.0       0.0  \n",
              "4       0.0       0.0       0.0       0.0  \n",
              "\n",
              "[5 rows x 784 columns]"
            ],
            "text/html": [
              "\n",
              "  <div id=\"df-92a45829-d85e-450f-be8a-d804d8c196f4\">\n",
              "    <div class=\"colab-df-container\">\n",
              "      <div>\n",
              "<style scoped>\n",
              "    .dataframe tbody tr th:only-of-type {\n",
              "        vertical-align: middle;\n",
              "    }\n",
              "\n",
              "    .dataframe tbody tr th {\n",
              "        vertical-align: top;\n",
              "    }\n",
              "\n",
              "    .dataframe thead th {\n",
              "        text-align: right;\n",
              "    }\n",
              "</style>\n",
              "<table border=\"1\" class=\"dataframe\">\n",
              "  <thead>\n",
              "    <tr style=\"text-align: right;\">\n",
              "      <th></th>\n",
              "      <th>pixel1</th>\n",
              "      <th>pixel2</th>\n",
              "      <th>pixel3</th>\n",
              "      <th>pixel4</th>\n",
              "      <th>pixel5</th>\n",
              "      <th>pixel6</th>\n",
              "      <th>pixel7</th>\n",
              "      <th>pixel8</th>\n",
              "      <th>pixel9</th>\n",
              "      <th>pixel10</th>\n",
              "      <th>...</th>\n",
              "      <th>pixel775</th>\n",
              "      <th>pixel776</th>\n",
              "      <th>pixel777</th>\n",
              "      <th>pixel778</th>\n",
              "      <th>pixel779</th>\n",
              "      <th>pixel780</th>\n",
              "      <th>pixel781</th>\n",
              "      <th>pixel782</th>\n",
              "      <th>pixel783</th>\n",
              "      <th>pixel784</th>\n",
              "    </tr>\n",
              "  </thead>\n",
              "  <tbody>\n",
              "    <tr>\n",
              "      <th>0</th>\n",
              "      <td>0.0</td>\n",
              "      <td>0.0</td>\n",
              "      <td>0.0</td>\n",
              "      <td>0.0</td>\n",
              "      <td>0.0</td>\n",
              "      <td>0.0</td>\n",
              "      <td>0.0</td>\n",
              "      <td>0.0</td>\n",
              "      <td>0.0</td>\n",
              "      <td>0.0</td>\n",
              "      <td>...</td>\n",
              "      <td>0.0</td>\n",
              "      <td>0.0</td>\n",
              "      <td>0.0</td>\n",
              "      <td>0.0</td>\n",
              "      <td>0.0</td>\n",
              "      <td>0.0</td>\n",
              "      <td>0.0</td>\n",
              "      <td>0.0</td>\n",
              "      <td>0.0</td>\n",
              "      <td>0.0</td>\n",
              "    </tr>\n",
              "    <tr>\n",
              "      <th>1</th>\n",
              "      <td>0.0</td>\n",
              "      <td>0.0</td>\n",
              "      <td>0.0</td>\n",
              "      <td>0.0</td>\n",
              "      <td>0.0</td>\n",
              "      <td>0.0</td>\n",
              "      <td>0.0</td>\n",
              "      <td>0.0</td>\n",
              "      <td>0.0</td>\n",
              "      <td>0.0</td>\n",
              "      <td>...</td>\n",
              "      <td>0.0</td>\n",
              "      <td>0.0</td>\n",
              "      <td>0.0</td>\n",
              "      <td>0.0</td>\n",
              "      <td>0.0</td>\n",
              "      <td>0.0</td>\n",
              "      <td>0.0</td>\n",
              "      <td>0.0</td>\n",
              "      <td>0.0</td>\n",
              "      <td>0.0</td>\n",
              "    </tr>\n",
              "    <tr>\n",
              "      <th>2</th>\n",
              "      <td>0.0</td>\n",
              "      <td>0.0</td>\n",
              "      <td>0.0</td>\n",
              "      <td>0.0</td>\n",
              "      <td>0.0</td>\n",
              "      <td>0.0</td>\n",
              "      <td>0.0</td>\n",
              "      <td>0.0</td>\n",
              "      <td>0.0</td>\n",
              "      <td>0.0</td>\n",
              "      <td>...</td>\n",
              "      <td>0.0</td>\n",
              "      <td>0.0</td>\n",
              "      <td>0.0</td>\n",
              "      <td>0.0</td>\n",
              "      <td>0.0</td>\n",
              "      <td>0.0</td>\n",
              "      <td>0.0</td>\n",
              "      <td>0.0</td>\n",
              "      <td>0.0</td>\n",
              "      <td>0.0</td>\n",
              "    </tr>\n",
              "    <tr>\n",
              "      <th>3</th>\n",
              "      <td>0.0</td>\n",
              "      <td>0.0</td>\n",
              "      <td>0.0</td>\n",
              "      <td>0.0</td>\n",
              "      <td>0.0</td>\n",
              "      <td>0.0</td>\n",
              "      <td>0.0</td>\n",
              "      <td>0.0</td>\n",
              "      <td>0.0</td>\n",
              "      <td>0.0</td>\n",
              "      <td>...</td>\n",
              "      <td>0.0</td>\n",
              "      <td>0.0</td>\n",
              "      <td>0.0</td>\n",
              "      <td>0.0</td>\n",
              "      <td>0.0</td>\n",
              "      <td>0.0</td>\n",
              "      <td>0.0</td>\n",
              "      <td>0.0</td>\n",
              "      <td>0.0</td>\n",
              "      <td>0.0</td>\n",
              "    </tr>\n",
              "    <tr>\n",
              "      <th>4</th>\n",
              "      <td>0.0</td>\n",
              "      <td>0.0</td>\n",
              "      <td>0.0</td>\n",
              "      <td>0.0</td>\n",
              "      <td>0.0</td>\n",
              "      <td>0.0</td>\n",
              "      <td>0.0</td>\n",
              "      <td>0.0</td>\n",
              "      <td>0.0</td>\n",
              "      <td>0.0</td>\n",
              "      <td>...</td>\n",
              "      <td>0.0</td>\n",
              "      <td>0.0</td>\n",
              "      <td>0.0</td>\n",
              "      <td>0.0</td>\n",
              "      <td>0.0</td>\n",
              "      <td>0.0</td>\n",
              "      <td>0.0</td>\n",
              "      <td>0.0</td>\n",
              "      <td>0.0</td>\n",
              "      <td>0.0</td>\n",
              "    </tr>\n",
              "  </tbody>\n",
              "</table>\n",
              "<p>5 rows × 784 columns</p>\n",
              "</div>\n",
              "      <button class=\"colab-df-convert\" onclick=\"convertToInteractive('df-92a45829-d85e-450f-be8a-d804d8c196f4')\"\n",
              "              title=\"Convert this dataframe to an interactive table.\"\n",
              "              style=\"display:none;\">\n",
              "        \n",
              "  <svg xmlns=\"http://www.w3.org/2000/svg\" height=\"24px\"viewBox=\"0 0 24 24\"\n",
              "       width=\"24px\">\n",
              "    <path d=\"M0 0h24v24H0V0z\" fill=\"none\"/>\n",
              "    <path d=\"M18.56 5.44l.94 2.06.94-2.06 2.06-.94-2.06-.94-.94-2.06-.94 2.06-2.06.94zm-11 1L8.5 8.5l.94-2.06 2.06-.94-2.06-.94L8.5 2.5l-.94 2.06-2.06.94zm10 10l.94 2.06.94-2.06 2.06-.94-2.06-.94-.94-2.06-.94 2.06-2.06.94z\"/><path d=\"M17.41 7.96l-1.37-1.37c-.4-.4-.92-.59-1.43-.59-.52 0-1.04.2-1.43.59L10.3 9.45l-7.72 7.72c-.78.78-.78 2.05 0 2.83L4 21.41c.39.39.9.59 1.41.59.51 0 1.02-.2 1.41-.59l7.78-7.78 2.81-2.81c.8-.78.8-2.07 0-2.86zM5.41 20L4 18.59l7.72-7.72 1.47 1.35L5.41 20z\"/>\n",
              "  </svg>\n",
              "      </button>\n",
              "      \n",
              "  <style>\n",
              "    .colab-df-container {\n",
              "      display:flex;\n",
              "      flex-wrap:wrap;\n",
              "      gap: 12px;\n",
              "    }\n",
              "\n",
              "    .colab-df-convert {\n",
              "      background-color: #E8F0FE;\n",
              "      border: none;\n",
              "      border-radius: 50%;\n",
              "      cursor: pointer;\n",
              "      display: none;\n",
              "      fill: #1967D2;\n",
              "      height: 32px;\n",
              "      padding: 0 0 0 0;\n",
              "      width: 32px;\n",
              "    }\n",
              "\n",
              "    .colab-df-convert:hover {\n",
              "      background-color: #E2EBFA;\n",
              "      box-shadow: 0px 1px 2px rgba(60, 64, 67, 0.3), 0px 1px 3px 1px rgba(60, 64, 67, 0.15);\n",
              "      fill: #174EA6;\n",
              "    }\n",
              "\n",
              "    [theme=dark] .colab-df-convert {\n",
              "      background-color: #3B4455;\n",
              "      fill: #D2E3FC;\n",
              "    }\n",
              "\n",
              "    [theme=dark] .colab-df-convert:hover {\n",
              "      background-color: #434B5C;\n",
              "      box-shadow: 0px 1px 3px 1px rgba(0, 0, 0, 0.15);\n",
              "      filter: drop-shadow(0px 1px 2px rgba(0, 0, 0, 0.3));\n",
              "      fill: #FFFFFF;\n",
              "    }\n",
              "  </style>\n",
              "\n",
              "      <script>\n",
              "        const buttonEl =\n",
              "          document.querySelector('#df-92a45829-d85e-450f-be8a-d804d8c196f4 button.colab-df-convert');\n",
              "        buttonEl.style.display =\n",
              "          google.colab.kernel.accessAllowed ? 'block' : 'none';\n",
              "\n",
              "        async function convertToInteractive(key) {\n",
              "          const element = document.querySelector('#df-92a45829-d85e-450f-be8a-d804d8c196f4');\n",
              "          const dataTable =\n",
              "            await google.colab.kernel.invokeFunction('convertToInteractive',\n",
              "                                                     [key], {});\n",
              "          if (!dataTable) return;\n",
              "\n",
              "          const docLinkHtml = 'Like what you see? Visit the ' +\n",
              "            '<a target=\"_blank\" href=https://colab.research.google.com/notebooks/data_table.ipynb>data table notebook</a>'\n",
              "            + ' to learn more about interactive tables.';\n",
              "          element.innerHTML = '';\n",
              "          dataTable['output_type'] = 'display_data';\n",
              "          await google.colab.output.renderOutput(dataTable, element);\n",
              "          const docLink = document.createElement('div');\n",
              "          docLink.innerHTML = docLinkHtml;\n",
              "          element.appendChild(docLink);\n",
              "        }\n",
              "      </script>\n",
              "    </div>\n",
              "  </div>\n",
              "  "
            ]
          },
          "metadata": {},
          "execution_count": 5
        }
      ]
    },
    {
      "cell_type": "code",
      "source": [
        "y.head()"
      ],
      "metadata": {
        "colab": {
          "base_uri": "https://localhost:8080/"
        },
        "id": "Nrx_5hOgk3ui",
        "outputId": "a5b81b3b-96d2-4247-f7b2-507a54463d0d"
      },
      "execution_count": null,
      "outputs": [
        {
          "output_type": "execute_result",
          "data": {
            "text/plain": [
              "0    5\n",
              "1    0\n",
              "2    4\n",
              "3    1\n",
              "4    9\n",
              "Name: class, dtype: category\n",
              "Categories (10, object): ['0', '1', '2', '3', ..., '6', '7', '8', '9']"
            ]
          },
          "metadata": {},
          "execution_count": 6
        }
      ]
    },
    {
      "cell_type": "code",
      "source": [
        "import matplotlib as mpl\n",
        "import matplotlib.pyplot as plt"
      ],
      "metadata": {
        "id": "fu9PpGrAk72j"
      },
      "execution_count": null,
      "outputs": []
    },
    {
      "cell_type": "code",
      "source": [
        "some_digit = X.iloc[0]\n",
        "some_digit_image = some_digit.values.reshape(28,28)"
      ],
      "metadata": {
        "id": "AlT4sbm0lFhr"
      },
      "execution_count": null,
      "outputs": []
    },
    {
      "cell_type": "code",
      "source": [
        "plt.imshow(some_digit_image, cmap = mpl.cm.binary, interpolation=\"nearest\")\n",
        "plt.axis(\"off\")\n",
        "plt.show()"
      ],
      "metadata": {
        "colab": {
          "base_uri": "https://localhost:8080/",
          "height": 406
        },
        "id": "4Uae6j00lZHo",
        "outputId": "561b677a-95f3-4d35-9d70-8a44d2c4f3f5"
      },
      "execution_count": null,
      "outputs": [
        {
          "output_type": "display_data",
          "data": {
            "text/plain": [
              "<Figure size 640x480 with 1 Axes>"
            ],
            "image/png": "[encoded data removed]"
          },
          "metadata": {}
        }
      ]
    },
    {
      "cell_type": "code",
      "source": [
        "y[0]"
      ],
      "metadata": {
        "colab": {
          "base_uri": "https://localhost:8080/",
          "height": 36
        },
        "id": "hQmfqv4EljSs",
        "outputId": "e58a636c-d7d7-4ed2-96ed-ddd560f210a8"
      },
      "execution_count": null,
      "outputs": [
        {
          "output_type": "execute_result",
          "data": {
            "text/plain": [
              "'5'"
            ],
            "application/vnd.google.colaboratory.intrinsic+json": {
              "type": "string"
            }
          },
          "metadata": {},
          "execution_count": 10
        }
      ]
    },
    {
      "cell_type": "markdown",
      "source": [
        "### Conducting a train_test split of the data"
      ],
      "metadata": {
        "id": "U-TD676Pm2W-"
      }
    },
    {
      "cell_type": "code",
      "source": [
        "X_train, X_test, y_train, y_test = X[:60000], X[60000:], y[:60000], y[60000:]"
      ],
      "metadata": {
        "id": "4jej0MjNmG35"
      },
      "execution_count": null,
      "outputs": []
    },
    {
      "cell_type": "markdown",
      "source": [
        "### Binary Classification\n",
        "\n",
        "In binary classification, the target variable can take values of either 0 or 1. These are the only two classes for each observation or record."
      ],
      "metadata": {
        "id": "hDDqIcvcnEuK"
      }
    },
    {
      "cell_type": "markdown",
      "source": [
        "### Gradient Descent\n",
        "\n",
        "* Generic Optimization algorithm capable of finding optimal solutions to wide range of problems.\n",
        "* General idea is to tweak parameters iteratively in order to minimize the cost function.\n",
        "* It measures the local gradient of the error function with regards to the\n",
        "parameter vector θ, and it goes in the direction of descending gradient.\n",
        "* Concretely, you start by filling θ with random values (this is called random initialization), and then you improve it gradually, taking one baby step at a time, each step attempting to decrease the cost function (e.g., the MSE), until the algorithm converges to a minimum.\n",
        "* The cost function of linear regression model is convex function, so Gradient Descent can be used to find the optimal solution in linear problems without relying on the closed form equations for larger datasets.\n",
        "\n",
        "  θ(next step) = θ − η∇θ MSE(θ)\n",
        "\n",
        "\n",
        "![image.png](data:image/png;base64,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)"
      ],
      "metadata": {
        "id": "nCJYZen6qbaS"
      }
    },
    {
      "cell_type": "markdown",
      "source": [
        "#### Stochastic Gradient Descent (SGD Classifier)\n",
        "\n",
        "* It can handle large datasets efficiently as SGD deals with training instances independently. Also suited for online\n",
        "* Stochastic Gradient Descent just picks a random instance in the training set at every step and computes the gradients based only on that single instance. Obviously this makes the algorithm much faster since it has very little data to manipulate at every iteration. It also makes it possible to train on huge training sets, since only one instance needs to be in memory at each iteration (SGD can be implemented as an out-of-core algorithm).\n",
        "* Stochastic Gradient Descent does not decrease gently until it reaches the minimum, it go up and down and only decreases on average. Therefore, over time it will be close to the minimum but the final parameters values are good and close to optimal but are not optimal.\n",
        "* The SGD has better chance of finding global minima, bypassing local minima due to its irregularity introduced by using randomness, however, the algorithm never settles at the minimum.\n",
        "* The solution to the above dillema is to gradually reduce the learning rate by starting out with large learning rate and overtime make it smaller so that algorithm can settle to global minimum.\n",
        "* The function that determines the learning rate is called learning schedule and learning schedule should be setup carefully as reducing the learning rate too early can make the algorithm stuck in a local minimum. And on the other hand, reducing it too slowly can mean that algorithm will jump around the minimum for a long time.\n",
        "* When using Stochastic Gradient Descent, the training instances must be independent and identically distributed (IID), to ensure that the parameters get pulled towards the global optimum, on average. A simple way to ensure this is to shuffle the instances during training (e.g., pick each instance randomly, or shuffle the training set at the beginning of each epoch). If you do not do this, for example if the instances are sorted by label, then SGD will start by\n",
        "optimizing for one label, then the next, and so on, and it will not settle close to the global minimum."
      ],
      "metadata": {
        "id": "4KZ4abxgnism"
      }
    },
    {
      "cell_type": "code",
      "source": [
        "y_train_5 = (y_train == '5') # True for all 5s, False for all other digits.\n",
        "y_test_5 = (y_test == '5')"
      ],
      "metadata": {
        "id": "Aq5mp7kJoTpT"
      },
      "execution_count": null,
      "outputs": []
    },
    {
      "cell_type": "code",
      "source": [
        "from sklearn.linear_model import SGDClassifier\n",
        "\n",
        "sgd_clf = SGDClassifier(random_state=42)\n",
        "sgd_clf.fit(X_train, y_train_5)"
      ],
      "metadata": {
        "colab": {
          "base_uri": "https://localhost:8080/",
          "height": 74
        },
        "id": "xnEKTga0m0jQ",
        "outputId": "59c7b803-f3f9-4b03-eb60-f9569f8c48ec"
      },
      "execution_count": null,
      "outputs": [
        {
          "output_type": "execute_result",
          "data": {
            "text/plain": [
              "SGDClassifier(random_state=42)"
            ],
            "text/html": [
              "<style>#sk-container-id-1 {color: black;background-color: white;}#sk-container-id-1 pre{padding: 0;}#sk-container-id-1 div.sk-toggleable {background-color: white;}#sk-container-id-1 label.sk-toggleable__label {cursor: pointer;display: block;width: 100%;margin-bottom: 0;padding: 0.3em;box-sizing: border-box;text-align: center;}#sk-container-id-1 label.sk-toggleable__label-arrow:before {content: \"▸\";float: left;margin-right: 0.25em;color: #696969;}#sk-container-id-1 label.sk-toggleable__label-arrow:hover:before {color: black;}#sk-container-id-1 div.sk-estimator:hover label.sk-toggleable__label-arrow:before {color: black;}#sk-container-id-1 div.sk-toggleable__content {max-height: 0;max-width: 0;overflow: hidden;text-align: left;background-color: #f0f8ff;}#sk-container-id-1 div.sk-toggleable__content pre {margin: 0.2em;color: black;border-radius: 0.25em;background-color: #f0f8ff;}#sk-container-id-1 input.sk-toggleable__control:checked~div.sk-toggleable__content {max-height: 200px;max-width: 100%;overflow: auto;}#sk-container-id-1 input.sk-toggleable__control:checked~label.sk-toggleable__label-arrow:before {content: \"▾\";}#sk-container-id-1 div.sk-estimator input.sk-toggleable__control:checked~label.sk-toggleable__label {background-color: #d4ebff;}#sk-container-id-1 div.sk-label input.sk-toggleable__control:checked~label.sk-toggleable__label {background-color: #d4ebff;}#sk-container-id-1 input.sk-hidden--visually {border: 0;clip: rect(1px 1px 1px 1px);clip: rect(1px, 1px, 1px, 1px);height: 1px;margin: -1px;overflow: hidden;padding: 0;position: absolute;width: 1px;}#sk-container-id-1 div.sk-estimator {font-family: monospace;background-color: #f0f8ff;border: 1px dotted black;border-radius: 0.25em;box-sizing: border-box;margin-bottom: 0.5em;}#sk-container-id-1 div.sk-estimator:hover {background-color: #d4ebff;}#sk-container-id-1 div.sk-parallel-item::after {content: \"\";width: 100%;border-bottom: 1px solid gray;flex-grow: 1;}#sk-container-id-1 div.sk-label:hover label.sk-toggleable__label {background-color: #d4ebff;}#sk-container-id-1 div.sk-serial::before {content: \"\";position: absolute;border-left: 1px solid gray;box-sizing: border-box;top: 0;bottom: 0;left: 50%;z-index: 0;}#sk-container-id-1 div.sk-serial {display: flex;flex-direction: column;align-items: center;background-color: white;padding-right: 0.2em;padding-left: 0.2em;position: relative;}#sk-container-id-1 div.sk-item {position: relative;z-index: 1;}#sk-container-id-1 div.sk-parallel {display: flex;align-items: stretch;justify-content: center;background-color: white;position: relative;}#sk-container-id-1 div.sk-item::before, #sk-container-id-1 div.sk-parallel-item::before {content: \"\";position: absolute;border-left: 1px solid gray;box-sizing: border-box;top: 0;bottom: 0;left: 50%;z-index: -1;}#sk-container-id-1 div.sk-parallel-item {display: flex;flex-direction: column;z-index: 1;position: relative;background-color: white;}#sk-container-id-1 div.sk-parallel-item:first-child::after {align-self: flex-end;width: 50%;}#sk-container-id-1 div.sk-parallel-item:last-child::after {align-self: flex-start;width: 50%;}#sk-container-id-1 div.sk-parallel-item:only-child::after {width: 0;}#sk-container-id-1 div.sk-dashed-wrapped {border: 1px dashed gray;margin: 0 0.4em 0.5em 0.4em;box-sizing: border-box;padding-bottom: 0.4em;background-color: white;}#sk-container-id-1 div.sk-label label {font-family: monospace;font-weight: bold;display: inline-block;line-height: 1.2em;}#sk-container-id-1 div.sk-label-container {text-align: center;}#sk-container-id-1 div.sk-container {/* jupyter's `normalize.less` sets `[hidden] { display: none; }` but bootstrap.min.css set `[hidden] { display: none !important; }` so we also need the `!important` here to be able to override the default hidden behavior on the sphinx rendered scikit-learn.org. See: https://github.com/scikit-learn/scikit-learn/issues/21755 */display: inline-block !important;position: relative;}#sk-container-id-1 div.sk-text-repr-fallback {display: none;}</style><div id=\"sk-container-id-1\" class=\"sk-top-container\"><div class=\"sk-text-repr-fallback\"><pre>SGDClassifier(random_state=42)</pre><b>In a Jupyter environment, please rerun this cell to show the HTML representation or trust the notebook. <br />On GitHub, the HTML representation is unable to render, please try loading this page with nbviewer.org.</b></div><div class=\"sk-container\" hidden><div class=\"sk-item\"><div class=\"sk-estimator sk-toggleable\"><input class=\"sk-toggleable__control sk-hidden--visually\" id=\"sk-estimator-id-1\" type=\"checkbox\" checked><label for=\"sk-estimator-id-1\" class=\"sk-toggleable__label sk-toggleable__label-arrow\">SGDClassifier</label><div class=\"sk-toggleable__content\"><pre>SGDClassifier(random_state=42)</pre></div></div></div></div></div>"
            ]
          },
          "metadata": {},
          "execution_count": 13
        }
      ]
    },
    {
      "cell_type": "code",
      "source": [
        "sgd_clf.predict([some_digit])"
      ],
      "metadata": {
        "colab": {
          "base_uri": "https://localhost:8080/"
        },
        "id": "Vfh_QDKTodSf",
        "outputId": "c84f8e40-0f9e-47e0-ea9a-32fa3331b6d8"
      },
      "execution_count": null,
      "outputs": [
        {
          "output_type": "stream",
          "name": "stderr",
          "text": [
            "/usr/local/lib/python3.10/dist-packages/sklearn/base.py:439: UserWarning: X does not have valid feature names, but SGDClassifier was fitted with feature names\n",
            "  warnings.warn(\n"
          ]
        },
        {
          "output_type": "execute_result",
          "data": {
            "text/plain": [
              "array([ True])"
            ]
          },
          "metadata": {},
          "execution_count": 14
        }
      ]
    },
    {
      "cell_type": "markdown",
      "source": [
        "### Analysing classifier performance"
      ],
      "metadata": {
        "id": "Ozw-8YXeRGJL"
      }
    },
    {
      "cell_type": "markdown",
      "source": [
        "**Cross-Validation Score**\n",
        "\n",
        "the cross_val_score() function to evaluate your SGDClassifier model using K-fold cross-validation, with three folds. K-fold crossvalidation means splitting the training set into K-folds (in this case, three), then making predictions and evaluating them on each fold using a model trained on the\n",
        "remaining folds"
      ],
      "metadata": {
        "id": "zNs3n7rcyy8y"
      }
    },
    {
      "cell_type": "code",
      "source": [
        "from sklearn.model_selection import cross_val_score\n",
        "cross_val_score(sgd_clf, X_train, y_train_5, cv=3, scoring=\"accuracy\")"
      ],
      "metadata": {
        "colab": {
          "base_uri": "https://localhost:8080/"
        },
        "id": "jKyTFrZvytJf",
        "outputId": "7ad77792-6dc1-4dae-d989-8094e9fbe5d6"
      },
      "execution_count": null,
      "outputs": [
        {
          "output_type": "execute_result",
          "data": {
            "text/plain": [
              "array([0.95035, 0.96035, 0.9604 ])"
            ]
          },
          "metadata": {},
          "execution_count": 15
        }
      ]
    },
    {
      "cell_type": "code",
      "source": [
        "from sklearn.model_selection import cross_val_predict"
      ],
      "metadata": {
        "id": "NVMFPG2kosZ2"
      },
      "execution_count": null,
      "outputs": []
    },
    {
      "cell_type": "code",
      "source": [
        "y_train_pred = cross_val_predict(sgd_clf, X_train, y_train_5, cv=3)"
      ],
      "metadata": {
        "id": "NSPBVeG6o0Bz"
      },
      "execution_count": null,
      "outputs": []
    },
    {
      "cell_type": "code",
      "source": [
        "from sklearn.metrics import confusion_matrix\n",
        "confusion_matrix(y_train_5, y_train_pred)"
      ],
      "metadata": {
        "colab": {
          "base_uri": "https://localhost:8080/"
        },
        "id": "TIeyTDuU8Un_",
        "outputId": "d6652266-2f44-44e6-9a05-d11a59c60a15"
      },
      "execution_count": null,
      "outputs": [
        {
          "output_type": "execute_result",
          "data": {
            "text/plain": [
              "array([[53892,   687],\n",
              "       [ 1891,  3530]])"
            ]
          },
          "metadata": {},
          "execution_count": 18
        }
      ]
    },
    {
      "cell_type": "markdown",
      "source": [
        "#### Confusion Matrix, Precision, Recall, and PR Curve"
      ],
      "metadata": {
        "id": "M-SaJvOWYuba"
      }
    },
    {
      "cell_type": "markdown",
      "source": [
        "The confusion matrix gives you a lot of information, but sometimes you may prefer a more concise metric. An interesting one to look at is the accuracy of the positive predictions; this is called the precision of the classifier.\n",
        "\n",
        "precision = TP/(TP+FP)"
      ],
      "metadata": {
        "id": "aTmuATGfNT_1"
      }
    },
    {
      "cell_type": "code",
      "source": [
        "from sklearn.metrics import precision_score, recall_score, f1_score, precision_recall_curve\n",
        "\n",
        "precision_score(y_train_5, y_train_pred)"
      ],
      "metadata": {
        "colab": {
          "base_uri": "https://localhost:8080/"
        },
        "id": "FLm0m3lF8xhj",
        "outputId": "cff5fe3c-f619-41b4-eb17-e50ed39ae2c5"
      },
      "execution_count": null,
      "outputs": [
        {
          "output_type": "execute_result",
          "data": {
            "text/plain": [
              "0.8370879772350012"
            ]
          },
          "metadata": {},
          "execution_count": 19
        }
      ]
    },
    {
      "cell_type": "markdown",
      "source": [
        "recall, also called sensitivity or true positive rate (TPR) this is the ratio of positive instances that are correctly detected by the classifier.\n",
        "\n",
        "recall = TP/(TP+FN)"
      ],
      "metadata": {
        "id": "fEZv5ARBNd8C"
      }
    },
    {
      "cell_type": "code",
      "source": [
        "recall_score(y_train_5, y_train_pred)"
      ],
      "metadata": {
        "colab": {
          "base_uri": "https://localhost:8080/"
        },
        "id": "jWsBGri89nfc",
        "outputId": "2c5a3ea0-026d-4ed8-b098-55c71d321ca3"
      },
      "execution_count": null,
      "outputs": [
        {
          "output_type": "execute_result",
          "data": {
            "text/plain": [
              "0.6511713705958311"
            ]
          },
          "metadata": {},
          "execution_count": 20
        }
      ]
    },
    {
      "cell_type": "markdown",
      "source": [
        "It is often convenient to combine precision and recall into a single metric called the F1 score, in particular if you need a simple way to compare two classifiers. The F1 score is the harmonic mean of precision and recall.\n",
        "\n",
        "F1 = 2/(1/precision + 1/recall)"
      ],
      "metadata": {
        "id": "iG0bHOShN60B"
      }
    },
    {
      "cell_type": "code",
      "source": [
        "f1_score(y_train_5, y_train_pred)"
      ],
      "metadata": {
        "colab": {
          "base_uri": "https://localhost:8080/"
        },
        "id": "x8vDEDVv91-p",
        "outputId": "dc3c5ba8-cba8-4c53-f537-f3e0751e253b"
      },
      "execution_count": null,
      "outputs": [
        {
          "output_type": "execute_result",
          "data": {
            "text/plain": [
              "0.7325171197343846"
            ]
          },
          "metadata": {},
          "execution_count": 21
        }
      ]
    },
    {
      "cell_type": "markdown",
      "source": [
        "increasing precision reduces recall, and vice versa. This is called the recision/recall tradeoff. To select appropriate precision and recall, one can plot precision and recall curves against the threshold or can directly plot precision and recall. The choice of threshold depends upon the different use cases."
      ],
      "metadata": {
        "id": "LZtjYI88OUoF"
      }
    },
    {
      "cell_type": "code",
      "source": [
        "y_scores = cross_val_predict(sgd_clf, X_train, y_train_5, cv=3,method=\"decision_function\")"
      ],
      "metadata": {
        "id": "mC0fCj4iRsNT"
      },
      "execution_count": null,
      "outputs": []
    },
    {
      "cell_type": "code",
      "source": [
        "precisions, recalls, thresholds = precision_recall_curve(y_train_5, y_scores)"
      ],
      "metadata": {
        "id": "hgWMNLgaXmXv"
      },
      "execution_count": null,
      "outputs": []
    },
    {
      "cell_type": "code",
      "source": [
        "def plot_precision_recall_vs_threshold(precisions, recalls, thresholds):\n",
        "  plt.plot(thresholds, precisions[:-1], \"b--\", label=\"Precision\")\n",
        "  plt.plot(thresholds, recalls[:-1], \"g-\", label=\"Recall\")\n",
        "\n",
        "plot_precision_recall_vs_threshold(precisions, recalls, thresholds)\n",
        "plt.show()"
      ],
      "metadata": {
        "colab": {
          "base_uri": "https://localhost:8080/",
          "height": 430
        },
        "id": "wKp9BmIvXtJf",
        "outputId": "e6c9b106-81c7-4183-b1af-db2694699530"
      },
      "execution_count": null,
      "outputs": [
        {
          "output_type": "display_data",
          "data": {
            "text/plain": [
              "<Figure size 640x480 with 1 Axes>"
            ],
            "image/png": "[encoded data removed]"
          },
          "metadata": {}
        }
      ]
    },
    {
      "cell_type": "code",
      "source": [
        "def plot_pr_curve(precisions, recalls, label=None):\n",
        "  plt.plot(precisions, recalls, linewidth=2, label=label)\n",
        "  plt.xlabel(\"Recall\")\n",
        "  plt.ylabel(\"Precision\")\n",
        "  plt.grid(True)\n",
        "\n",
        "\n",
        "plot_pr_curve(precisions, recalls, label=None)\n",
        "plt.show()"
      ],
      "metadata": {
        "colab": {
          "base_uri": "https://localhost:8080/",
          "height": 449
        },
        "id": "6euG3b8pYAdD",
        "outputId": "3ef30d74-7f48-4a64-a85e-3decd42b7b56"
      },
      "execution_count": null,
      "outputs": [
        {
          "output_type": "display_data",
          "data": {
            "text/plain": [
              "<Figure size 640x480 with 1 Axes>"
            ],
            "image/png": "[encoded data removed]"
          },
          "metadata": {}
        }
      ]
    },
    {
      "cell_type": "markdown",
      "source": [
        "**ROC (Receiver Operating Characterisitc) CURVE**\n",
        "\n",
        "ROC curve plots the true positive rate (another name for recall) against the false positive rate. The FPR is the ratio of negative instances that are incorrectly classified as positive. It is equal to one minus the true negative rate, which is the ratio of negative instances that are correctly classified as negative. The TNR is also called specificity. Hence the ROC curve plots sensitivity (recall) versus 1 – specificity."
      ],
      "metadata": {
        "id": "QDDKwxFhV-A9"
      }
    },
    {
      "cell_type": "code",
      "source": [
        "from sklearn.metrics import roc_curve, roc_auc_score"
      ],
      "metadata": {
        "id": "KKNusnbk-jnt"
      },
      "execution_count": null,
      "outputs": []
    },
    {
      "cell_type": "code",
      "source": [
        "fpr, tpr, thresholds = roc_curve(y_train_5, y_scores)"
      ],
      "metadata": {
        "id": "5a3_pmL4RPlt"
      },
      "execution_count": null,
      "outputs": []
    },
    {
      "cell_type": "code",
      "source": [
        "def plot_roc_curve(fpr, tpr, label=None):\n",
        "  plt.plot(fpr, tpr, linewidth=2, label=label)\n",
        "  plt.plot([0, 1], [0, 1], 'k--') # dashed diagonal\n",
        "  plt.xlabel(\"False Positive Rate (1-True Negative Rate(specificity))\")\n",
        "  plt.ylabel(\"True Positive Rate - Recall (sensitivity)\")\n",
        "  plt.grid(True)\n",
        "\n",
        "\n",
        "plot_roc_curve(fpr, tpr)\n",
        "plt.show()\n"
      ],
      "metadata": {
        "colab": {
          "base_uri": "https://localhost:8080/",
          "height": 449
        },
        "id": "pvASkai7Rm8w",
        "outputId": "6b40f579-0d01-4113-f7ac-8a0982603189"
      },
      "execution_count": null,
      "outputs": [
        {
          "output_type": "display_data",
          "data": {
            "text/plain": [
              "<Figure size 640x480 with 1 Axes>"
            ],
            "image/png": "[encoded data removed]"
          },
          "metadata": {}
        }
      ]
    },
    {
      "cell_type": "markdown",
      "source": [
        "One way to compare classifiers is to measure the area under the curve (AUC). A perfect classifier will have a ROC AUC equal to 1, whereas a purely random classifier will have a ROC AUC equal to 0.5. Scikit-Learn provides a function to compute the ROC AUC"
      ],
      "metadata": {
        "id": "_YnZhAFfWns0"
      }
    },
    {
      "cell_type": "code",
      "source": [
        "roc_auc_score(y_train_5, y_scores)"
      ],
      "metadata": {
        "colab": {
          "base_uri": "https://localhost:8080/"
        },
        "id": "Vyky9p3-SUU9",
        "outputId": "181d3438-356b-436c-ace4-56a400f5238e"
      },
      "execution_count": null,
      "outputs": [
        {
          "output_type": "execute_result",
          "data": {
            "text/plain": [
              "0.9604938554008616"
            ]
          },
          "metadata": {},
          "execution_count": 29
        }
      ]
    },
    {
      "cell_type": "markdown",
      "source": [
        "**Important**\n",
        "Since the ROC curve is so similar to the precision/recall (or PR) curve, you may wonder how to decide which one to use. As a rule of thumb, you should prefer the PR curve whenever the positive class is rare or when you care more about the false positives than the false negatives, and the ROC curve otherwise. For example, looking at the previous ROC curve (and the ROC AUC score), you may think that the classifier is really good. But this is mostly\n",
        "because there are few positives (5s) compared to the negatives (non-5s). In contrast, the PR curve makes it clear that the classifier has room for improvement (the curve could be closer to the topright corner)."
      ],
      "metadata": {
        "id": "1bxePVK1XGvC"
      }
    },
    {
      "cell_type": "code",
      "source": [],
      "metadata": {
        "id": "WWjYK3EDVXVM"
      },
      "execution_count": null,
      "outputs": []
    }
  ]
}