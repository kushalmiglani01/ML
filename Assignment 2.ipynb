<!DOCTYPE html>
<html>
<head><meta charset="utf-8" />
<title>Assignment 2</title>

<script src="https://cdnjs.cloudflare.com/ajax/libs/require.js/2.1.10/require.min.js"></script>
<script src="https://cdnjs.cloudflare.com/ajax/libs/jquery/2.0.3/jquery.min.js"></script>

<style type="text/css">
    /*!
*
* Twitter Bootstrap
*
*/
/*!
 * Bootstrap v3.3.6 (http://getbootstrap.com)
 * Copyright 2011-2015 Twitter, Inc.
 * Licensed under MIT (https://github.com/twbs/bootstrap/blob/master/LICENSE)
 */
/*! normalize.css v3.0.3 | MIT License | github.com/necolas/normalize.css */
html {
  font-family: sans-serif;
  -ms-text-size-adjust: 100%;
  -webkit-text-size-adjust: 100%;
}
body {
  margin: 0;
}
article,
aside,
details,
figcaption,
figure,
footer,
header,
hgroup,
main,
menu,
nav,
section,
summary {
  display: block;
}
audio,
canvas,
progress,
video {
  display: inline-block;
  vertical-align: baseline;
}
audio:not([controls]) {
  display: none;
  height: 0;
}
[hidden],
template {
  display: none;
}
a {
  background-color: transparent;
}
a:active,
a:hover {
  outline: 0;
}
abbr[title] {
  border-bottom: 1px dotted;
}
b,
strong {
  font-weight: bold;
}
dfn {
  font-style: italic;
}
h1 {
  font-size: 2em;
  margin: 0.67em 0;
}
mark {
  background: #ff0;
  color: #000;
}
small {
  font-size: 80%;
}
sub,
sup {
  font-size: 75%;
  line-height: 0;
  position: relative;
  vertical-align: baseline;
}
sup {
  top: -0.5em;
}
sub {
  bottom: -0.25em;
}
img {
  border: 0;
}
svg:not(:root) {
  overflow: hidden;
}
figure {
  margin: 1em 40px;
}
hr {
  box-sizing: content-box;
  height: 0;
}
pre {
  overflow: auto;
}
code,
kbd,
pre,
samp {
  font-family: monospace, monospace;
  font-size: 1em;
}
button,
input,
optgroup,
select,
textarea {
  color: inherit;
  font: inherit;
  margin: 0;
}
button {
  overflow: visible;
}
button,
select {
  text-transform: none;
}
button,
html input[type="button"],
input[type="reset"],
input[type="submit"] {
  -webkit-appearance: button;
  cursor: pointer;
}
button[disabled],
html input[disabled] {
  cursor: default;
}
button::-moz-focus-inner,
input::-moz-focus-inner {
  border: 0;
  padding: 0;
}
input {
  line-height: normal;
}
input[type="checkbox"],
input[type="radio"] {
  box-sizing: border-box;
  padding: 0;
}
input[type="number"]::-webkit-inner-spin-button,
input[type="number"]::-webkit-outer-spin-button {
  height: auto;
}
input[type="search"] {
  -webkit-appearance: textfield;
  box-sizing: content-box;
}
input[type="search"]::-webkit-search-cancel-button,
input[type="search"]::-webkit-search-decoration {
  -webkit-appearance: none;
}
fieldset {
  border: 1px solid #c0c0c0;
  margin: 0 2px;
  padding: 0.35em 0.625em 0.75em;
}
legend {
  border: 0;
  padding: 0;
}
textarea {
  overflow: auto;
}
optgroup {
  font-weight: bold;
}
table {
  border-collapse: collapse;
  border-spacing: 0;
}
td,
th {
  padding: 0;
}
/*! Source: https://github.com/h5bp/html5-boilerplate/blob/master/src/css/main.css */
@media print {
  *,
  *:before,
  *:after {
    background: transparent !important;
    color: #000 !important;
    box-shadow: none !important;
    text-shadow: none !important;
  }
  a,
  a:visited {
    text-decoration: underline;
  }
  a[href]:after {
    content: " (" attr(href) ")";
  }
  abbr[title]:after {
    content: " (" attr(title) ")";
  }
  a[href^="#"]:after,
  a[href^="javascript:"]:after {
    content: "";
  }
  pre,
  blockquote {
    border: 1px solid #999;
    page-break-inside: avoid;
  }
  thead {
    display: table-header-group;
  }
  tr,
  img {
    page-break-inside: avoid;
  }
  img {
    max-width: 100% !important;
  }
  p,
  h2,
  h3 {
    orphans: 3;
    widows: 3;
  }
  h2,
  h3 {
    page-break-after: avoid;
  }
  .navbar {
    display: none;
  }
  .btn > .caret,
  .dropup > .btn > .caret {
    border-top-color: #000 !important;
  }
  .label {
    border: 1px solid #000;
  }
  .table {
    border-collapse: collapse !important;
  }
  .table td,
  .table th {
    background-color: #fff !important;
  }
  .table-bordered th,
  .table-bordered td {
    border: 1px solid #ddd !important;
  }
}
@font-face {
  font-family: 'Glyphicons Halflings';
  src: url('../components/bootstrap/fonts/glyphicons-halflings-regular.eot');
  src: url('../components/bootstrap/fonts/glyphicons-halflings-regular.eot?#iefix') format('embedded-opentype'), url('../components/bootstrap/fonts/glyphicons-halflings-regular.woff2') format('woff2'), url('../components/bootstrap/fonts/glyphicons-halflings-regular.woff') format('woff'), url('../components/bootstrap/fonts/glyphicons-halflings-regular.ttf') format('truetype'), url('../components/bootstrap/fonts/glyphicons-halflings-regular.svg#glyphicons_halflingsregular') format('svg');
}
.glyphicon {
  position: relative;
  top: 1px;
  display: inline-block;
  font-family: 'Glyphicons Halflings';
  font-style: normal;
  font-weight: normal;
  line-height: 1;
  -webkit-font-smoothing: antialiased;
  -moz-osx-font-smoothing: grayscale;
}
.glyphicon-asterisk:before {
  content: "\002a";
}
.glyphicon-plus:before {
  content: "\002b";
}
.glyphicon-euro:before,
.glyphicon-eur:before {
  content: "\20ac";
}
.glyphicon-minus:before {
  content: "\2212";
}
.glyphicon-cloud:before {
  content: "\2601";
}
.glyphicon-envelope:before {
  content: "\2709";
}
.glyphicon-pencil:before {
  content: "\270f";
}
.glyphicon-glass:before {
  content: "\e001";
}
.glyphicon-music:before {
  content: "\e002";
}
.glyphicon-search:before {
  content: "\e003";
}
.glyphicon-heart:before {
  content: "\e005";
}
.glyphicon-star:before {
  content: "\e006";
}
.glyphicon-star-empty:before {
  content: "\e007";
}
.glyphicon-user:before {
  content: "\e008";
}
.glyphicon-film:before {
  content: "\e009";
}
.glyphicon-th-large:before {
  content: "\e010";
}
.glyphicon-th:before {
  content: "\e011";
}
.glyphicon-th-list:before {
  content: "\e012";
}
.glyphicon-ok:before {
  content: "\e013";
}
.glyphicon-remove:before {
  content: "\e014";
}
.glyphicon-zoom-in:before {
  content: "\e015";
}
.glyphicon-zoom-out:before {
  content: "\e016";
}
.glyphicon-off:before {
  content: "\e017";
}
.glyphicon-signal:before {
  content: "\e018";
}
.glyphicon-cog:before {
  content: "\e019";
}
.glyphicon-trash:before {
  content: "\e020";
}
.glyphicon-home:before {
  content: "\e021";
}
.glyphicon-file:before {
  content: "\e022";
}
.glyphicon-time:before {
  content: "\e023";
}
.glyphicon-road:before {
  content: "\e024";
}
.glyphicon-download-alt:before {
  content: "\e025";
}
.glyphicon-download:before {
  content: "\e026";
}
.glyphicon-upload:before {
  content: "\e027";
}
.glyphicon-inbox:before {
  content: "\e028";
}
.glyphicon-play-circle:before {
  content: "\e029";
}
.glyphicon-repeat:before {
  content: "\e030";
}
.glyphicon-refresh:before {
  content: "\e031";
}
.glyphicon-list-alt:before {
  content: "\e032";
}
.glyphicon-lock:before {
  content: "\e033";
}
.glyphicon-flag:before {
  content: "\e034";
}
.glyphicon-headphones:before {
  content: "\e035";
}
.glyphicon-volume-off:before {
  content: "\e036";
}
.glyphicon-volume-down:before {
  content: "\e037";
}
.glyphicon-volume-up:before {
  content: "\e038";
}
.glyphicon-qrcode:before {
  content: "\e039";
}
.glyphicon-barcode:before {
  content: "\e040";
}
.glyphicon-tag:before {
  content: "\e041";
}
.glyphicon-tags:before {
  content: "\e042";
}
.glyphicon-book:before {
  content: "\e043";
}
.glyphicon-bookmark:before {
  content: "\e044";
}
.glyphicon-print:before {
  content: "\e045";
}
.glyphicon-camera:before {
  content: "\e046";
}
.glyphicon-font:before {
  content: "\e047";
}
.glyphicon-bold:before {
  content: "\e048";
}
.glyphicon-italic:before {
  content: "\e049";
}
.glyphicon-text-height:before {
  content: "\e050";
}
.glyphicon-text-width:before {
  content: "\e051";
}
.glyphicon-align-left:before {
  content: "\e052";
}
.glyphicon-align-center:before {
  content: "\e053";
}
.glyphicon-align-right:before {
  content: "\e054";
}
.glyphicon-align-justify:before {
  content: "\e055";
}
.glyphicon-list:before {
  content: "\e056";
}
.glyphicon-indent-left:before {
  content: "\e057";
}
.glyphicon-indent-right:before {
  content: "\e058";
}
.glyphicon-facetime-video:before {
  content: "\e059";
}
.glyphicon-picture:before {
  content: "\e060";
}
.glyphicon-map-marker:before {
  content: "\e062";
}
.glyphicon-adjust:before {
  content: "\e063";
}
.glyphicon-tint:before {
  content: "\e064";
}
.glyphicon-edit:before {
  content: "\e065";
}
.glyphicon-share:before {
  content: "\e066";
}
.glyphicon-check:before {
  content: "\e067";
}
.glyphicon-move:before {
  content: "\e068";
}
.glyphicon-step-backward:before {
  content: "\e069";
}
.glyphicon-fast-backward:before {
  content: "\e070";
}
.glyphicon-backward:before {
  content: "\e071";
}
.glyphicon-play:before {
  content: "\e072";
}
.glyphicon-pause:before {
  content: "\e073";
}
.glyphicon-stop:before {
  content: "\e074";
}
.glyphicon-forward:before {
  content: "\e075";
}
.glyphicon-fast-forward:before {
  content: "\e076";
}
.glyphicon-step-forward:before {
  content: "\e077";
}
.glyphicon-eject:before {
  content: "\e078";
}
.glyphicon-chevron-left:before {
  content: "\e079";
}
.glyphicon-chevron-right:before {
  content: "\e080";
}
.glyphicon-plus-sign:before {
  content: "\e081";
}
.glyphicon-minus-sign:before {
  content: "\e082";
}
.glyphicon-remove-sign:before {
  content: "\e083";
}
.glyphicon-ok-sign:before {
  content: "\e084";
}
.glyphicon-question-sign:before {
  content: "\e085";
}
.glyphicon-info-sign:before {
  content: "\e086";
}
.glyphicon-screenshot:before {
  content: "\e087";
}
.glyphicon-remove-circle:before {
  content: "\e088";
}
.glyphicon-ok-circle:before {
  content: "\e089";
}
.glyphicon-ban-circle:before {
  content: "\e090";
}
.glyphicon-arrow-left:before {
  content: "\e091";
}
.glyphicon-arrow-right:before {
  content: "\e092";
}
.glyphicon-arrow-up:before {
  content: "\e093";
}
.glyphicon-arrow-down:before {
  content: "\e094";
}
.glyphicon-share-alt:before {
  content: "\e095";
}
.glyphicon-resize-full:before {
  content: "\e096";
}
.glyphicon-resize-small:before {
  content: "\e097";
}
.glyphicon-exclamation-sign:before {
  content: "\e101";
}
.glyphicon-gift:before {
  content: "\e102";
}
.glyphicon-leaf:before {
  content: "\e103";
}
.glyphicon-fire:before {
  content: "\e104";
}
.glyphicon-eye-open:before {
  content: "\e105";
}
.glyphicon-eye-close:before {
  content: "\e106";
}
.glyphicon-warning-sign:before {
  content: "\e107";
}
.glyphicon-plane:before {
  content: "\e108";
}
.glyphicon-calendar:before {
  content: "\e109";
}
.glyphicon-random:before {
  content: "\e110";
}
.glyphicon-comment:before {
  content: "\e111";
}
.glyphicon-magnet:before {
  content: "\e112";
}
.glyphicon-chevron-up:before {
  content: "\e113";
}
.glyphicon-chevron-down:before {
  content: "\e114";
}
.glyphicon-retweet:before {
  content: "\e115";
}
.glyphicon-shopping-cart:before {
  content: "\e116";
}
.glyphicon-folder-close:before {
  content: "\e117";
}
.glyphicon-folder-open:before {
  content: "\e118";
}
.glyphicon-resize-vertical:before {
  content: "\e119";
}
.glyphicon-resize-horizontal:before {
  content: "\e120";
}
.glyphicon-hdd:before {
  content: "\e121";
}
.glyphicon-bullhorn:before {
  content: "\e122";
}
.glyphicon-bell:before {
  content: "\e123";
}
.glyphicon-certificate:before {
  content: "\e124";
}
.glyphicon-thumbs-up:before {
  content: "\e125";
}
.glyphicon-thumbs-down:before {
  content: "\e126";
}
.glyphicon-hand-right:before {
  content: "\e127";
}
.glyphicon-hand-left:before {
  content: "\e128";
}
.glyphicon-hand-up:before {
  content: "\e129";
}
.glyphicon-hand-down:before {
  content: "\e130";
}
.glyphicon-circle-arrow-right:before {
  content: "\e131";
}
.glyphicon-circle-arrow-left:before {
  content: "\e132";
}
.glyphicon-circle-arrow-up:before {
  content: "\e133";
}
.glyphicon-circle-arrow-down:before {
  content: "\e134";
}
.glyphicon-globe:before {
  content: "\e135";
}
.glyphicon-wrench:before {
  content: "\e136";
}
.glyphicon-tasks:before {
  content: "\e137";
}
.glyphicon-filter:before {
  content: "\e138";
}
.glyphicon-briefcase:before {
  content: "\e139";
}
.glyphicon-fullscreen:before {
  content: "\e140";
}
.glyphicon-dashboard:before {
  content: "\e141";
}
.glyphicon-paperclip:before {
  content: "\e142";
}
.glyphicon-heart-empty:before {
  content: "\e143";
}
.glyphicon-link:before {
  content: "\e144";
}
.glyphicon-phone:before {
  content: "\e145";
}
.glyphicon-pushpin:before {
  content: "\e146";
}
.glyphicon-usd:before {
  content: "\e148";
}
.glyphicon-gbp:before {
  content: "\e149";
}
.glyphicon-sort:before {
  content: "\e150";
}
.glyphicon-sort-by-alphabet:before {
  content: "\e151";
}
.glyphicon-sort-by-alphabet-alt:before {
  content: "\e152";
}
.glyphicon-sort-by-order:before {
  content: "\e153";
}
.glyphicon-sort-by-order-alt:before {
  content: "\e154";
}
.glyphicon-sort-by-attributes:before {
  content: "\e155";
}
.glyphicon-sort-by-attributes-alt:before {
  content: "\e156";
}
.glyphicon-unchecked:before {
  content: "\e157";
}
.glyphicon-expand:before {
  content: "\e158";
}
.glyphicon-collapse-down:before {
  content: "\e159";
}
.glyphicon-collapse-up:before {
  content: "\e160";
}
.glyphicon-log-in:before {
  content: "\e161";
}
.glyphicon-flash:before {
  content: "\e162";
}
.glyphicon-log-out:before {
  content: "\e163";
}
.glyphicon-new-window:before {
  content: "\e164";
}
.glyphicon-record:before {
  content: "\e165";
}
.glyphicon-save:before {
  content: "\e166";
}
.glyphicon-open:before {
  content: "\e167";
}
.glyphicon-saved:before {
  content: "\e168";
}
.glyphicon-import:before {
  content: "\e169";
}
.glyphicon-export:before {
  content: "\e170";
}
.glyphicon-send:before {
  content: "\e171";
}
.glyphicon-floppy-disk:before {
  content: "\e172";
}
.glyphicon-floppy-saved:before {
  content: "\e173";
}
.glyphicon-floppy-remove:before {
  content: "\e174";
}
.glyphicon-floppy-save:before {
  content: "\e175";
}
.glyphicon-floppy-open:before {
  content: "\e176";
}
.glyphicon-credit-card:before {
  content: "\e177";
}
.glyphicon-transfer:before {
  content: "\e178";
}
.glyphicon-cutlery:before {
  content: "\e179";
}
.glyphicon-header:before {
  content: "\e180";
}
.glyphicon-compressed:before {
  content: "\e181";
}
.glyphicon-earphone:before {
  content: "\e182";
}
.glyphicon-phone-alt:before {
  content: "\e183";
}
.glyphicon-tower:before {
  content: "\e184";
}
.glyphicon-stats:before {
  content: "\e185";
}
.glyphicon-sd-video:before {
  content: "\e186";
}
.glyphicon-hd-video:before {
  content: "\e187";
}
.glyphicon-subtitles:before {
  content: "\e188";
}
.glyphicon-sound-stereo:before {
  content: "\e189";
}
.glyphicon-sound-dolby:before {
  content: "\e190";
}
.glyphicon-sound-5-1:before {
  content: "\e191";
}
.glyphicon-sound-6-1:before {
  content: "\e192";
}
.glyphicon-sound-7-1:before {
  content: "\e193";
}
.glyphicon-copyright-mark:before {
  content: "\e194";
}
.glyphicon-registration-mark:before {
  content: "\e195";
}
.glyphicon-cloud-download:before {
  content: "\e197";
}
.glyphicon-cloud-upload:before {
  content: "\e198";
}
.glyphicon-tree-conifer:before {
  content: "\e199";
}
.glyphicon-tree-deciduous:before {
  content: "\e200";
}
.glyphicon-cd:before {
  content: "\e201";
}
.glyphicon-save-file:before {
  content: "\e202";
}
.glyphicon-open-file:before {
  content: "\e203";
}
.glyphicon-level-up:before {
  content: "\e204";
}
.glyphicon-copy:before {
  content: "\e205";
}
.glyphicon-paste:before {
  content: "\e206";
}
.glyphicon-alert:before {
  content: "\e209";
}
.glyphicon-equalizer:before {
  content: "\e210";
}
.glyphicon-king:before {
  content: "\e211";
}
.glyphicon-queen:before {
  content: "\e212";
}
.glyphicon-pawn:before {
  content: "\e213";
}
.glyphicon-bishop:before {
  content: "\e214";
}
.glyphicon-knight:before {
  content: "\e215";
}
.glyphicon-baby-formula:before {
  content: "\e216";
}
.glyphicon-tent:before {
  content: "\26fa";
}
.glyphicon-blackboard:before {
  content: "\e218";
}
.glyphicon-bed:before {
  content: "\e219";
}
.glyphicon-apple:before {
  content: "\f8ff";
}
.glyphicon-erase:before {
  content: "\e221";
}
.glyphicon-hourglass:before {
  content: "\231b";
}
.glyphicon-lamp:before {
  content: "\e223";
}
.glyphicon-duplicate:before {
  content: "\e224";
}
.glyphicon-piggy-bank:before {
  content: "\e225";
}
.glyphicon-scissors:before {
  content: "\e226";
}
.glyphicon-bitcoin:before {
  content: "\e227";
}
.glyphicon-btc:before {
  content: "\e227";
}
.glyphicon-xbt:before {
  content: "\e227";
}
.glyphicon-yen:before {
  content: "\00a5";
}
.glyphicon-jpy:before {
  content: "\00a5";
}
.glyphicon-ruble:before {
  content: "\20bd";
}
.glyphicon-rub:before {
  content: "\20bd";
}
.glyphicon-scale:before {
  content: "\e230";
}
.glyphicon-ice-lolly:before {
  content: "\e231";
}
.glyphicon-ice-lolly-tasted:before {
  content: "\e232";
}
.glyphicon-education:before {
  content: "\e233";
}
.glyphicon-option-horizontal:before {
  content: "\e234";
}
.glyphicon-option-vertical:before {
  content: "\e235";
}
.glyphicon-menu-hamburger:before {
  content: "\e236";
}
.glyphicon-modal-window:before {
  content: "\e237";
}
.glyphicon-oil:before {
  content: "\e238";
}
.glyphicon-grain:before {
  content: "\e239";
}
.glyphicon-sunglasses:before {
  content: "\e240";
}
.glyphicon-text-size:before {
  content: "\e241";
}
.glyphicon-text-color:before {
  content: "\e242";
}
.glyphicon-text-background:before {
  content: "\e243";
}
.glyphicon-object-align-top:before {
  content: "\e244";
}
.glyphicon-object-align-bottom:before {
  content: "\e245";
}
.glyphicon-object-align-horizontal:before {
  content: "\e246";
}
.glyphicon-object-align-left:before {
  content: "\e247";
}
.glyphicon-object-align-vertical:before {
  content: "\e248";
}
.glyphicon-object-align-right:before {
  content: "\e249";
}
.glyphicon-triangle-right:before {
  content: "\e250";
}
.glyphicon-triangle-left:before {
  content: "\e251";
}
.glyphicon-triangle-bottom:before {
  content: "\e252";
}
.glyphicon-triangle-top:before {
  content: "\e253";
}
.glyphicon-console:before {
  content: "\e254";
}
.glyphicon-superscript:before {
  content: "\e255";
}
.glyphicon-subscript:before {
  content: "\e256";
}
.glyphicon-menu-left:before {
  content: "\e257";
}
.glyphicon-menu-right:before {
  content: "\e258";
}
.glyphicon-menu-down:before {
  content: "\e259";
}
.glyphicon-menu-up:before {
  content: "\e260";
}
* {
  -webkit-box-sizing: border-box;
  -moz-box-sizing: border-box;
  box-sizing: border-box;
}
*:before,
*:after {
  -webkit-box-sizing: border-box;
  -moz-box-sizing: border-box;
  box-sizing: border-box;
}
html {
  font-size: 10px;
  -webkit-tap-highlight-color: rgba(0, 0, 0, 0);
}
body {
  font-family: "Helvetica Neue", Helvetica, Arial, sans-serif;
  font-size: 13px;
  line-height: 1.42857143;
  color: #000;
  background-color: #fff;
}
input,
button,
select,
textarea {
  font-family: inherit;
  font-size: inherit;
  line-height: inherit;
}
a {
  color: #337ab7;
  text-decoration: none;
}
a:hover,
a:focus {
  color: #23527c;
  text-decoration: underline;
}
a:focus {
  outline: thin dotted;
  outline: 5px auto -webkit-focus-ring-color;
  outline-offset: -2px;
}
figure {
  margin: 0;
}
img {
  vertical-align: middle;
}
.img-responsive,
.thumbnail > img,
.thumbnail a > img,
.carousel-inner > .item > img,
.carousel-inner > .item > a > img {
  display: block;
  max-width: 100%;
  height: auto;
}
.img-rounded {
  border-radius: 3px;
}
.img-thumbnail {
  padding: 4px;
  line-height: 1.42857143;
  background-color: #fff;
  border: 1px solid #ddd;
  border-radius: 2px;
  -webkit-transition: all 0.2s ease-in-out;
  -o-transition: all 0.2s ease-in-out;
  transition: all 0.2s ease-in-out;
  display: inline-block;
  max-width: 100%;
  height: auto;
}
.img-circle {
  border-radius: 50%;
}
hr {
  margin-top: 18px;
  margin-bottom: 18px;
  border: 0;
  border-top: 1px solid #eeeeee;
}
.sr-only {
  position: absolute;
  width: 1px;
  height: 1px;
  margin: -1px;
  padding: 0;
  overflow: hidden;
  clip: rect(0, 0, 0, 0);
  border: 0;
}
.sr-only-focusable:active,
.sr-only-focusable:focus {
  position: static;
  width: auto;
  height: auto;
  margin: 0;
  overflow: visible;
  clip: auto;
}
[role="button"] {
  cursor: pointer;
}
h1,
h2,
h3,
h4,
h5,
h6,
.h1,
.h2,
.h3,
.h4,
.h5,
.h6 {
  font-family: inherit;
  font-weight: 500;
  line-height: 1.1;
  color: inherit;
}
h1 small,
h2 small,
h3 small,
h4 small,
h5 small,
h6 small,
.h1 small,
.h2 small,
.h3 small,
.h4 small,
.h5 small,
.h6 small,
h1 .small,
h2 .small,
h3 .small,
h4 .small,
h5 .small,
h6 .small,
.h1 .small,
.h2 .small,
.h3 .small,
.h4 .small,
.h5 .small,
.h6 .small {
  font-weight: normal;
  line-height: 1;
  color: #777777;
}
h1,
.h1,
h2,
.h2,
h3,
.h3 {
  margin-top: 18px;
  margin-bottom: 9px;
}
h1 small,
.h1 small,
h2 small,
.h2 small,
h3 small,
.h3 small,
h1 .small,
.h1 .small,
h2 .small,
.h2 .small,
h3 .small,
.h3 .small {
  font-size: 65%;
}
h4,
.h4,
h5,
.h5,
h6,
.h6 {
  margin-top: 9px;
  margin-bottom: 9px;
}
h4 small,
.h4 small,
h5 small,
.h5 small,
h6 small,
.h6 small,
h4 .small,
.h4 .small,
h5 .small,
.h5 .small,
h6 .small,
.h6 .small {
  font-size: 75%;
}
h1,
.h1 {
  font-size: 33px;
}
h2,
.h2 {
  font-size: 27px;
}
h3,
.h3 {
  font-size: 23px;
}
h4,
.h4 {
  font-size: 17px;
}
h5,
.h5 {
  font-size: 13px;
}
h6,
.h6 {
  font-size: 12px;
}
p {
  margin: 0 0 9px;
}
.lead {
  margin-bottom: 18px;
  font-size: 14px;
  font-weight: 300;
  line-height: 1.4;
}
@media (min-width: 768px) {
  .lead {
    font-size: 19.5px;
  }
}
small,
.small {
  font-size: 92%;
}
mark,
.mark {
  background-color: #fcf8e3;
  padding: .2em;
}
.text-left {
  text-align: left;
}
.text-right {
  text-align: right;
}
.text-center {
  text-align: center;
}
.text-justify {
  text-align: justify;
}
.text-nowrap {
  white-space: nowrap;
}
.text-lowercase {
  text-transform: lowercase;
}
.text-uppercase {
  text-transform: uppercase;
}
.text-capitalize {
  text-transform: capitalize;
}
.text-muted {
  color: #777777;
}
.text-primary {
  color: #337ab7;
}
a.text-primary:hover,
a.text-primary:focus {
  color: #286090;
}
.text-success {
  color: #3c763d;
}
a.text-success:hover,
a.text-success:focus {
  color: #2b542c;
}
.text-info {
  color: #31708f;
}
a.text-info:hover,
a.text-info:focus {
  color: #245269;
}
.text-warning {
  color: #8a6d3b;
}
a.text-warning:hover,
a.text-warning:focus {
  color: #66512c;
}
.text-danger {
  color: #a94442;
}
a.text-danger:hover,
a.text-danger:focus {
  color: #843534;
}
.bg-primary {
  color: #fff;
  background-color: #337ab7;
}
a.bg-primary:hover,
a.bg-primary:focus {
  background-color: #286090;
}
.bg-success {
  background-color: #dff0d8;
}
a.bg-success:hover,
a.bg-success:focus {
  background-color: #c1e2b3;
}
.bg-info {
  background-color: #d9edf7;
}
a.bg-info:hover,
a.bg-info:focus {
  background-color: #afd9ee;
}
.bg-warning {
  background-color: #fcf8e3;
}
a.bg-warning:hover,
a.bg-warning:focus {
  background-color: #f7ecb5;
}
.bg-danger {
  background-color: #f2dede;
}
a.bg-danger:hover,
a.bg-danger:focus {
  background-color: #e4b9b9;
}
.page-header {
  padding-bottom: 8px;
  margin: 36px 0 18px;
  border-bottom: 1px solid #eeeeee;
}
ul,
ol {
  margin-top: 0;
  margin-bottom: 9px;
}
ul ul,
ol ul,
ul ol,
ol ol {
  margin-bottom: 0;
}
.list-unstyled {
  padding-left: 0;
  list-style: none;
}
.list-inline {
  padding-left: 0;
  list-style: none;
  margin-left: -5px;
}
.list-inline > li {
  display: inline-block;
  padding-left: 5px;
  padding-right: 5px;
}
dl {
  margin-top: 0;
  margin-bottom: 18px;
}
dt,
dd {
  line-height: 1.42857143;
}
dt {
  font-weight: bold;
}
dd {
  margin-left: 0;
}
@media (min-width: 541px) {
  .dl-horizontal dt {
    float: left;
    width: 160px;
    clear: left;
    text-align: right;
    overflow: hidden;
    text-overflow: ellipsis;
    white-space: nowrap;
  }
  .dl-horizontal dd {
    margin-left: 180px;
  }
}
abbr[title],
abbr[data-original-title] {
  cursor: help;
  border-bottom: 1px dotted #777777;
}
.initialism {
  font-size: 90%;
  text-transform: uppercase;
}
blockquote {
  padding: 9px 18px;
  margin: 0 0 18px;
  font-size: inherit;
  border-left: 5px solid #eeeeee;
}
blockquote p:last-child,
blockquote ul:last-child,
blockquote ol:last-child {
  margin-bottom: 0;
}
blockquote footer,
blockquote small,
blockquote .small {
  display: block;
  font-size: 80%;
  line-height: 1.42857143;
  color: #777777;
}
blockquote footer:before,
blockquote small:before,
blockquote .small:before {
  content: '\2014 \00A0';
}
.blockquote-reverse,
blockquote.pull-right {
  padding-right: 15px;
  padding-left: 0;
  border-right: 5px solid #eeeeee;
  border-left: 0;
  text-align: right;
}
.blockquote-reverse footer:before,
blockquote.pull-right footer:before,
.blockquote-reverse small:before,
blockquote.pull-right small:before,
.blockquote-reverse .small:before,
blockquote.pull-right .small:before {
  content: '';
}
.blockquote-reverse footer:after,
blockquote.pull-right footer:after,
.blockquote-reverse small:after,
blockquote.pull-right small:after,
.blockquote-reverse .small:after,
blockquote.pull-right .small:after {
  content: '\00A0 \2014';
}
address {
  margin-bottom: 18px;
  font-style: normal;
  line-height: 1.42857143;
}
code,
kbd,
pre,
samp {
  font-family: monospace;
}
code {
  padding: 2px 4px;
  font-size: 90%;
  color: #c7254e;
  background-color: #f9f2f4;
  border-radius: 2px;
}
kbd {
  padding: 2px 4px;
  font-size: 90%;
  color: #888;
  background-color: transparent;
  border-radius: 1px;
  box-shadow: inset 0 -1px 0 rgba(0, 0, 0, 0.25);
}
kbd kbd {
  padding: 0;
  font-size: 100%;
  font-weight: bold;
  box-shadow: none;
}
pre {
  display: block;
  padding: 8.5px;
  margin: 0 0 9px;
  font-size: 12px;
  line-height: 1.42857143;
  word-break: break-all;
  word-wrap: break-word;
  color: #333333;
  background-color: #f5f5f5;
  border: 1px solid #ccc;
  border-radius: 2px;
}
pre code {
  padding: 0;
  font-size: inherit;
  color: inherit;
  white-space: pre-wrap;
  background-color: transparent;
  border-radius: 0;
}
.pre-scrollable {
  max-height: 340px;
  overflow-y: scroll;
}
.container {
  margin-right: auto;
  margin-left: auto;
  padding-left: 0px;
  padding-right: 0px;
}
@media (min-width: 768px) {
  .container {
    width: 768px;
  }
}
@media (min-width: 992px) {
  .container {
    width: 940px;
  }
}
@media (min-width: 1200px) {
  .container {
    width: 1140px;
  }
}
.container-fluid {
  margin-right: auto;
  margin-left: auto;
  padding-left: 0px;
  padding-right: 0px;
}
.row {
  margin-left: 0px;
  margin-right: 0px;
}
.col-xs-1, .col-sm-1, .col-md-1, .col-lg-1, .col-xs-2, .col-sm-2, .col-md-2, .col-lg-2, .col-xs-3, .col-sm-3, .col-md-3, .col-lg-3, .col-xs-4, .col-sm-4, .col-md-4, .col-lg-4, .col-xs-5, .col-sm-5, .col-md-5, .col-lg-5, .col-xs-6, .col-sm-6, .col-md-6, .col-lg-6, .col-xs-7, .col-sm-7, .col-md-7, .col-lg-7, .col-xs-8, .col-sm-8, .col-md-8, .col-lg-8, .col-xs-9, .col-sm-9, .col-md-9, .col-lg-9, .col-xs-10, .col-sm-10, .col-md-10, .col-lg-10, .col-xs-11, .col-sm-11, .col-md-11, .col-lg-11, .col-xs-12, .col-sm-12, .col-md-12, .col-lg-12 {
  position: relative;
  min-height: 1px;
  padding-left: 0px;
  padding-right: 0px;
}
.col-xs-1, .col-xs-2, .col-xs-3, .col-xs-4, .col-xs-5, .col-xs-6, .col-xs-7, .col-xs-8, .col-xs-9, .col-xs-10, .col-xs-11, .col-xs-12 {
  float: left;
}
.col-xs-12 {
  width: 100%;
}
.col-xs-11 {
  width: 91.66666667%;
}
.col-xs-10 {
  width: 83.33333333%;
}
.col-xs-9 {
  width: 75%;
}
.col-xs-8 {
  width: 66.66666667%;
}
.col-xs-7 {
  width: 58.33333333%;
}
.col-xs-6 {
  width: 50%;
}
.col-xs-5 {
  width: 41.66666667%;
}
.col-xs-4 {
  width: 33.33333333%;
}
.col-xs-3 {
  width: 25%;
}
.col-xs-2 {
  width: 16.66666667%;
}
.col-xs-1 {
  width: 8.33333333%;
}
.col-xs-pull-12 {
  right: 100%;
}
.col-xs-pull-11 {
  right: 91.66666667%;
}
.col-xs-pull-10 {
  right: 83.33333333%;
}
.col-xs-pull-9 {
  right: 75%;
}
.col-xs-pull-8 {
  right: 66.66666667%;
}
.col-xs-pull-7 {
  right: 58.33333333%;
}
.col-xs-pull-6 {
  right: 50%;
}
.col-xs-pull-5 {
  right: 41.66666667%;
}
.col-xs-pull-4 {
  right: 33.33333333%;
}
.col-xs-pull-3 {
  right: 25%;
}
.col-xs-pull-2 {
  right: 16.66666667%;
}
.col-xs-pull-1 {
  right: 8.33333333%;
}
.col-xs-pull-0 {
  right: auto;
}
.col-xs-push-12 {
  left: 100%;
}
.col-xs-push-11 {
  left: 91.66666667%;
}
.col-xs-push-10 {
  left: 83.33333333%;
}
.col-xs-push-9 {
  left: 75%;
}
.col-xs-push-8 {
  left: 66.66666667%;
}
.col-xs-push-7 {
  left: 58.33333333%;
}
.col-xs-push-6 {
  left: 50%;
}
.col-xs-push-5 {
  left: 41.66666667%;
}
.col-xs-push-4 {
  left: 33.33333333%;
}
.col-xs-push-3 {
  left: 25%;
}
.col-xs-push-2 {
  left: 16.66666667%;
}
.col-xs-push-1 {
  left: 8.33333333%;
}
.col-xs-push-0 {
  left: auto;
}
.col-xs-offset-12 {
  margin-left: 100%;
}
.col-xs-offset-11 {
  margin-left: 91.66666667%;
}
.col-xs-offset-10 {
  margin-left: 83.33333333%;
}
.col-xs-offset-9 {
  margin-left: 75%;
}
.col-xs-offset-8 {
  margin-left: 66.66666667%;
}
.col-xs-offset-7 {
  margin-left: 58.33333333%;
}
.col-xs-offset-6 {
  margin-left: 50%;
}
.col-xs-offset-5 {
  margin-left: 41.66666667%;
}
.col-xs-offset-4 {
  margin-left: 33.33333333%;
}
.col-xs-offset-3 {
  margin-left: 25%;
}
.col-xs-offset-2 {
  margin-left: 16.66666667%;
}
.col-xs-offset-1 {
  margin-left: 8.33333333%;
}
.col-xs-offset-0 {
  margin-left: 0%;
}
@media (min-width: 768px) {
  .col-sm-1, .col-sm-2, .col-sm-3, .col-sm-4, .col-sm-5, .col-sm-6, .col-sm-7, .col-sm-8, .col-sm-9, .col-sm-10, .col-sm-11, .col-sm-12 {
    float: left;
  }
  .col-sm-12 {
    width: 100%;
  }
  .col-sm-11 {
    width: 91.66666667%;
  }
  .col-sm-10 {
    width: 83.33333333%;
  }
  .col-sm-9 {
    width: 75%;
  }
  .col-sm-8 {
    width: 66.66666667%;
  }
  .col-sm-7 {
    width: 58.33333333%;
  }
  .col-sm-6 {
    width: 50%;
  }
  .col-sm-5 {
    width: 41.66666667%;
  }
  .col-sm-4 {
    width: 33.33333333%;
  }
  .col-sm-3 {
    width: 25%;
  }
  .col-sm-2 {
    width: 16.66666667%;
  }
  .col-sm-1 {
    width: 8.33333333%;
  }
  .col-sm-pull-12 {
    right: 100%;
  }
  .col-sm-pull-11 {
    right: 91.66666667%;
  }
  .col-sm-pull-10 {
    right: 83.33333333%;
  }
  .col-sm-pull-9 {
    right: 75%;
  }
  .col-sm-pull-8 {
    right: 66.66666667%;
  }
  .col-sm-pull-7 {
    right: 58.33333333%;
  }
  .col-sm-pull-6 {
    right: 50%;
  }
  .col-sm-pull-5 {
    right: 41.66666667%;
  }
  .col-sm-pull-4 {
    right: 33.33333333%;
  }
  .col-sm-pull-3 {
    right: 25%;
  }
  .col-sm-pull-2 {
    right: 16.66666667%;
  }
  .col-sm-pull-1 {
    right: 8.33333333%;
  }
  .col-sm-pull-0 {
    right: auto;
  }
  .col-sm-push-12 {
    left: 100%;
  }
  .col-sm-push-11 {
    left: 91.66666667%;
  }
  .col-sm-push-10 {
    left: 83.33333333%;
  }
  .col-sm-push-9 {
    left: 75%;
  }
  .col-sm-push-8 {
    left: 66.66666667%;
  }
  .col-sm-push-7 {
    left: 58.33333333%;
  }
  .col-sm-push-6 {
    left: 50%;
  }
  .col-sm-push-5 {
    left: 41.66666667%;
  }
  .col-sm-push-4 {
    left: 33.33333333%;
  }
  .col-sm-push-3 {
    left: 25%;
  }
  .col-sm-push-2 {
    left: 16.66666667%;
  }
  .col-sm-push-1 {
    left: 8.33333333%;
  }
  .col-sm-push-0 {
    left: auto;
  }
  .col-sm-offset-12 {
    margin-left: 100%;
  }
  .col-sm-offset-11 {
    margin-left: 91.66666667%;
  }
  .col-sm-offset-10 {
    margin-left: 83.33333333%;
  }
  .col-sm-offset-9 {
    margin-left: 75%;
  }
  .col-sm-offset-8 {
    margin-left: 66.66666667%;
  }
  .col-sm-offset-7 {
    margin-left: 58.33333333%;
  }
  .col-sm-offset-6 {
    margin-left: 50%;
  }
  .col-sm-offset-5 {
    margin-left: 41.66666667%;
  }
  .col-sm-offset-4 {
    margin-left: 33.33333333%;
  }
  .col-sm-offset-3 {
    margin-left: 25%;
  }
  .col-sm-offset-2 {
    margin-left: 16.66666667%;
  }
  .col-sm-offset-1 {
    margin-left: 8.33333333%;
  }
  .col-sm-offset-0 {
    margin-left: 0%;
  }
}
@media (min-width: 992px) {
  .col-md-1, .col-md-2, .col-md-3, .col-md-4, .col-md-5, .col-md-6, .col-md-7, .col-md-8, .col-md-9, .col-md-10, .col-md-11, .col-md-12 {
    float: left;
  }
  .col-md-12 {
    width: 100%;
  }
  .col-md-11 {
    width: 91.66666667%;
  }
  .col-md-10 {
    width: 83.33333333%;
  }
  .col-md-9 {
    width: 75%;
  }
  .col-md-8 {
    width: 66.66666667%;
  }
  .col-md-7 {
    width: 58.33333333%;
  }
  .col-md-6 {
    width: 50%;
  }
  .col-md-5 {
    width: 41.66666667%;
  }
  .col-md-4 {
    width: 33.33333333%;
  }
  .col-md-3 {
    width: 25%;
  }
  .col-md-2 {
    width: 16.66666667%;
  }
  .col-md-1 {
    width: 8.33333333%;
  }
  .col-md-pull-12 {
    right: 100%;
  }
  .col-md-pull-11 {
    right: 91.66666667%;
  }
  .col-md-pull-10 {
    right: 83.33333333%;
  }
  .col-md-pull-9 {
    right: 75%;
  }
  .col-md-pull-8 {
    right: 66.66666667%;
  }
  .col-md-pull-7 {
    right: 58.33333333%;
  }
  .col-md-pull-6 {
    right: 50%;
  }
  .col-md-pull-5 {
    right: 41.66666667%;
  }
  .col-md-pull-4 {
    right: 33.33333333%;
  }
  .col-md-pull-3 {
    right: 25%;
  }
  .col-md-pull-2 {
    right: 16.66666667%;
  }
  .col-md-pull-1 {
    right: 8.33333333%;
  }
  .col-md-pull-0 {
    right: auto;
  }
  .col-md-push-12 {
    left: 100%;
  }
  .col-md-push-11 {
    left: 91.66666667%;
  }
  .col-md-push-10 {
    left: 83.33333333%;
  }
  .col-md-push-9 {
    left: 75%;
  }
  .col-md-push-8 {
    left: 66.66666667%;
  }
  .col-md-push-7 {
    left: 58.33333333%;
  }
  .col-md-push-6 {
    left: 50%;
  }
  .col-md-push-5 {
    left: 41.66666667%;
  }
  .col-md-push-4 {
    left: 33.33333333%;
  }
  .col-md-push-3 {
    left: 25%;
  }
  .col-md-push-2 {
    left: 16.66666667%;
  }
  .col-md-push-1 {
    left: 8.33333333%;
  }
  .col-md-push-0 {
    left: auto;
  }
  .col-md-offset-12 {
    margin-left: 100%;
  }
  .col-md-offset-11 {
    margin-left: 91.66666667%;
  }
  .col-md-offset-10 {
    margin-left: 83.33333333%;
  }
  .col-md-offset-9 {
    margin-left: 75%;
  }
  .col-md-offset-8 {
    margin-left: 66.66666667%;
  }
  .col-md-offset-7 {
    margin-left: 58.33333333%;
  }
  .col-md-offset-6 {
    margin-left: 50%;
  }
  .col-md-offset-5 {
    margin-left: 41.66666667%;
  }
  .col-md-offset-4 {
    margin-left: 33.33333333%;
  }
  .col-md-offset-3 {
    margin-left: 25%;
  }
  .col-md-offset-2 {
    margin-left: 16.66666667%;
  }
  .col-md-offset-1 {
    margin-left: 8.33333333%;
  }
  .col-md-offset-0 {
    margin-left: 0%;
  }
}
@media (min-width: 1200px) {
  .col-lg-1, .col-lg-2, .col-lg-3, .col-lg-4, .col-lg-5, .col-lg-6, .col-lg-7, .col-lg-8, .col-lg-9, .col-lg-10, .col-lg-11, .col-lg-12 {
    float: left;
  }
  .col-lg-12 {
    width: 100%;
  }
  .col-lg-11 {
    width: 91.66666667%;
  }
  .col-lg-10 {
    width: 83.33333333%;
  }
  .col-lg-9 {
    width: 75%;
  }
  .col-lg-8 {
    width: 66.66666667%;
  }
  .col-lg-7 {
    width: 58.33333333%;
  }
  .col-lg-6 {
    width: 50%;
  }
  .col-lg-5 {
    width: 41.66666667%;
  }
  .col-lg-4 {
    width: 33.33333333%;
  }
  .col-lg-3 {
    width: 25%;
  }
  .col-lg-2 {
    width: 16.66666667%;
  }
  .col-lg-1 {
    width: 8.33333333%;
  }
  .col-lg-pull-12 {
    right: 100%;
  }
  .col-lg-pull-11 {
    right: 91.66666667%;
  }
  .col-lg-pull-10 {
    right: 83.33333333%;
  }
  .col-lg-pull-9 {
    right: 75%;
  }
  .col-lg-pull-8 {
    right: 66.66666667%;
  }
  .col-lg-pull-7 {
    right: 58.33333333%;
  }
  .col-lg-pull-6 {
    right: 50%;
  }
  .col-lg-pull-5 {
    right: 41.66666667%;
  }
  .col-lg-pull-4 {
    right: 33.33333333%;
  }
  .col-lg-pull-3 {
    right: 25%;
  }
  .col-lg-pull-2 {
    right: 16.66666667%;
  }
  .col-lg-pull-1 {
    right: 8.33333333%;
  }
  .col-lg-pull-0 {
    right: auto;
  }
  .col-lg-push-12 {
    left: 100%;
  }
  .col-lg-push-11 {
    left: 91.66666667%;
  }
  .col-lg-push-10 {
    left: 83.33333333%;
  }
  .col-lg-push-9 {
    left: 75%;
  }
  .col-lg-push-8 {
    left: 66.66666667%;
  }
  .col-lg-push-7 {
    left: 58.33333333%;
  }
  .col-lg-push-6 {
    left: 50%;
  }
  .col-lg-push-5 {
    left: 41.66666667%;
  }
  .col-lg-push-4 {
    left: 33.33333333%;
  }
  .col-lg-push-3 {
    left: 25%;
  }
  .col-lg-push-2 {
    left: 16.66666667%;
  }
  .col-lg-push-1 {
    left: 8.33333333%;
  }
  .col-lg-push-0 {
    left: auto;
  }
  .col-lg-offset-12 {
    margin-left: 100%;
  }
  .col-lg-offset-11 {
    margin-left: 91.66666667%;
  }
  .col-lg-offset-10 {
    margin-left: 83.33333333%;
  }
  .col-lg-offset-9 {
    margin-left: 75%;
  }
  .col-lg-offset-8 {
    margin-left: 66.66666667%;
  }
  .col-lg-offset-7 {
    margin-left: 58.33333333%;
  }
  .col-lg-offset-6 {
    margin-left: 50%;
  }
  .col-lg-offset-5 {
    margin-left: 41.66666667%;
  }
  .col-lg-offset-4 {
    margin-left: 33.33333333%;
  }
  .col-lg-offset-3 {
    margin-left: 25%;
  }
  .col-lg-offset-2 {
    margin-left: 16.66666667%;
  }
  .col-lg-offset-1 {
    margin-left: 8.33333333%;
  }
  .col-lg-offset-0 {
    margin-left: 0%;
  }
}
table {
  background-color: transparent;
}
caption {
  padding-top: 8px;
  padding-bottom: 8px;
  color: #777777;
  text-align: left;
}
th {
  text-align: left;
}
.table {
  width: 100%;
  max-width: 100%;
  margin-bottom: 18px;
}
.table > thead > tr > th,
.table > tbody > tr > th,
.table > tfoot > tr > th,
.table > thead > tr > td,
.table > tbody > tr > td,
.table > tfoot > tr > td {
  padding: 8px;
  line-height: 1.42857143;
  vertical-align: top;
  border-top: 1px solid #ddd;
}
.table > thead > tr > th {
  vertical-align: bottom;
  border-bottom: 2px solid #ddd;
}
.table > caption + thead > tr:first-child > th,
.table > colgroup + thead > tr:first-child > th,
.table > thead:first-child > tr:first-child > th,
.table > caption + thead > tr:first-child > td,
.table > colgroup + thead > tr:first-child > td,
.table > thead:first-child > tr:first-child > td {
  border-top: 0;
}
.table > tbody + tbody {
  border-top: 2px solid #ddd;
}
.table .table {
  background-color: #fff;
}
.table-condensed > thead > tr > th,
.table-condensed > tbody > tr > th,
.table-condensed > tfoot > tr > th,
.table-condensed > thead > tr > td,
.table-condensed > tbody > tr > td,
.table-condensed > tfoot > tr > td {
  padding: 5px;
}
.table-bordered {
  border: 1px solid #ddd;
}
.table-bordered > thead > tr > th,
.table-bordered > tbody > tr > th,
.table-bordered > tfoot > tr > th,
.table-bordered > thead > tr > td,
.table-bordered > tbody > tr > td,
.table-bordered > tfoot > tr > td {
  border: 1px solid #ddd;
}
.table-bordered > thead > tr > th,
.table-bordered > thead > tr > td {
  border-bottom-width: 2px;
}
.table-striped > tbody > tr:nth-of-type(odd) {
  background-color: #f9f9f9;
}
.table-hover > tbody > tr:hover {
  background-color: #f5f5f5;
}
table col[class*="col-"] {
  position: static;
  float: none;
  display: table-column;
}
table td[class*="col-"],
table th[class*="col-"] {
  position: static;
  float: none;
  display: table-cell;
}
.table > thead > tr > td.active,
.table > tbody > tr > td.active,
.table > tfoot > tr > td.active,
.table > thead > tr > th.active,
.table > tbody > tr > th.active,
.table > tfoot > tr > th.active,
.table > thead > tr.active > td,
.table > tbody > tr.active > td,
.table > tfoot > tr.active > td,
.table > thead > tr.active > th,
.table > tbody > tr.active > th,
.table > tfoot > tr.active > th {
  background-color: #f5f5f5;
}
.table-hover > tbody > tr > td.active:hover,
.table-hover > tbody > tr > th.active:hover,
.table-hover > tbody > tr.active:hover > td,
.table-hover > tbody > tr:hover > .active,
.table-hover > tbody > tr.active:hover > th {
  background-color: #e8e8e8;
}
.table > thead > tr > td.success,
.table > tbody > tr > td.success,
.table > tfoot > tr > td.success,
.table > thead > tr > th.success,
.table > tbody > tr > th.success,
.table > tfoot > tr > th.success,
.table > thead > tr.success > td,
.table > tbody > tr.success > td,
.table > tfoot > tr.success > td,
.table > thead > tr.success > th,
.table > tbody > tr.success > th,
.table > tfoot > tr.success > th {
  background-color: #dff0d8;
}
.table-hover > tbody > tr > td.success:hover,
.table-hover > tbody > tr > th.success:hover,
.table-hover > tbody > tr.success:hover > td,
.table-hover > tbody > tr:hover > .success,
.table-hover > tbody > tr.success:hover > th {
  background-color: #d0e9c6;
}
.table > thead > tr > td.info,
.table > tbody > tr > td.info,
.table > tfoot > tr > td.info,
.table > thead > tr > th.info,
.table > tbody > tr > th.info,
.table > tfoot > tr > th.info,
.table > thead > tr.info > td,
.table > tbody > tr.info > td,
.table > tfoot > tr.info > td,
.table > thead > tr.info > th,
.table > tbody > tr.info > th,
.table > tfoot > tr.info > th {
  background-color: #d9edf7;
}
.table-hover > tbody > tr > td.info:hover,
.table-hover > tbody > tr > th.info:hover,
.table-hover > tbody > tr.info:hover > td,
.table-hover > tbody > tr:hover > .info,
.table-hover > tbody > tr.info:hover > th {
  background-color: #c4e3f3;
}
.table > thead > tr > td.warning,
.table > tbody > tr > td.warning,
.table > tfoot > tr > td.warning,
.table > thead > tr > th.warning,
.table > tbody > tr > th.warning,
.table > tfoot > tr > th.warning,
.table > thead > tr.warning > td,
.table > tbody > tr.warning > td,
.table > tfoot > tr.warning > td,
.table > thead > tr.warning > th,
.table > tbody > tr.warning > th,
.table > tfoot > tr.warning > th {
  background-color: #fcf8e3;
}
.table-hover > tbody > tr > td.warning:hover,
.table-hover > tbody > tr > th.warning:hover,
.table-hover > tbody > tr.warning:hover > td,
.table-hover > tbody > tr:hover > .warning,
.table-hover > tbody > tr.warning:hover > th {
  background-color: #faf2cc;
}
.table > thead > tr > td.danger,
.table > tbody > tr > td.danger,
.table > tfoot > tr > td.danger,
.table > thead > tr > th.danger,
.table > tbody > tr > th.danger,
.table > tfoot > tr > th.danger,
.table > thead > tr.danger > td,
.table > tbody > tr.danger > td,
.table > tfoot > tr.danger > td,
.table > thead > tr.danger > th,
.table > tbody > tr.danger > th,
.table > tfoot > tr.danger > th {
  background-color: #f2dede;
}
.table-hover > tbody > tr > td.danger:hover,
.table-hover > tbody > tr > th.danger:hover,
.table-hover > tbody > tr.danger:hover > td,
.table-hover > tbody > tr:hover > .danger,
.table-hover > tbody > tr.danger:hover > th {
  background-color: #ebcccc;
}
.table-responsive {
  overflow-x: auto;
  min-height: 0.01%;
}
@media screen and (max-width: 767px) {
  .table-responsive {
    width: 100%;
    margin-bottom: 13.5px;
    overflow-y: hidden;
    -ms-overflow-style: -ms-autohiding-scrollbar;
    border: 1px solid #ddd;
  }
  .table-responsive > .table {
    margin-bottom: 0;
  }
  .table-responsive > .table > thead > tr > th,
  .table-responsive > .table > tbody > tr > th,
  .table-responsive > .table > tfoot > tr > th,
  .table-responsive > .table > thead > tr > td,
  .table-responsive > .table > tbody > tr > td,
  .table-responsive > .table > tfoot > tr > td {
    white-space: nowrap;
  }
  .table-responsive > .table-bordered {
    border: 0;
  }
  .table-responsive > .table-bordered > thead > tr > th:first-child,
  .table-responsive > .table-bordered > tbody > tr > th:first-child,
  .table-responsive > .table-bordered > tfoot > tr > th:first-child,
  .table-responsive > .table-bordered > thead > tr > td:first-child,
  .table-responsive > .table-bordered > tbody > tr > td:first-child,
  .table-responsive > .table-bordered > tfoot > tr > td:first-child {
    border-left: 0;
  }
  .table-responsive > .table-bordered > thead > tr > th:last-child,
  .table-responsive > .table-bordered > tbody > tr > th:last-child,
  .table-responsive > .table-bordered > tfoot > tr > th:last-child,
  .table-responsive > .table-bordered > thead > tr > td:last-child,
  .table-responsive > .table-bordered > tbody > tr > td:last-child,
  .table-responsive > .table-bordered > tfoot > tr > td:last-child {
    border-right: 0;
  }
  .table-responsive > .table-bordered > tbody > tr:last-child > th,
  .table-responsive > .table-bordered > tfoot > tr:last-child > th,
  .table-responsive > .table-bordered > tbody > tr:last-child > td,
  .table-responsive > .table-bordered > tfoot > tr:last-child > td {
    border-bottom: 0;
  }
}
fieldset {
  padding: 0;
  margin: 0;
  border: 0;
  min-width: 0;
}
legend {
  display: block;
  width: 100%;
  padding: 0;
  margin-bottom: 18px;
  font-size: 19.5px;
  line-height: inherit;
  color: #333333;
  border: 0;
  border-bottom: 1px solid #e5e5e5;
}
label {
  display: inline-block;
  max-width: 100%;
  margin-bottom: 5px;
  font-weight: bold;
}
input[type="search"] {
  -webkit-box-sizing: border-box;
  -moz-box-sizing: border-box;
  box-sizing: border-box;
}
input[type="radio"],
input[type="checkbox"] {
  margin: 4px 0 0;
  margin-top: 1px \9;
  line-height: normal;
}
input[type="file"] {
  display: block;
}
input[type="range"] {
  display: block;
  width: 100%;
}
select[multiple],
select[size] {
  height: auto;
}
input[type="file"]:focus,
input[type="radio"]:focus,
input[type="checkbox"]:focus {
  outline: thin dotted;
  outline: 5px auto -webkit-focus-ring-color;
  outline-offset: -2px;
}
output {
  display: block;
  padding-top: 7px;
  font-size: 13px;
  line-height: 1.42857143;
  color: #555555;
}
.form-control {
  display: block;
  width: 100%;
  height: 32px;
  padding: 6px 12px;
  font-size: 13px;
  line-height: 1.42857143;
  color: #555555;
  background-color: #fff;
  background-image: none;
  border: 1px solid #ccc;
  border-radius: 2px;
  -webkit-box-shadow: inset 0 1px 1px rgba(0, 0, 0, 0.075);
  box-shadow: inset 0 1px 1px rgba(0, 0, 0, 0.075);
  -webkit-transition: border-color ease-in-out .15s, box-shadow ease-in-out .15s;
  -o-transition: border-color ease-in-out .15s, box-shadow ease-in-out .15s;
  transition: border-color ease-in-out .15s, box-shadow ease-in-out .15s;
}
.form-control:focus {
  border-color: #66afe9;
  outline: 0;
  -webkit-box-shadow: inset 0 1px 1px rgba(0,0,0,.075), 0 0 8px rgba(102, 175, 233, 0.6);
  box-shadow: inset 0 1px 1px rgba(0,0,0,.075), 0 0 8px rgba(102, 175, 233, 0.6);
}
.form-control::-moz-placeholder {
  color: #999;
  opacity: 1;
}
.form-control:-ms-input-placeholder {
  color: #999;
}
.form-control::-webkit-input-placeholder {
  color: #999;
}
.form-control::-ms-expand {
  border: 0;
  background-color: transparent;
}
.form-control[disabled],
.form-control[readonly],
fieldset[disabled] .form-control {
  background-color: #eeeeee;
  opacity: 1;
}
.form-control[disabled],
fieldset[disabled] .form-control {
  cursor: not-allowed;
}
textarea.form-control {
  height: auto;
}
input[type="search"] {
  -webkit-appearance: none;
}
@media screen and (-webkit-min-device-pixel-ratio: 0) {
  input[type="date"].form-control,
  input[type="time"].form-control,
  input[type="datetime-local"].form-control,
  input[type="month"].form-control {
    line-height: 32px;
  }
  input[type="date"].input-sm,
  input[type="time"].input-sm,
  input[type="datetime-local"].input-sm,
  input[type="month"].input-sm,
  .input-group-sm input[type="date"],
  .input-group-sm input[type="time"],
  .input-group-sm input[type="datetime-local"],
  .input-group-sm input[type="month"] {
    line-height: 30px;
  }
  input[type="date"].input-lg,
  input[type="time"].input-lg,
  input[type="datetime-local"].input-lg,
  input[type="month"].input-lg,
  .input-group-lg input[type="date"],
  .input-group-lg input[type="time"],
  .input-group-lg input[type="datetime-local"],
  .input-group-lg input[type="month"] {
    line-height: 45px;
  }
}
.form-group {
  margin-bottom: 15px;
}
.radio,
.checkbox {
  position: relative;
  display: block;
  margin-top: 10px;
  margin-bottom: 10px;
}
.radio label,
.checkbox label {
  min-height: 18px;
  padding-left: 20px;
  margin-bottom: 0;
  font-weight: normal;
  cursor: pointer;
}
.radio input[type="radio"],
.radio-inline input[type="radio"],
.checkbox input[type="checkbox"],
.checkbox-inline input[type="checkbox"] {
  position: absolute;
  margin-left: -20px;
  margin-top: 4px \9;
}
.radio + .radio,
.checkbox + .checkbox {
  margin-top: -5px;
}
.radio-inline,
.checkbox-inline {
  position: relative;
  display: inline-block;
  padding-left: 20px;
  margin-bottom: 0;
  vertical-align: middle;
  font-weight: normal;
  cursor: pointer;
}
.radio-inline + .radio-inline,
.checkbox-inline + .checkbox-inline {
  margin-top: 0;
  margin-left: 10px;
}
input[type="radio"][disabled],
input[type="checkbox"][disabled],
input[type="radio"].disabled,
input[type="checkbox"].disabled,
fieldset[disabled] input[type="radio"],
fieldset[disabled] input[type="checkbox"] {
  cursor: not-allowed;
}
.radio-inline.disabled,
.checkbox-inline.disabled,
fieldset[disabled] .radio-inline,
fieldset[disabled] .checkbox-inline {
  cursor: not-allowed;
}
.radio.disabled label,
.checkbox.disabled label,
fieldset[disabled] .radio label,
fieldset[disabled] .checkbox label {
  cursor: not-allowed;
}
.form-control-static {
  padding-top: 7px;
  padding-bottom: 7px;
  margin-bottom: 0;
  min-height: 31px;
}
.form-control-static.input-lg,
.form-control-static.input-sm {
  padding-left: 0;
  padding-right: 0;
}
.input-sm {
  height: 30px;
  padding: 5px 10px;
  font-size: 12px;
  line-height: 1.5;
  border-radius: 1px;
}
select.input-sm {
  height: 30px;
  line-height: 30px;
}
textarea.input-sm,
select[multiple].input-sm {
  height: auto;
}
.form-group-sm .form-control {
  height: 30px;
  padding: 5px 10px;
  font-size: 12px;
  line-height: 1.5;
  border-radius: 1px;
}
.form-group-sm select.form-control {
  height: 30px;
  line-height: 30px;
}
.form-group-sm textarea.form-control,
.form-group-sm select[multiple].form-control {
  height: auto;
}
.form-group-sm .form-control-static {
  height: 30px;
  min-height: 30px;
  padding: 6px 10px;
  font-size: 12px;
  line-height: 1.5;
}
.input-lg {
  height: 45px;
  padding: 10px 16px;
  font-size: 17px;
  line-height: 1.3333333;
  border-radius: 3px;
}
select.input-lg {
  height: 45px;
  line-height: 45px;
}
textarea.input-lg,
select[multiple].input-lg {
  height: auto;
}
.form-group-lg .form-control {
  height: 45px;
  padding: 10px 16px;
  font-size: 17px;
  line-height: 1.3333333;
  border-radius: 3px;
}
.form-group-lg select.form-control {
  height: 45px;
  line-height: 45px;
}
.form-group-lg textarea.form-control,
.form-group-lg select[multiple].form-control {
  height: auto;
}
.form-group-lg .form-control-static {
  height: 45px;
  min-height: 35px;
  padding: 11px 16px;
  font-size: 17px;
  line-height: 1.3333333;
}
.has-feedback {
  position: relative;
}
.has-feedback .form-control {
  padding-right: 40px;
}
.form-control-feedback {
  position: absolute;
  top: 0;
  right: 0;
  z-index: 2;
  display: block;
  width: 32px;
  height: 32px;
  line-height: 32px;
  text-align: center;
  pointer-events: none;
}
.input-lg + .form-control-feedback,
.input-group-lg + .form-control-feedback,
.form-group-lg .form-control + .form-control-feedback {
  width: 45px;
  height: 45px;
  line-height: 45px;
}
.input-sm + .form-control-feedback,
.input-group-sm + .form-control-feedback,
.form-group-sm .form-control + .form-control-feedback {
  width: 30px;
  height: 30px;
  line-height: 30px;
}
.has-success .help-block,
.has-success .control-label,
.has-success .radio,
.has-success .checkbox,
.has-success .radio-inline,
.has-success .checkbox-inline,
.has-success.radio label,
.has-success.checkbox label,
.has-success.radio-inline label,
.has-success.checkbox-inline label {
  color: #3c763d;
}
.has-success .form-control {
  border-color: #3c763d;
  -webkit-box-shadow: inset 0 1px 1px rgba(0, 0, 0, 0.075);
  box-shadow: inset 0 1px 1px rgba(0, 0, 0, 0.075);
}
.has-success .form-control:focus {
  border-color: #2b542c;
  -webkit-box-shadow: inset 0 1px 1px rgba(0, 0, 0, 0.075), 0 0 6px #67b168;
  box-shadow: inset 0 1px 1px rgba(0, 0, 0, 0.075), 0 0 6px #67b168;
}
.has-success .input-group-addon {
  color: #3c763d;
  border-color: #3c763d;
  background-color: #dff0d8;
}
.has-success .form-control-feedback {
  color: #3c763d;
}
.has-warning .help-block,
.has-warning .control-label,
.has-warning .radio,
.has-warning .checkbox,
.has-warning .radio-inline,
.has-warning .checkbox-inline,
.has-warning.radio label,
.has-warning.checkbox label,
.has-warning.radio-inline label,
.has-warning.checkbox-inline label {
  color: #8a6d3b;
}
.has-warning .form-control {
  border-color: #8a6d3b;
  -webkit-box-shadow: inset 0 1px 1px rgba(0, 0, 0, 0.075);
  box-shadow: inset 0 1px 1px rgba(0, 0, 0, 0.075);
}
.has-warning .form-control:focus {
  border-color: #66512c;
  -webkit-box-shadow: inset 0 1px 1px rgba(0, 0, 0, 0.075), 0 0 6px #c0a16b;
  box-shadow: inset 0 1px 1px rgba(0, 0, 0, 0.075), 0 0 6px #c0a16b;
}
.has-warning .input-group-addon {
  color: #8a6d3b;
  border-color: #8a6d3b;
  background-color: #fcf8e3;
}
.has-warning .form-control-feedback {
  color: #8a6d3b;
}
.has-error .help-block,
.has-error .control-label,
.has-error .radio,
.has-error .checkbox,
.has-error .radio-inline,
.has-error .checkbox-inline,
.has-error.radio label,
.has-error.checkbox label,
.has-error.radio-inline label,
.has-error.checkbox-inline label {
  color: #a94442;
}
.has-error .form-control {
  border-color: #a94442;
  -webkit-box-shadow: inset 0 1px 1px rgba(0, 0, 0, 0.075);
  box-shadow: inset 0 1px 1px rgba(0, 0, 0, 0.075);
}
.has-error .form-control:focus {
  border-color: #843534;
  -webkit-box-shadow: inset 0 1px 1px rgba(0, 0, 0, 0.075), 0 0 6px #ce8483;
  box-shadow: inset 0 1px 1px rgba(0, 0, 0, 0.075), 0 0 6px #ce8483;
}
.has-error .input-group-addon {
  color: #a94442;
  border-color: #a94442;
  background-color: #f2dede;
}
.has-error .form-control-feedback {
  color: #a94442;
}
.has-feedback label ~ .form-control-feedback {
  top: 23px;
}
.has-feedback label.sr-only ~ .form-control-feedback {
  top: 0;
}
.help-block {
  display: block;
  margin-top: 5px;
  margin-bottom: 10px;
  color: #404040;
}
@media (min-width: 768px) {
  .form-inline .form-group {
    display: inline-block;
    margin-bottom: 0;
    vertical-align: middle;
  }
  .form-inline .form-control {
    display: inline-block;
    width: auto;
    vertical-align: middle;
  }
  .form-inline .form-control-static {
    display: inline-block;
  }
  .form-inline .input-group {
    display: inline-table;
    vertical-align: middle;
  }
  .form-inline .input-group .input-group-addon,
  .form-inline .input-group .input-group-btn,
  .form-inline .input-group .form-control {
    width: auto;
  }
  .form-inline .input-group > .form-control {
    width: 100%;
  }
  .form-inline .control-label {
    margin-bottom: 0;
    vertical-align: middle;
  }
  .form-inline .radio,
  .form-inline .checkbox {
    display: inline-block;
    margin-top: 0;
    margin-bottom: 0;
    vertical-align: middle;
  }
  .form-inline .radio label,
  .form-inline .checkbox label {
    padding-left: 0;
  }
  .form-inline .radio input[type="radio"],
  .form-inline .checkbox input[type="checkbox"] {
    position: relative;
    margin-left: 0;
  }
  .form-inline .has-feedback .form-control-feedback {
    top: 0;
  }
}
.form-horizontal .radio,
.form-horizontal .checkbox,
.form-horizontal .radio-inline,
.form-horizontal .checkbox-inline {
  margin-top: 0;
  margin-bottom: 0;
  padding-top: 7px;
}
.form-horizontal .radio,
.form-horizontal .checkbox {
  min-height: 25px;
}
.form-horizontal .form-group {
  margin-left: 0px;
  margin-right: 0px;
}
@media (min-width: 768px) {
  .form-horizontal .control-label {
    text-align: right;
    margin-bottom: 0;
    padding-top: 7px;
  }
}
.form-horizontal .has-feedback .form-control-feedback {
  right: 0px;
}
@media (min-width: 768px) {
  .form-horizontal .form-group-lg .control-label {
    padding-top: 11px;
    font-size: 17px;
  }
}
@media (min-width: 768px) {
  .form-horizontal .form-group-sm .control-label {
    padding-top: 6px;
    font-size: 12px;
  }
}
.btn {
  display: inline-block;
  margin-bottom: 0;
  font-weight: normal;
  text-align: center;
  vertical-align: middle;
  touch-action: manipulation;
  cursor: pointer;
  background-image: none;
  border: 1px solid transparent;
  white-space: nowrap;
  padding: 6px 12px;
  font-size: 13px;
  line-height: 1.42857143;
  border-radius: 2px;
  -webkit-user-select: none;
  -moz-user-select: none;
  -ms-user-select: none;
  user-select: none;
}
.btn:focus,
.btn:active:focus,
.btn.active:focus,
.btn.focus,
.btn:active.focus,
.btn.active.focus {
  outline: thin dotted;
  outline: 5px auto -webkit-focus-ring-color;
  outline-offset: -2px;
}
.btn:hover,
.btn:focus,
.btn.focus {
  color: #333;
  text-decoration: none;
}
.btn:active,
.btn.active {
  outline: 0;
  background-image: none;
  -webkit-box-shadow: inset 0 3px 5px rgba(0, 0, 0, 0.125);
  box-shadow: inset 0 3px 5px rgba(0, 0, 0, 0.125);
}
.btn.disabled,
.btn[disabled],
fieldset[disabled] .btn {
  cursor: not-allowed;
  opacity: 0.65;
  filter: alpha(opacity=65);
  -webkit-box-shadow: none;
  box-shadow: none;
}
a.btn.disabled,
fieldset[disabled] a.btn {
  pointer-events: none;
}
.btn-default {
  color: #333;
  background-color: #fff;
  border-color: #ccc;
}
.btn-default:focus,
.btn-default.focus {
  color: #333;
  background-color: #e6e6e6;
  border-color: #8c8c8c;
}
.btn-default:hover {
  color: #333;
  background-color: #e6e6e6;
  border-color: #adadad;
}
.btn-default:active,
.btn-default.active,
.open > .dropdown-toggle.btn-default {
  color: #333;
  background-color: #e6e6e6;
  border-color: #adadad;
}
.btn-default:active:hover,
.btn-default.active:hover,
.open > .dropdown-toggle.btn-default:hover,
.btn-default:active:focus,
.btn-default.active:focus,
.open > .dropdown-toggle.btn-default:focus,
.btn-default:active.focus,
.btn-default.active.focus,
.open > .dropdown-toggle.btn-default.focus {
  color: #333;
  background-color: #d4d4d4;
  border-color: #8c8c8c;
}
.btn-default:active,
.btn-default.active,
.open > .dropdown-toggle.btn-default {
  background-image: none;
}
.btn-default.disabled:hover,
.btn-default[disabled]:hover,
fieldset[disabled] .btn-default:hover,
.btn-default.disabled:focus,
.btn-default[disabled]:focus,
fieldset[disabled] .btn-default:focus,
.btn-default.disabled.focus,
.btn-default[disabled].focus,
fieldset[disabled] .btn-default.focus {
  background-color: #fff;
  border-color: #ccc;
}
.btn-default .badge {
  color: #fff;
  background-color: #333;
}
.btn-primary {
  color: #fff;
  background-color: #337ab7;
  border-color: #2e6da4;
}
.btn-primary:focus,
.btn-primary.focus {
  color: #fff;
  background-color: #286090;
  border-color: #122b40;
}
.btn-primary:hover {
  color: #fff;
  background-color: #286090;
  border-color: #204d74;
}
.btn-primary:active,
.btn-primary.active,
.open > .dropdown-toggle.btn-primary {
  color: #fff;
  background-color: #286090;
  border-color: #204d74;
}
.btn-primary:active:hover,
.btn-primary.active:hover,
.open > .dropdown-toggle.btn-primary:hover,
.btn-primary:active:focus,
.btn-primary.active:focus,
.open > .dropdown-toggle.btn-primary:focus,
.btn-primary:active.focus,
.btn-primary.active.focus,
.open > .dropdown-toggle.btn-primary.focus {
  color: #fff;
  background-color: #204d74;
  border-color: #122b40;
}
.btn-primary:active,
.btn-primary.active,
.open > .dropdown-toggle.btn-primary {
  background-image: none;
}
.btn-primary.disabled:hover,
.btn-primary[disabled]:hover,
fieldset[disabled] .btn-primary:hover,
.btn-primary.disabled:focus,
.btn-primary[disabled]:focus,
fieldset[disabled] .btn-primary:focus,
.btn-primary.disabled.focus,
.btn-primary[disabled].focus,
fieldset[disabled] .btn-primary.focus {
  background-color: #337ab7;
  border-color: #2e6da4;
}
.btn-primary .badge {
  color: #337ab7;
  background-color: #fff;
}
.btn-success {
  color: #fff;
  background-color: #5cb85c;
  border-color: #4cae4c;
}
.btn-success:focus,
.btn-success.focus {
  color: #fff;
  background-color: #449d44;
  border-color: #255625;
}
.btn-success:hover {
  color: #fff;
  background-color: #449d44;
  border-color: #398439;
}
.btn-success:active,
.btn-success.active,
.open > .dropdown-toggle.btn-success {
  color: #fff;
  background-color: #449d44;
  border-color: #398439;
}
.btn-success:active:hover,
.btn-success.active:hover,
.open > .dropdown-toggle.btn-success:hover,
.btn-success:active:focus,
.btn-success.active:focus,
.open > .dropdown-toggle.btn-success:focus,
.btn-success:active.focus,
.btn-success.active.focus,
.open > .dropdown-toggle.btn-success.focus {
  color: #fff;
  background-color: #398439;
  border-color: #255625;
}
.btn-success:active,
.btn-success.active,
.open > .dropdown-toggle.btn-success {
  background-image: none;
}
.btn-success.disabled:hover,
.btn-success[disabled]:hover,
fieldset[disabled] .btn-success:hover,
.btn-success.disabled:focus,
.btn-success[disabled]:focus,
fieldset[disabled] .btn-success:focus,
.btn-success.disabled.focus,
.btn-success[disabled].focus,
fieldset[disabled] .btn-success.focus {
  background-color: #5cb85c;
  border-color: #4cae4c;
}
.btn-success .badge {
  color: #5cb85c;
  background-color: #fff;
}
.btn-info {
  color: #fff;
  background-color: #5bc0de;
  border-color: #46b8da;
}
.btn-info:focus,
.btn-info.focus {
  color: #fff;
  background-color: #31b0d5;
  border-color: #1b6d85;
}
.btn-info:hover {
  color: #fff;
  background-color: #31b0d5;
  border-color: #269abc;
}
.btn-info:active,
.btn-info.active,
.open > .dropdown-toggle.btn-info {
  color: #fff;
  background-color: #31b0d5;
  border-color: #269abc;
}
.btn-info:active:hover,
.btn-info.active:hover,
.open > .dropdown-toggle.btn-info:hover,
.btn-info:active:focus,
.btn-info.active:focus,
.open > .dropdown-toggle.btn-info:focus,
.btn-info:active.focus,
.btn-info.active.focus,
.open > .dropdown-toggle.btn-info.focus {
  color: #fff;
  background-color: #269abc;
  border-color: #1b6d85;
}
.btn-info:active,
.btn-info.active,
.open > .dropdown-toggle.btn-info {
  background-image: none;
}
.btn-info.disabled:hover,
.btn-info[disabled]:hover,
fieldset[disabled] .btn-info:hover,
.btn-info.disabled:focus,
.btn-info[disabled]:focus,
fieldset[disabled] .btn-info:focus,
.btn-info.disabled.focus,
.btn-info[disabled].focus,
fieldset[disabled] .btn-info.focus {
  background-color: #5bc0de;
  border-color: #46b8da;
}
.btn-info .badge {
  color: #5bc0de;
  background-color: #fff;
}
.btn-warning {
  color: #fff;
  background-color: #f0ad4e;
  border-color: #eea236;
}
.btn-warning:focus,
.btn-warning.focus {
  color: #fff;
  background-color: #ec971f;
  border-color: #985f0d;
}
.btn-warning:hover {
  color: #fff;
  background-color: #ec971f;
  border-color: #d58512;
}
.btn-warning:active,
.btn-warning.active,
.open > .dropdown-toggle.btn-warning {
  color: #fff;
  background-color: #ec971f;
  border-color: #d58512;
}
.btn-warning:active:hover,
.btn-warning.active:hover,
.open > .dropdown-toggle.btn-warning:hover,
.btn-warning:active:focus,
.btn-warning.active:focus,
.open > .dropdown-toggle.btn-warning:focus,
.btn-warning:active.focus,
.btn-warning.active.focus,
.open > .dropdown-toggle.btn-warning.focus {
  color: #fff;
  background-color: #d58512;
  border-color: #985f0d;
}
.btn-warning:active,
.btn-warning.active,
.open > .dropdown-toggle.btn-warning {
  background-image: none;
}
.btn-warning.disabled:hover,
.btn-warning[disabled]:hover,
fieldset[disabled] .btn-warning:hover,
.btn-warning.disabled:focus,
.btn-warning[disabled]:focus,
fieldset[disabled] .btn-warning:focus,
.btn-warning.disabled.focus,
.btn-warning[disabled].focus,
fieldset[disabled] .btn-warning.focus {
  background-color: #f0ad4e;
  border-color: #eea236;
}
.btn-warning .badge {
  color: #f0ad4e;
  background-color: #fff;
}
.btn-danger {
  color: #fff;
  background-color: #d9534f;
  border-color: #d43f3a;
}
.btn-danger:focus,
.btn-danger.focus {
  color: #fff;
  background-color: #c9302c;
  border-color: #761c19;
}
.btn-danger:hover {
  color: #fff;
  background-color: #c9302c;
  border-color: #ac2925;
}
.btn-danger:active,
.btn-danger.active,
.open > .dropdown-toggle.btn-danger {
  color: #fff;
  background-color: #c9302c;
  border-color: #ac2925;
}
.btn-danger:active:hover,
.btn-danger.active:hover,
.open > .dropdown-toggle.btn-danger:hover,
.btn-danger:active:focus,
.btn-danger.active:focus,
.open > .dropdown-toggle.btn-danger:focus,
.btn-danger:active.focus,
.btn-danger.active.focus,
.open > .dropdown-toggle.btn-danger.focus {
  color: #fff;
  background-color: #ac2925;
  border-color: #761c19;
}
.btn-danger:active,
.btn-danger.active,
.open > .dropdown-toggle.btn-danger {
  background-image: none;
}
.btn-danger.disabled:hover,
.btn-danger[disabled]:hover,
fieldset[disabled] .btn-danger:hover,
.btn-danger.disabled:focus,
.btn-danger[disabled]:focus,
fieldset[disabled] .btn-danger:focus,
.btn-danger.disabled.focus,
.btn-danger[disabled].focus,
fieldset[disabled] .btn-danger.focus {
  background-color: #d9534f;
  border-color: #d43f3a;
}
.btn-danger .badge {
  color: #d9534f;
  background-color: #fff;
}
.btn-link {
  color: #337ab7;
  font-weight: normal;
  border-radius: 0;
}
.btn-link,
.btn-link:active,
.btn-link.active,
.btn-link[disabled],
fieldset[disabled] .btn-link {
  background-color: transparent;
  -webkit-box-shadow: none;
  box-shadow: none;
}
.btn-link,
.btn-link:hover,
.btn-link:focus,
.btn-link:active {
  border-color: transparent;
}
.btn-link:hover,
.btn-link:focus {
  color: #23527c;
  text-decoration: underline;
  background-color: transparent;
}
.btn-link[disabled]:hover,
fieldset[disabled] .btn-link:hover,
.btn-link[disabled]:focus,
fieldset[disabled] .btn-link:focus {
  color: #777777;
  text-decoration: none;
}
.btn-lg,
.btn-group-lg > .btn {
  padding: 10px 16px;
  font-size: 17px;
  line-height: 1.3333333;
  border-radius: 3px;
}
.btn-sm,
.btn-group-sm > .btn {
  padding: 5px 10px;
  font-size: 12px;
  line-height: 1.5;
  border-radius: 1px;
}
.btn-xs,
.btn-group-xs > .btn {
  padding: 1px 5px;
  font-size: 12px;
  line-height: 1.5;
  border-radius: 1px;
}
.btn-block {
  display: block;
  width: 100%;
}
.btn-block + .btn-block {
  margin-top: 5px;
}
input[type="submit"].btn-block,
input[type="reset"].btn-block,
input[type="button"].btn-block {
  width: 100%;
}
.fade {
  opacity: 0;
  -webkit-transition: opacity 0.15s linear;
  -o-transition: opacity 0.15s linear;
  transition: opacity 0.15s linear;
}
.fade.in {
  opacity: 1;
}
.collapse {
  display: none;
}
.collapse.in {
  display: block;
}
tr.collapse.in {
  display: table-row;
}
tbody.collapse.in {
  display: table-row-group;
}
.collapsing {
  position: relative;
  height: 0;
  overflow: hidden;
  -webkit-transition-property: height, visibility;
  transition-property: height, visibility;
  -webkit-transition-duration: 0.35s;
  transition-duration: 0.35s;
  -webkit-transition-timing-function: ease;
  transition-timing-function: ease;
}
.caret {
  display: inline-block;
  width: 0;
  height: 0;
  margin-left: 2px;
  vertical-align: middle;
  border-top: 4px dashed;
  border-top: 4px solid \9;
  border-right: 4px solid transparent;
  border-left: 4px solid transparent;
}
.dropup,
.dropdown {
  position: relative;
}
.dropdown-toggle:focus {
  outline: 0;
}
.dropdown-menu {
  position: absolute;
  top: 100%;
  left: 0;
  z-index: 1000;
  display: none;
  float: left;
  min-width: 160px;
  padding: 5px 0;
  margin: 2px 0 0;
  list-style: none;
  font-size: 13px;
  text-align: left;
  background-color: #fff;
  border: 1px solid #ccc;
  border: 1px solid rgba(0, 0, 0, 0.15);
  border-radius: 2px;
  -webkit-box-shadow: 0 6px 12px rgba(0, 0, 0, 0.175);
  box-shadow: 0 6px 12px rgba(0, 0, 0, 0.175);
  background-clip: padding-box;
}
.dropdown-menu.pull-right {
  right: 0;
  left: auto;
}
.dropdown-menu .divider {
  height: 1px;
  margin: 8px 0;
  overflow: hidden;
  background-color: #e5e5e5;
}
.dropdown-menu > li > a {
  display: block;
  padding: 3px 20px;
  clear: both;
  font-weight: normal;
  line-height: 1.42857143;
  color: #333333;
  white-space: nowrap;
}
.dropdown-menu > li > a:hover,
.dropdown-menu > li > a:focus {
  text-decoration: none;
  color: #262626;
  background-color: #f5f5f5;
}
.dropdown-menu > .active > a,
.dropdown-menu > .active > a:hover,
.dropdown-menu > .active > a:focus {
  color: #fff;
  text-decoration: none;
  outline: 0;
  background-color: #337ab7;
}
.dropdown-menu > .disabled > a,
.dropdown-menu > .disabled > a:hover,
.dropdown-menu > .disabled > a:focus {
  color: #777777;
}
.dropdown-menu > .disabled > a:hover,
.dropdown-menu > .disabled > a:focus {
  text-decoration: none;
  background-color: transparent;
  background-image: none;
  filter: progid:DXImageTransform.Microsoft.gradient(enabled = false);
  cursor: not-allowed;
}
.open > .dropdown-menu {
  display: block;
}
.open > a {
  outline: 0;
}
.dropdown-menu-right {
  left: auto;
  right: 0;
}
.dropdown-menu-left {
  left: 0;
  right: auto;
}
.dropdown-header {
  display: block;
  padding: 3px 20px;
  font-size: 12px;
  line-height: 1.42857143;
  color: #777777;
  white-space: nowrap;
}
.dropdown-backdrop {
  position: fixed;
  left: 0;
  right: 0;
  bottom: 0;
  top: 0;
  z-index: 990;
}
.pull-right > .dropdown-menu {
  right: 0;
  left: auto;
}
.dropup .caret,
.navbar-fixed-bottom .dropdown .caret {
  border-top: 0;
  border-bottom: 4px dashed;
  border-bottom: 4px solid \9;
  content: "";
}
.dropup .dropdown-menu,
.navbar-fixed-bottom .dropdown .dropdown-menu {
  top: auto;
  bottom: 100%;
  margin-bottom: 2px;
}
@media (min-width: 541px) {
  .navbar-right .dropdown-menu {
    left: auto;
    right: 0;
  }
  .navbar-right .dropdown-menu-left {
    left: 0;
    right: auto;
  }
}
.btn-group,
.btn-group-vertical {
  position: relative;
  display: inline-block;
  vertical-align: middle;
}
.btn-group > .btn,
.btn-group-vertical > .btn {
  position: relative;
  float: left;
}
.btn-group > .btn:hover,
.btn-group-vertical > .btn:hover,
.btn-group > .btn:focus,
.btn-group-vertical > .btn:focus,
.btn-group > .btn:active,
.btn-group-vertical > .btn:active,
.btn-group > .btn.active,
.btn-group-vertical > .btn.active {
  z-index: 2;
}
.btn-group .btn + .btn,
.btn-group .btn + .btn-group,
.btn-group .btn-group + .btn,
.btn-group .btn-group + .btn-group {
  margin-left: -1px;
}
.btn-toolbar {
  margin-left: -5px;
}
.btn-toolbar .btn,
.btn-toolbar .btn-group,
.btn-toolbar .input-group {
  float: left;
}
.btn-toolbar > .btn,
.btn-toolbar > .btn-group,
.btn-toolbar > .input-group {
  margin-left: 5px;
}
.btn-group > .btn:not(:first-child):not(:last-child):not(.dropdown-toggle) {
  border-radius: 0;
}
.btn-group > .btn:first-child {
  margin-left: 0;
}
.btn-group > .btn:first-child:not(:last-child):not(.dropdown-toggle) {
  border-bottom-right-radius: 0;
  border-top-right-radius: 0;
}
.btn-group > .btn:last-child:not(:first-child),
.btn-group > .dropdown-toggle:not(:first-child) {
  border-bottom-left-radius: 0;
  border-top-left-radius: 0;
}
.btn-group > .btn-group {
  float: left;
}
.btn-group > .btn-group:not(:first-child):not(:last-child) > .btn {
  border-radius: 0;
}
.btn-group > .btn-group:first-child:not(:last-child) > .btn:last-child,
.btn-group > .btn-group:first-child:not(:last-child) > .dropdown-toggle {
  border-bottom-right-radius: 0;
  border-top-right-radius: 0;
}
.btn-group > .btn-group:last-child:not(:first-child) > .btn:first-child {
  border-bottom-left-radius: 0;
  border-top-left-radius: 0;
}
.btn-group .dropdown-toggle:active,
.btn-group.open .dropdown-toggle {
  outline: 0;
}
.btn-group > .btn + .dropdown-toggle {
  padding-left: 8px;
  padding-right: 8px;
}
.btn-group > .btn-lg + .dropdown-toggle {
  padding-left: 12px;
  padding-right: 12px;
}
.btn-group.open .dropdown-toggle {
  -webkit-box-shadow: inset 0 3px 5px rgba(0, 0, 0, 0.125);
  box-shadow: inset 0 3px 5px rgba(0, 0, 0, 0.125);
}
.btn-group.open .dropdown-toggle.btn-link {
  -webkit-box-shadow: none;
  box-shadow: none;
}
.btn .caret {
  margin-left: 0;
}
.btn-lg .caret {
  border-width: 5px 5px 0;
  border-bottom-width: 0;
}
.dropup .btn-lg .caret {
  border-width: 0 5px 5px;
}
.btn-group-vertical > .btn,
.btn-group-vertical > .btn-group,
.btn-group-vertical > .btn-group > .btn {
  display: block;
  float: none;
  width: 100%;
  max-width: 100%;
}
.btn-group-vertical > .btn-group > .btn {
  float: none;
}
.btn-group-vertical > .btn + .btn,
.btn-group-vertical > .btn + .btn-group,
.btn-group-vertical > .btn-group + .btn,
.btn-group-vertical > .btn-group + .btn-group {
  margin-top: -1px;
  margin-left: 0;
}
.btn-group-vertical > .btn:not(:first-child):not(:last-child) {
  border-radius: 0;
}
.btn-group-vertical > .btn:first-child:not(:last-child) {
  border-top-right-radius: 2px;
  border-top-left-radius: 2px;
  border-bottom-right-radius: 0;
  border-bottom-left-radius: 0;
}
.btn-group-vertical > .btn:last-child:not(:first-child) {
  border-top-right-radius: 0;
  border-top-left-radius: 0;
  border-bottom-right-radius: 2px;
  border-bottom-left-radius: 2px;
}
.btn-group-vertical > .btn-group:not(:first-child):not(:last-child) > .btn {
  border-radius: 0;
}
.btn-group-vertical > .btn-group:first-child:not(:last-child) > .btn:last-child,
.btn-group-vertical > .btn-group:first-child:not(:last-child) > .dropdown-toggle {
  border-bottom-right-radius: 0;
  border-bottom-left-radius: 0;
}
.btn-group-vertical > .btn-group:last-child:not(:first-child) > .btn:first-child {
  border-top-right-radius: 0;
  border-top-left-radius: 0;
}
.btn-group-justified {
  display: table;
  width: 100%;
  table-layout: fixed;
  border-collapse: separate;
}
.btn-group-justified > .btn,
.btn-group-justified > .btn-group {
  float: none;
  display: table-cell;
  width: 1%;
}
.btn-group-justified > .btn-group .btn {
  width: 100%;
}
.btn-group-justified > .btn-group .dropdown-menu {
  left: auto;
}
[data-toggle="buttons"] > .btn input[type="radio"],
[data-toggle="buttons"] > .btn-group > .btn input[type="radio"],
[data-toggle="buttons"] > .btn input[type="checkbox"],
[data-toggle="buttons"] > .btn-group > .btn input[type="checkbox"] {
  position: absolute;
  clip: rect(0, 0, 0, 0);
  pointer-events: none;
}
.input-group {
  position: relative;
  display: table;
  border-collapse: separate;
}
.input-group[class*="col-"] {
  float: none;
  padding-left: 0;
  padding-right: 0;
}
.input-group .form-control {
  position: relative;
  z-index: 2;
  float: left;
  width: 100%;
  margin-bottom: 0;
}
.input-group .form-control:focus {
  z-index: 3;
}
.input-group-lg > .form-control,
.input-group-lg > .input-group-addon,
.input-group-lg > .input-group-btn > .btn {
  height: 45px;
  padding: 10px 16px;
  font-size: 17px;
  line-height: 1.3333333;
  border-radius: 3px;
}
select.input-group-lg > .form-control,
select.input-group-lg > .input-group-addon,
select.input-group-lg > .input-group-btn > .btn {
  height: 45px;
  line-height: 45px;
}
textarea.input-group-lg > .form-control,
textarea.input-group-lg > .input-group-addon,
textarea.input-group-lg > .input-group-btn > .btn,
select[multiple].input-group-lg > .form-control,
select[multiple].input-group-lg > .input-group-addon,
select[multiple].input-group-lg > .input-group-btn > .btn {
  height: auto;
}
.input-group-sm > .form-control,
.input-group-sm > .input-group-addon,
.input-group-sm > .input-group-btn > .btn {
  height: 30px;
  padding: 5px 10px;
  font-size: 12px;
  line-height: 1.5;
  border-radius: 1px;
}
select.input-group-sm > .form-control,
select.input-group-sm > .input-group-addon,
select.input-group-sm > .input-group-btn > .btn {
  height: 30px;
  line-height: 30px;
}
textarea.input-group-sm > .form-control,
textarea.input-group-sm > .input-group-addon,
textarea.input-group-sm > .input-group-btn > .btn,
select[multiple].input-group-sm > .form-control,
select[multiple].input-group-sm > .input-group-addon,
select[multiple].input-group-sm > .input-group-btn > .btn {
  height: auto;
}
.input-group-addon,
.input-group-btn,
.input-group .form-control {
  display: table-cell;
}
.input-group-addon:not(:first-child):not(:last-child),
.input-group-btn:not(:first-child):not(:last-child),
.input-group .form-control:not(:first-child):not(:last-child) {
  border-radius: 0;
}
.input-group-addon,
.input-group-btn {
  width: 1%;
  white-space: nowrap;
  vertical-align: middle;
}
.input-group-addon {
  padding: 6px 12px;
  font-size: 13px;
  font-weight: normal;
  line-height: 1;
  color: #555555;
  text-align: center;
  background-color: #eeeeee;
  border: 1px solid #ccc;
  border-radius: 2px;
}
.input-group-addon.input-sm {
  padding: 5px 10px;
  font-size: 12px;
  border-radius: 1px;
}
.input-group-addon.input-lg {
  padding: 10px 16px;
  font-size: 17px;
  border-radius: 3px;
}
.input-group-addon input[type="radio"],
.input-group-addon input[type="checkbox"] {
  margin-top: 0;
}
.input-group .form-control:first-child,
.input-group-addon:first-child,
.input-group-btn:first-child > .btn,
.input-group-btn:first-child > .btn-group > .btn,
.input-group-btn:first-child > .dropdown-toggle,
.input-group-btn:last-child > .btn:not(:last-child):not(.dropdown-toggle),
.input-group-btn:last-child > .btn-group:not(:last-child) > .btn {
  border-bottom-right-radius: 0;
  border-top-right-radius: 0;
}
.input-group-addon:first-child {
  border-right: 0;
}
.input-group .form-control:last-child,
.input-group-addon:last-child,
.input-group-btn:last-child > .btn,
.input-group-btn:last-child > .btn-group > .btn,
.input-group-btn:last-child > .dropdown-toggle,
.input-group-btn:first-child > .btn:not(:first-child),
.input-group-btn:first-child > .btn-group:not(:first-child) > .btn {
  border-bottom-left-radius: 0;
  border-top-left-radius: 0;
}
.input-group-addon:last-child {
  border-left: 0;
}
.input-group-btn {
  position: relative;
  font-size: 0;
  white-space: nowrap;
}
.input-group-btn > .btn {
  position: relative;
}
.input-group-btn > .btn + .btn {
  margin-left: -1px;
}
.input-group-btn > .btn:hover,
.input-group-btn > .btn:focus,
.input-group-btn > .btn:active {
  z-index: 2;
}
.input-group-btn:first-child > .btn,
.input-group-btn:first-child > .btn-group {
  margin-right: -1px;
}
.input-group-btn:last-child > .btn,
.input-group-btn:last-child > .btn-group {
  z-index: 2;
  margin-left: -1px;
}
.nav {
  margin-bottom: 0;
  padding-left: 0;
  list-style: none;
}
.nav > li {
  position: relative;
  display: block;
}
.nav > li > a {
  position: relative;
  display: block;
  padding: 10px 15px;
}
.nav > li > a:hover,
.nav > li > a:focus {
  text-decoration: none;
  background-color: #eeeeee;
}
.nav > li.disabled > a {
  color: #777777;
}
.nav > li.disabled > a:hover,
.nav > li.disabled > a:focus {
  color: #777777;
  text-decoration: none;
  background-color: transparent;
  cursor: not-allowed;
}
.nav .open > a,
.nav .open > a:hover,
.nav .open > a:focus {
  background-color: #eeeeee;
  border-color: #337ab7;
}
.nav .nav-divider {
  height: 1px;
  margin: 8px 0;
  overflow: hidden;
  background-color: #e5e5e5;
}
.nav > li > a > img {
  max-width: none;
}
.nav-tabs {
  border-bottom: 1px solid #ddd;
}
.nav-tabs > li {
  float: left;
  margin-bottom: -1px;
}
.nav-tabs > li > a {
  margin-right: 2px;
  line-height: 1.42857143;
  border: 1px solid transparent;
  border-radius: 2px 2px 0 0;
}
.nav-tabs > li > a:hover {
  border-color: #eeeeee #eeeeee #ddd;
}
.nav-tabs > li.active > a,
.nav-tabs > li.active > a:hover,
.nav-tabs > li.active > a:focus {
  color: #555555;
  background-color: #fff;
  border: 1px solid #ddd;
  border-bottom-color: transparent;
  cursor: default;
}
.nav-tabs.nav-justified {
  width: 100%;
  border-bottom: 0;
}
.nav-tabs.nav-justified > li {
  float: none;
}
.nav-tabs.nav-justified > li > a {
  text-align: center;
  margin-bottom: 5px;
}
.nav-tabs.nav-justified > .dropdown .dropdown-menu {
  top: auto;
  left: auto;
}
@media (min-width: 768px) {
  .nav-tabs.nav-justified > li {
    display: table-cell;
    width: 1%;
  }
  .nav-tabs.nav-justified > li > a {
    margin-bottom: 0;
  }
}
.nav-tabs.nav-justified > li > a {
  margin-right: 0;
  border-radius: 2px;
}
.nav-tabs.nav-justified > .active > a,
.nav-tabs.nav-justified > .active > a:hover,
.nav-tabs.nav-justified > .active > a:focus {
  border: 1px solid #ddd;
}
@media (min-width: 768px) {
  .nav-tabs.nav-justified > li > a {
    border-bottom: 1px solid #ddd;
    border-radius: 2px 2px 0 0;
  }
  .nav-tabs.nav-justified > .active > a,
  .nav-tabs.nav-justified > .active > a:hover,
  .nav-tabs.nav-justified > .active > a:focus {
    border-bottom-color: #fff;
  }
}
.nav-pills > li {
  float: left;
}
.nav-pills > li > a {
  border-radius: 2px;
}
.nav-pills > li + li {
  margin-left: 2px;
}
.nav-pills > li.active > a,
.nav-pills > li.active > a:hover,
.nav-pills > li.active > a:focus {
  color: #fff;
  background-color: #337ab7;
}
.nav-stacked > li {
  float: none;
}
.nav-stacked > li + li {
  margin-top: 2px;
  margin-left: 0;
}
.nav-justified {
  width: 100%;
}
.nav-justified > li {
  float: none;
}
.nav-justified > li > a {
  text-align: center;
  margin-bottom: 5px;
}
.nav-justified > .dropdown .dropdown-menu {
  top: auto;
  left: auto;
}
@media (min-width: 768px) {
  .nav-justified > li {
    display: table-cell;
    width: 1%;
  }
  .nav-justified > li > a {
    margin-bottom: 0;
  }
}
.nav-tabs-justified {
  border-bottom: 0;
}
.nav-tabs-justified > li > a {
  margin-right: 0;
  border-radius: 2px;
}
.nav-tabs-justified > .active > a,
.nav-tabs-justified > .active > a:hover,
.nav-tabs-justified > .active > a:focus {
  border: 1px solid #ddd;
}
@media (min-width: 768px) {
  .nav-tabs-justified > li > a {
    border-bottom: 1px solid #ddd;
    border-radius: 2px 2px 0 0;
  }
  .nav-tabs-justified > .active > a,
  .nav-tabs-justified > .active > a:hover,
  .nav-tabs-justified > .active > a:focus {
    border-bottom-color: #fff;
  }
}
.tab-content > .tab-pane {
  display: none;
}
.tab-content > .active {
  display: block;
}
.nav-tabs .dropdown-menu {
  margin-top: -1px;
  border-top-right-radius: 0;
  border-top-left-radius: 0;
}
.navbar {
  position: relative;
  min-height: 30px;
  margin-bottom: 18px;
  border: 1px solid transparent;
}
@media (min-width: 541px) {
  .navbar {
    border-radius: 2px;
  }
}
@media (min-width: 541px) {
  .navbar-header {
    float: left;
  }
}
.navbar-collapse {
  overflow-x: visible;
  padding-right: 0px;
  padding-left: 0px;
  border-top: 1px solid transparent;
  box-shadow: inset 0 1px 0 rgba(255, 255, 255, 0.1);
  -webkit-overflow-scrolling: touch;
}
.navbar-collapse.in {
  overflow-y: auto;
}
@media (min-width: 541px) {
  .navbar-collapse {
    width: auto;
    border-top: 0;
    box-shadow: none;
  }
  .navbar-collapse.collapse {
    display: block !important;
    height: auto !important;
    padding-bottom: 0;
    overflow: visible !important;
  }
  .navbar-collapse.in {
    overflow-y: visible;
  }
  .navbar-fixed-top .navbar-collapse,
  .navbar-static-top .navbar-collapse,
  .navbar-fixed-bottom .navbar-collapse {
    padding-left: 0;
    padding-right: 0;
  }
}
.navbar-fixed-top .navbar-collapse,
.navbar-fixed-bottom .navbar-collapse {
  max-height: 340px;
}
@media (max-device-width: 540px) and (orientation: landscape) {
  .navbar-fixed-top .navbar-collapse,
  .navbar-fixed-bottom .navbar-collapse {
    max-height: 200px;
  }
}
.container > .navbar-header,
.container-fluid > .navbar-header,
.container > .navbar-collapse,
.container-fluid > .navbar-collapse {
  margin-right: 0px;
  margin-left: 0px;
}
@media (min-width: 541px) {
  .container > .navbar-header,
  .container-fluid > .navbar-header,
  .container > .navbar-collapse,
  .container-fluid > .navbar-collapse {
    margin-right: 0;
    margin-left: 0;
  }
}
.navbar-static-top {
  z-index: 1000;
  border-width: 0 0 1px;
}
@media (min-width: 541px) {
  .navbar-static-top {
    border-radius: 0;
  }
}
.navbar-fixed-top,
.navbar-fixed-bottom {
  position: fixed;
  right: 0;
  left: 0;
  z-index: 1030;
}
@media (min-width: 541px) {
  .navbar-fixed-top,
  .navbar-fixed-bottom {
    border-radius: 0;
  }
}
.navbar-fixed-top {
  top: 0;
  border-width: 0 0 1px;
}
.navbar-fixed-bottom {
  bottom: 0;
  margin-bottom: 0;
  border-width: 1px 0 0;
}
.navbar-brand {
  float: left;
  padding: 6px 0px;
  font-size: 17px;
  line-height: 18px;
  height: 30px;
}
.navbar-brand:hover,
.navbar-brand:focus {
  text-decoration: none;
}
.navbar-brand > img {
  display: block;
}
@media (min-width: 541px) {
  .navbar > .container .navbar-brand,
  .navbar > .container-fluid .navbar-brand {
    margin-left: 0px;
  }
}
.navbar-toggle {
  position: relative;
  float: right;
  margin-right: 0px;
  padding: 9px 10px;
  margin-top: -2px;
  margin-bottom: -2px;
  background-color: transparent;
  background-image: none;
  border: 1px solid transparent;
  border-radius: 2px;
}
.navbar-toggle:focus {
  outline: 0;
}
.navbar-toggle .icon-bar {
  display: block;
  width: 22px;
  height: 2px;
  border-radius: 1px;
}
.navbar-toggle .icon-bar + .icon-bar {
  margin-top: 4px;
}
@media (min-width: 541px) {
  .navbar-toggle {
    display: none;
  }
}
.navbar-nav {
  margin: 3px 0px;
}
.navbar-nav > li > a {
  padding-top: 10px;
  padding-bottom: 10px;
  line-height: 18px;
}
@media (max-width: 540px) {
  .navbar-nav .open .dropdown-menu {
    position: static;
    float: none;
    width: auto;
    margin-top: 0;
    background-color: transparent;
    border: 0;
    box-shadow: none;
  }
  .navbar-nav .open .dropdown-menu > li > a,
  .navbar-nav .open .dropdown-menu .dropdown-header {
    padding: 5px 15px 5px 25px;
  }
  .navbar-nav .open .dropdown-menu > li > a {
    line-height: 18px;
  }
  .navbar-nav .open .dropdown-menu > li > a:hover,
  .navbar-nav .open .dropdown-menu > li > a:focus {
    background-image: none;
  }
}
@media (min-width: 541px) {
  .navbar-nav {
    float: left;
    margin: 0;
  }
  .navbar-nav > li {
    float: left;
  }
  .navbar-nav > li > a {
    padding-top: 6px;
    padding-bottom: 6px;
  }
}
.navbar-form {
  margin-left: 0px;
  margin-right: 0px;
  padding: 10px 0px;
  border-top: 1px solid transparent;
  border-bottom: 1px solid transparent;
  -webkit-box-shadow: inset 0 1px 0 rgba(255, 255, 255, 0.1), 0 1px 0 rgba(255, 255, 255, 0.1);
  box-shadow: inset 0 1px 0 rgba(255, 255, 255, 0.1), 0 1px 0 rgba(255, 255, 255, 0.1);
  margin-top: -1px;
  margin-bottom: -1px;
}
@media (min-width: 768px) {
  .navbar-form .form-group {
    display: inline-block;
    margin-bottom: 0;
    vertical-align: middle;
  }
  .navbar-form .form-control {
    display: inline-block;
    width: auto;
    vertical-align: middle;
  }
  .navbar-form .form-control-static {
    display: inline-block;
  }
  .navbar-form .input-group {
    display: inline-table;
    vertical-align: middle;
  }
  .navbar-form .input-group .input-group-addon,
  .navbar-form .input-group .input-group-btn,
  .navbar-form .input-group .form-control {
    width: auto;
  }
  .navbar-form .input-group > .form-control {
    width: 100%;
  }
  .navbar-form .control-label {
    margin-bottom: 0;
    vertical-align: middle;
  }
  .navbar-form .radio,
  .navbar-form .checkbox {
    display: inline-block;
    margin-top: 0;
    margin-bottom: 0;
    vertical-align: middle;
  }
  .navbar-form .radio label,
  .navbar-form .checkbox label {
    padding-left: 0;
  }
  .navbar-form .radio input[type="radio"],
  .navbar-form .checkbox input[type="checkbox"] {
    position: relative;
    margin-left: 0;
  }
  .navbar-form .has-feedback .form-control-feedback {
    top: 0;
  }
}
@media (max-width: 540px) {
  .navbar-form .form-group {
    margin-bottom: 5px;
  }
  .navbar-form .form-group:last-child {
    margin-bottom: 0;
  }
}
@media (min-width: 541px) {
  .navbar-form {
    width: auto;
    border: 0;
    margin-left: 0;
    margin-right: 0;
    padding-top: 0;
    padding-bottom: 0;
    -webkit-box-shadow: none;
    box-shadow: none;
  }
}
.navbar-nav > li > .dropdown-menu {
  margin-top: 0;
  border-top-right-radius: 0;
  border-top-left-radius: 0;
}
.navbar-fixed-bottom .navbar-nav > li > .dropdown-menu {
  margin-bottom: 0;
  border-top-right-radius: 2px;
  border-top-left-radius: 2px;
  border-bottom-right-radius: 0;
  border-bottom-left-radius: 0;
}
.navbar-btn {
  margin-top: -1px;
  margin-bottom: -1px;
}
.navbar-btn.btn-sm {
  margin-top: 0px;
  margin-bottom: 0px;
}
.navbar-btn.btn-xs {
  margin-top: 4px;
  margin-bottom: 4px;
}
.navbar-text {
  margin-top: 6px;
  margin-bottom: 6px;
}
@media (min-width: 541px) {
  .navbar-text {
    float: left;
    margin-left: 0px;
    margin-right: 0px;
  }
}
@media (min-width: 541px) {
  .navbar-left {
    float: left !important;
    float: left;
  }
  .navbar-right {
    float: right !important;
    float: right;
    margin-right: 0px;
  }
  .navbar-right ~ .navbar-right {
    margin-right: 0;
  }
}
.navbar-default {
  background-color: #f8f8f8;
  border-color: #e7e7e7;
}
.navbar-default .navbar-brand {
  color: #777;
}
.navbar-default .navbar-brand:hover,
.navbar-default .navbar-brand:focus {
  color: #5e5e5e;
  background-color: transparent;
}
.navbar-default .navbar-text {
  color: #777;
}
.navbar-default .navbar-nav > li > a {
  color: #777;
}
.navbar-default .navbar-nav > li > a:hover,
.navbar-default .navbar-nav > li > a:focus {
  color: #333;
  background-color: transparent;
}
.navbar-default .navbar-nav > .active > a,
.navbar-default .navbar-nav > .active > a:hover,
.navbar-default .navbar-nav > .active > a:focus {
  color: #555;
  background-color: #e7e7e7;
}
.navbar-default .navbar-nav > .disabled > a,
.navbar-default .navbar-nav > .disabled > a:hover,
.navbar-default .navbar-nav > .disabled > a:focus {
  color: #ccc;
  background-color: transparent;
}
.navbar-default .navbar-toggle {
  border-color: #ddd;
}
.navbar-default .navbar-toggle:hover,
.navbar-default .navbar-toggle:focus {
  background-color: #ddd;
}
.navbar-default .navbar-toggle .icon-bar {
  background-color: #888;
}
.navbar-default .navbar-collapse,
.navbar-default .navbar-form {
  border-color: #e7e7e7;
}
.navbar-default .navbar-nav > .open > a,
.navbar-default .navbar-nav > .open > a:hover,
.navbar-default .navbar-nav > .open > a:focus {
  background-color: #e7e7e7;
  color: #555;
}
@media (max-width: 540px) {
  .navbar-default .navbar-nav .open .dropdown-menu > li > a {
    color: #777;
  }
  .navbar-default .navbar-nav .open .dropdown-menu > li > a:hover,
  .navbar-default .navbar-nav .open .dropdown-menu > li > a:focus {
    color: #333;
    background-color: transparent;
  }
  .navbar-default .navbar-nav .open .dropdown-menu > .active > a,
  .navbar-default .navbar-nav .open .dropdown-menu > .active > a:hover,
  .navbar-default .navbar-nav .open .dropdown-menu > .active > a:focus {
    color: #555;
    background-color: #e7e7e7;
  }
  .navbar-default .navbar-nav .open .dropdown-menu > .disabled > a,
  .navbar-default .navbar-nav .open .dropdown-menu > .disabled > a:hover,
  .navbar-default .navbar-nav .open .dropdown-menu > .disabled > a:focus {
    color: #ccc;
    background-color: transparent;
  }
}
.navbar-default .navbar-link {
  color: #777;
}
.navbar-default .navbar-link:hover {
  color: #333;
}
.navbar-default .btn-link {
  color: #777;
}
.navbar-default .btn-link:hover,
.navbar-default .btn-link:focus {
  color: #333;
}
.navbar-default .btn-link[disabled]:hover,
fieldset[disabled] .navbar-default .btn-link:hover,
.navbar-default .btn-link[disabled]:focus,
fieldset[disabled] .navbar-default .btn-link:focus {
  color: #ccc;
}
.navbar-inverse {
  background-color: #222;
  border-color: #080808;
}
.navbar-inverse .navbar-brand {
  color: #9d9d9d;
}
.navbar-inverse .navbar-brand:hover,
.navbar-inverse .navbar-brand:focus {
  color: #fff;
  background-color: transparent;
}
.navbar-inverse .navbar-text {
  color: #9d9d9d;
}
.navbar-inverse .navbar-nav > li > a {
  color: #9d9d9d;
}
.navbar-inverse .navbar-nav > li > a:hover,
.navbar-inverse .navbar-nav > li > a:focus {
  color: #fff;
  background-color: transparent;
}
.navbar-inverse .navbar-nav > .active > a,
.navbar-inverse .navbar-nav > .active > a:hover,
.navbar-inverse .navbar-nav > .active > a:focus {
  color: #fff;
  background-color: #080808;
}
.navbar-inverse .navbar-nav > .disabled > a,
.navbar-inverse .navbar-nav > .disabled > a:hover,
.navbar-inverse .navbar-nav > .disabled > a:focus {
  color: #444;
  background-color: transparent;
}
.navbar-inverse .navbar-toggle {
  border-color: #333;
}
.navbar-inverse .navbar-toggle:hover,
.navbar-inverse .navbar-toggle:focus {
  background-color: #333;
}
.navbar-inverse .navbar-toggle .icon-bar {
  background-color: #fff;
}
.navbar-inverse .navbar-collapse,
.navbar-inverse .navbar-form {
  border-color: #101010;
}
.navbar-inverse .navbar-nav > .open > a,
.navbar-inverse .navbar-nav > .open > a:hover,
.navbar-inverse .navbar-nav > .open > a:focus {
  background-color: #080808;
  color: #fff;
}
@media (max-width: 540px) {
  .navbar-inverse .navbar-nav .open .dropdown-menu > .dropdown-header {
    border-color: #080808;
  }
  .navbar-inverse .navbar-nav .open .dropdown-menu .divider {
    background-color: #080808;
  }
  .navbar-inverse .navbar-nav .open .dropdown-menu > li > a {
    color: #9d9d9d;
  }
  .navbar-inverse .navbar-nav .open .dropdown-menu > li > a:hover,
  .navbar-inverse .navbar-nav .open .dropdown-menu > li > a:focus {
    color: #fff;
    background-color: transparent;
  }
  .navbar-inverse .navbar-nav .open .dropdown-menu > .active > a,
  .navbar-inverse .navbar-nav .open .dropdown-menu > .active > a:hover,
  .navbar-inverse .navbar-nav .open .dropdown-menu > .active > a:focus {
    color: #fff;
    background-color: #080808;
  }
  .navbar-inverse .navbar-nav .open .dropdown-menu > .disabled > a,
  .navbar-inverse .navbar-nav .open .dropdown-menu > .disabled > a:hover,
  .navbar-inverse .navbar-nav .open .dropdown-menu > .disabled > a:focus {
    color: #444;
    background-color: transparent;
  }
}
.navbar-inverse .navbar-link {
  color: #9d9d9d;
}
.navbar-inverse .navbar-link:hover {
  color: #fff;
}
.navbar-inverse .btn-link {
  color: #9d9d9d;
}
.navbar-inverse .btn-link:hover,
.navbar-inverse .btn-link:focus {
  color: #fff;
}
.navbar-inverse .btn-link[disabled]:hover,
fieldset[disabled] .navbar-inverse .btn-link:hover,
.navbar-inverse .btn-link[disabled]:focus,
fieldset[disabled] .navbar-inverse .btn-link:focus {
  color: #444;
}
.breadcrumb {
  padding: 8px 15px;
  margin-bottom: 18px;
  list-style: none;
  background-color: #f5f5f5;
  border-radius: 2px;
}
.breadcrumb > li {
  display: inline-block;
}
.breadcrumb > li + li:before {
  content: "/\00a0";
  padding: 0 5px;
  color: #5e5e5e;
}
.breadcrumb > .active {
  color: #777777;
}
.pagination {
  display: inline-block;
  padding-left: 0;
  margin: 18px 0;
  border-radius: 2px;
}
.pagination > li {
  display: inline;
}
.pagination > li > a,
.pagination > li > span {
  position: relative;
  float: left;
  padding: 6px 12px;
  line-height: 1.42857143;
  text-decoration: none;
  color: #337ab7;
  background-color: #fff;
  border: 1px solid #ddd;
  margin-left: -1px;
}
.pagination > li:first-child > a,
.pagination > li:first-child > span {
  margin-left: 0;
  border-bottom-left-radius: 2px;
  border-top-left-radius: 2px;
}
.pagination > li:last-child > a,
.pagination > li:last-child > span {
  border-bottom-right-radius: 2px;
  border-top-right-radius: 2px;
}
.pagination > li > a:hover,
.pagination > li > span:hover,
.pagination > li > a:focus,
.pagination > li > span:focus {
  z-index: 2;
  color: #23527c;
  background-color: #eeeeee;
  border-color: #ddd;
}
.pagination > .active > a,
.pagination > .active > span,
.pagination > .active > a:hover,
.pagination > .active > span:hover,
.pagination > .active > a:focus,
.pagination > .active > span:focus {
  z-index: 3;
  color: #fff;
  background-color: #337ab7;
  border-color: #337ab7;
  cursor: default;
}
.pagination > .disabled > span,
.pagination > .disabled > span:hover,
.pagination > .disabled > span:focus,
.pagination > .disabled > a,
.pagination > .disabled > a:hover,
.pagination > .disabled > a:focus {
  color: #777777;
  background-color: #fff;
  border-color: #ddd;
  cursor: not-allowed;
}
.pagination-lg > li > a,
.pagination-lg > li > span {
  padding: 10px 16px;
  font-size: 17px;
  line-height: 1.3333333;
}
.pagination-lg > li:first-child > a,
.pagination-lg > li:first-child > span {
  border-bottom-left-radius: 3px;
  border-top-left-radius: 3px;
}
.pagination-lg > li:last-child > a,
.pagination-lg > li:last-child > span {
  border-bottom-right-radius: 3px;
  border-top-right-radius: 3px;
}
.pagination-sm > li > a,
.pagination-sm > li > span {
  padding: 5px 10px;
  font-size: 12px;
  line-height: 1.5;
}
.pagination-sm > li:first-child > a,
.pagination-sm > li:first-child > span {
  border-bottom-left-radius: 1px;
  border-top-left-radius: 1px;
}
.pagination-sm > li:last-child > a,
.pagination-sm > li:last-child > span {
  border-bottom-right-radius: 1px;
  border-top-right-radius: 1px;
}
.pager {
  padding-left: 0;
  margin: 18px 0;
  list-style: none;
  text-align: center;
}
.pager li {
  display: inline;
}
.pager li > a,
.pager li > span {
  display: inline-block;
  padding: 5px 14px;
  background-color: #fff;
  border: 1px solid #ddd;
  border-radius: 15px;
}
.pager li > a:hover,
.pager li > a:focus {
  text-decoration: none;
  background-color: #eeeeee;
}
.pager .next > a,
.pager .next > span {
  float: right;
}
.pager .previous > a,
.pager .previous > span {
  float: left;
}
.pager .disabled > a,
.pager .disabled > a:hover,
.pager .disabled > a:focus,
.pager .disabled > span {
  color: #777777;
  background-color: #fff;
  cursor: not-allowed;
}
.label {
  display: inline;
  padding: .2em .6em .3em;
  font-size: 75%;
  font-weight: bold;
  line-height: 1;
  color: #fff;
  text-align: center;
  white-space: nowrap;
  vertical-align: baseline;
  border-radius: .25em;
}
a.label:hover,
a.label:focus {
  color: #fff;
  text-decoration: none;
  cursor: pointer;
}
.label:empty {
  display: none;
}
.btn .label {
  position: relative;
  top: -1px;
}
.label-default {
  background-color: #777777;
}
.label-default[href]:hover,
.label-default[href]:focus {
  background-color: #5e5e5e;
}
.label-primary {
  background-color: #337ab7;
}
.label-primary[href]:hover,
.label-primary[href]:focus {
  background-color: #286090;
}
.label-success {
  background-color: #5cb85c;
}
.label-success[href]:hover,
.label-success[href]:focus {
  background-color: #449d44;
}
.label-info {
  background-color: #5bc0de;
}
.label-info[href]:hover,
.label-info[href]:focus {
  background-color: #31b0d5;
}
.label-warning {
  background-color: #f0ad4e;
}
.label-warning[href]:hover,
.label-warning[href]:focus {
  background-color: #ec971f;
}
.label-danger {
  background-color: #d9534f;
}
.label-danger[href]:hover,
.label-danger[href]:focus {
  background-color: #c9302c;
}
.badge {
  display: inline-block;
  min-width: 10px;
  padding: 3px 7px;
  font-size: 12px;
  font-weight: bold;
  color: #fff;
  line-height: 1;
  vertical-align: middle;
  white-space: nowrap;
  text-align: center;
  background-color: #777777;
  border-radius: 10px;
}
.badge:empty {
  display: none;
}
.btn .badge {
  position: relative;
  top: -1px;
}
.btn-xs .badge,
.btn-group-xs > .btn .badge {
  top: 0;
  padding: 1px 5px;
}
a.badge:hover,
a.badge:focus {
  color: #fff;
  text-decoration: none;
  cursor: pointer;
}
.list-group-item.active > .badge,
.nav-pills > .active > a > .badge {
  color: #337ab7;
  background-color: #fff;
}
.list-group-item > .badge {
  float: right;
}
.list-group-item > .badge + .badge {
  margin-right: 5px;
}
.nav-pills > li > a > .badge {
  margin-left: 3px;
}
.jumbotron {
  padding-top: 30px;
  padding-bottom: 30px;
  margin-bottom: 30px;
  color: inherit;
  background-color: #eeeeee;
}
.jumbotron h1,
.jumbotron .h1 {
  color: inherit;
}
.jumbotron p {
  margin-bottom: 15px;
  font-size: 20px;
  font-weight: 200;
}
.jumbotron > hr {
  border-top-color: #d5d5d5;
}
.container .jumbotron,
.container-fluid .jumbotron {
  border-radius: 3px;
  padding-left: 0px;
  padding-right: 0px;
}
.jumbotron .container {
  max-width: 100%;
}
@media screen and (min-width: 768px) {
  .jumbotron {
    padding-top: 48px;
    padding-bottom: 48px;
  }
  .container .jumbotron,
  .container-fluid .jumbotron {
    padding-left: 60px;
    padding-right: 60px;
  }
  .jumbotron h1,
  .jumbotron .h1 {
    font-size: 59px;
  }
}
.thumbnail {
  display: block;
  padding: 4px;
  margin-bottom: 18px;
  line-height: 1.42857143;
  background-color: #fff;
  border: 1px solid #ddd;
  border-radius: 2px;
  -webkit-transition: border 0.2s ease-in-out;
  -o-transition: border 0.2s ease-in-out;
  transition: border 0.2s ease-in-out;
}
.thumbnail > img,
.thumbnail a > img {
  margin-left: auto;
  margin-right: auto;
}
a.thumbnail:hover,
a.thumbnail:focus,
a.thumbnail.active {
  border-color: #337ab7;
}
.thumbnail .caption {
  padding: 9px;
  color: #000;
}
.alert {
  padding: 15px;
  margin-bottom: 18px;
  border: 1px solid transparent;
  border-radius: 2px;
}
.alert h4 {
  margin-top: 0;
  color: inherit;
}
.alert .alert-link {
  font-weight: bold;
}
.alert > p,
.alert > ul {
  margin-bottom: 0;
}
.alert > p + p {
  margin-top: 5px;
}
.alert-dismissable,
.alert-dismissible {
  padding-right: 35px;
}
.alert-dismissable .close,
.alert-dismissible .close {
  position: relative;
  top: -2px;
  right: -21px;
  color: inherit;
}
.alert-success {
  background-color: #dff0d8;
  border-color: #d6e9c6;
  color: #3c763d;
}
.alert-success hr {
  border-top-color: #c9e2b3;
}
.alert-success .alert-link {
  color: #2b542c;
}
.alert-info {
  background-color: #d9edf7;
  border-color: #bce8f1;
  color: #31708f;
}
.alert-info hr {
  border-top-color: #a6e1ec;
}
.alert-info .alert-link {
  color: #245269;
}
.alert-warning {
  background-color: #fcf8e3;
  border-color: #faebcc;
  color: #8a6d3b;
}
.alert-warning hr {
  border-top-color: #f7e1b5;
}
.alert-warning .alert-link {
  color: #66512c;
}
.alert-danger {
  background-color: #f2dede;
  border-color: #ebccd1;
  color: #a94442;
}
.alert-danger hr {
  border-top-color: #e4b9c0;
}
.alert-danger .alert-link {
  color: #843534;
}
@-webkit-keyframes progress-bar-stripes {
  from {
    background-position: 40px 0;
  }
  to {
    background-position: 0 0;
  }
}
@keyframes progress-bar-stripes {
  from {
    background-position: 40px 0;
  }
  to {
    background-position: 0 0;
  }
}
.progress {
  overflow: hidden;
  height: 18px;
  margin-bottom: 18px;
  background-color: #f5f5f5;
  border-radius: 2px;
  -webkit-box-shadow: inset 0 1px 2px rgba(0, 0, 0, 0.1);
  box-shadow: inset 0 1px 2px rgba(0, 0, 0, 0.1);
}
.progress-bar {
  float: left;
  width: 0%;
  height: 100%;
  font-size: 12px;
  line-height: 18px;
  color: #fff;
  text-align: center;
  background-color: #337ab7;
  -webkit-box-shadow: inset 0 -1px 0 rgba(0, 0, 0, 0.15);
  box-shadow: inset 0 -1px 0 rgba(0, 0, 0, 0.15);
  -webkit-transition: width 0.6s ease;
  -o-transition: width 0.6s ease;
  transition: width 0.6s ease;
}
.progress-striped .progress-bar,
.progress-bar-striped {
  background-image: -webkit-linear-gradient(45deg, rgba(255, 255, 255, 0.15) 25%, transparent 25%, transparent 50%, rgba(255, 255, 255, 0.15) 50%, rgba(255, 255, 255, 0.15) 75%, transparent 75%, transparent);
  background-image: -o-linear-gradient(45deg, rgba(255, 255, 255, 0.15) 25%, transparent 25%, transparent 50%, rgba(255, 255, 255, 0.15) 50%, rgba(255, 255, 255, 0.15) 75%, transparent 75%, transparent);
  background-image: linear-gradient(45deg, rgba(255, 255, 255, 0.15) 25%, transparent 25%, transparent 50%, rgba(255, 255, 255, 0.15) 50%, rgba(255, 255, 255, 0.15) 75%, transparent 75%, transparent);
  background-size: 40px 40px;
}
.progress.active .progress-bar,
.progress-bar.active {
  -webkit-animation: progress-bar-stripes 2s linear infinite;
  -o-animation: progress-bar-stripes 2s linear infinite;
  animation: progress-bar-stripes 2s linear infinite;
}
.progress-bar-success {
  background-color: #5cb85c;
}
.progress-striped .progress-bar-success {
  background-image: -webkit-linear-gradient(45deg, rgba(255, 255, 255, 0.15) 25%, transparent 25%, transparent 50%, rgba(255, 255, 255, 0.15) 50%, rgba(255, 255, 255, 0.15) 75%, transparent 75%, transparent);
  background-image: -o-linear-gradient(45deg, rgba(255, 255, 255, 0.15) 25%, transparent 25%, transparent 50%, rgba(255, 255, 255, 0.15) 50%, rgba(255, 255, 255, 0.15) 75%, transparent 75%, transparent);
  background-image: linear-gradient(45deg, rgba(255, 255, 255, 0.15) 25%, transparent 25%, transparent 50%, rgba(255, 255, 255, 0.15) 50%, rgba(255, 255, 255, 0.15) 75%, transparent 75%, transparent);
}
.progress-bar-info {
  background-color: #5bc0de;
}
.progress-striped .progress-bar-info {
  background-image: -webkit-linear-gradient(45deg, rgba(255, 255, 255, 0.15) 25%, transparent 25%, transparent 50%, rgba(255, 255, 255, 0.15) 50%, rgba(255, 255, 255, 0.15) 75%, transparent 75%, transparent);
  background-image: -o-linear-gradient(45deg, rgba(255, 255, 255, 0.15) 25%, transparent 25%, transparent 50%, rgba(255, 255, 255, 0.15) 50%, rgba(255, 255, 255, 0.15) 75%, transparent 75%, transparent);
  background-image: linear-gradient(45deg, rgba(255, 255, 255, 0.15) 25%, transparent 25%, transparent 50%, rgba(255, 255, 255, 0.15) 50%, rgba(255, 255, 255, 0.15) 75%, transparent 75%, transparent);
}
.progress-bar-warning {
  background-color: #f0ad4e;
}
.progress-striped .progress-bar-warning {
  background-image: -webkit-linear-gradient(45deg, rgba(255, 255, 255, 0.15) 25%, transparent 25%, transparent 50%, rgba(255, 255, 255, 0.15) 50%, rgba(255, 255, 255, 0.15) 75%, transparent 75%, transparent);
  background-image: -o-linear-gradient(45deg, rgba(255, 255, 255, 0.15) 25%, transparent 25%, transparent 50%, rgba(255, 255, 255, 0.15) 50%, rgba(255, 255, 255, 0.15) 75%, transparent 75%, transparent);
  background-image: linear-gradient(45deg, rgba(255, 255, 255, 0.15) 25%, transparent 25%, transparent 50%, rgba(255, 255, 255, 0.15) 50%, rgba(255, 255, 255, 0.15) 75%, transparent 75%, transparent);
}
.progress-bar-danger {
  background-color: #d9534f;
}
.progress-striped .progress-bar-danger {
  background-image: -webkit-linear-gradient(45deg, rgba(255, 255, 255, 0.15) 25%, transparent 25%, transparent 50%, rgba(255, 255, 255, 0.15) 50%, rgba(255, 255, 255, 0.15) 75%, transparent 75%, transparent);
  background-image: -o-linear-gradient(45deg, rgba(255, 255, 255, 0.15) 25%, transparent 25%, transparent 50%, rgba(255, 255, 255, 0.15) 50%, rgba(255, 255, 255, 0.15) 75%, transparent 75%, transparent);
  background-image: linear-gradient(45deg, rgba(255, 255, 255, 0.15) 25%, transparent 25%, transparent 50%, rgba(255, 255, 255, 0.15) 50%, rgba(255, 255, 255, 0.15) 75%, transparent 75%, transparent);
}
.media {
  margin-top: 15px;
}
.media:first-child {
  margin-top: 0;
}
.media,
.media-body {
  zoom: 1;
  overflow: hidden;
}
.media-body {
  width: 10000px;
}
.media-object {
  display: block;
}
.media-object.img-thumbnail {
  max-width: none;
}
.media-right,
.media > .pull-right {
  padding-left: 10px;
}
.media-left,
.media > .pull-left {
  padding-right: 10px;
}
.media-left,
.media-right,
.media-body {
  display: table-cell;
  vertical-align: top;
}
.media-middle {
  vertical-align: middle;
}
.media-bottom {
  vertical-align: bottom;
}
.media-heading {
  margin-top: 0;
  margin-bottom: 5px;
}
.media-list {
  padding-left: 0;
  list-style: none;
}
.list-group {
  margin-bottom: 20px;
  padding-left: 0;
}
.list-group-item {
  position: relative;
  display: block;
  padding: 10px 15px;
  margin-bottom: -1px;
  background-color: #fff;
  border: 1px solid #ddd;
}
.list-group-item:first-child {
  border-top-right-radius: 2px;
  border-top-left-radius: 2px;
}
.list-group-item:last-child {
  margin-bottom: 0;
  border-bottom-right-radius: 2px;
  border-bottom-left-radius: 2px;
}
a.list-group-item,
button.list-group-item {
  color: #555;
}
a.list-group-item .list-group-item-heading,
button.list-group-item .list-group-item-heading {
  color: #333;
}
a.list-group-item:hover,
button.list-group-item:hover,
a.list-group-item:focus,
button.list-group-item:focus {
  text-decoration: none;
  color: #555;
  background-color: #f5f5f5;
}
button.list-group-item {
  width: 100%;
  text-align: left;
}
.list-group-item.disabled,
.list-group-item.disabled:hover,
.list-group-item.disabled:focus {
  background-color: #eeeeee;
  color: #777777;
  cursor: not-allowed;
}
.list-group-item.disabled .list-group-item-heading,
.list-group-item.disabled:hover .list-group-item-heading,
.list-group-item.disabled:focus .list-group-item-heading {
  color: inherit;
}
.list-group-item.disabled .list-group-item-text,
.list-group-item.disabled:hover .list-group-item-text,
.list-group-item.disabled:focus .list-group-item-text {
  color: #777777;
}
.list-group-item.active,
.list-group-item.active:hover,
.list-group-item.active:focus {
  z-index: 2;
  color: #fff;
  background-color: #337ab7;
  border-color: #337ab7;
}
.list-group-item.active .list-group-item-heading,
.list-group-item.active:hover .list-group-item-heading,
.list-group-item.active:focus .list-group-item-heading,
.list-group-item.active .list-group-item-heading > small,
.list-group-item.active:hover .list-group-item-heading > small,
.list-group-item.active:focus .list-group-item-heading > small,
.list-group-item.active .list-group-item-heading > .small,
.list-group-item.active:hover .list-group-item-heading > .small,
.list-group-item.active:focus .list-group-item-heading > .small {
  color: inherit;
}
.list-group-item.active .list-group-item-text,
.list-group-item.active:hover .list-group-item-text,
.list-group-item.active:focus .list-group-item-text {
  color: #c7ddef;
}
.list-group-item-success {
  color: #3c763d;
  background-color: #dff0d8;
}
a.list-group-item-success,
button.list-group-item-success {
  color: #3c763d;
}
a.list-group-item-success .list-group-item-heading,
button.list-group-item-success .list-group-item-heading {
  color: inherit;
}
a.list-group-item-success:hover,
button.list-group-item-success:hover,
a.list-group-item-success:focus,
button.list-group-item-success:focus {
  color: #3c763d;
  background-color: #d0e9c6;
}
a.list-group-item-success.active,
button.list-group-item-success.active,
a.list-group-item-success.active:hover,
button.list-group-item-success.active:hover,
a.list-group-item-success.active:focus,
button.list-group-item-success.active:focus {
  color: #fff;
  background-color: #3c763d;
  border-color: #3c763d;
}
.list-group-item-info {
  color: #31708f;
  background-color: #d9edf7;
}
a.list-group-item-info,
button.list-group-item-info {
  color: #31708f;
}
a.list-group-item-info .list-group-item-heading,
button.list-group-item-info .list-group-item-heading {
  color: inherit;
}
a.list-group-item-info:hover,
button.list-group-item-info:hover,
a.list-group-item-info:focus,
button.list-group-item-info:focus {
  color: #31708f;
  background-color: #c4e3f3;
}
a.list-group-item-info.active,
button.list-group-item-info.active,
a.list-group-item-info.active:hover,
button.list-group-item-info.active:hover,
a.list-group-item-info.active:focus,
button.list-group-item-info.active:focus {
  color: #fff;
  background-color: #31708f;
  border-color: #31708f;
}
.list-group-item-warning {
  color: #8a6d3b;
  background-color: #fcf8e3;
}
a.list-group-item-warning,
button.list-group-item-warning {
  color: #8a6d3b;
}
a.list-group-item-warning .list-group-item-heading,
button.list-group-item-warning .list-group-item-heading {
  color: inherit;
}
a.list-group-item-warning:hover,
button.list-group-item-warning:hover,
a.list-group-item-warning:focus,
button.list-group-item-warning:focus {
  color: #8a6d3b;
  background-color: #faf2cc;
}
a.list-group-item-warning.active,
button.list-group-item-warning.active,
a.list-group-item-warning.active:hover,
button.list-group-item-warning.active:hover,
a.list-group-item-warning.active:focus,
button.list-group-item-warning.active:focus {
  color: #fff;
  background-color: #8a6d3b;
  border-color: #8a6d3b;
}
.list-group-item-danger {
  color: #a94442;
  background-color: #f2dede;
}
a.list-group-item-danger,
button.list-group-item-danger {
  color: #a94442;
}
a.list-group-item-danger .list-group-item-heading,
button.list-group-item-danger .list-group-item-heading {
  color: inherit;
}
a.list-group-item-danger:hover,
button.list-group-item-danger:hover,
a.list-group-item-danger:focus,
button.list-group-item-danger:focus {
  color: #a94442;
  background-color: #ebcccc;
}
a.list-group-item-danger.active,
button.list-group-item-danger.active,
a.list-group-item-danger.active:hover,
button.list-group-item-danger.active:hover,
a.list-group-item-danger.active:focus,
button.list-group-item-danger.active:focus {
  color: #fff;
  background-color: #a94442;
  border-color: #a94442;
}
.list-group-item-heading {
  margin-top: 0;
  margin-bottom: 5px;
}
.list-group-item-text {
  margin-bottom: 0;
  line-height: 1.3;
}
.panel {
  margin-bottom: 18px;
  background-color: #fff;
  border: 1px solid transparent;
  border-radius: 2px;
  -webkit-box-shadow: 0 1px 1px rgba(0, 0, 0, 0.05);
  box-shadow: 0 1px 1px rgba(0, 0, 0, 0.05);
}
.panel-body {
  padding: 15px;
}
.panel-heading {
  padding: 10px 15px;
  border-bottom: 1px solid transparent;
  border-top-right-radius: 1px;
  border-top-left-radius: 1px;
}
.panel-heading > .dropdown .dropdown-toggle {
  color: inherit;
}
.panel-title {
  margin-top: 0;
  margin-bottom: 0;
  font-size: 15px;
  color: inherit;
}
.panel-title > a,
.panel-title > small,
.panel-title > .small,
.panel-title > small > a,
.panel-title > .small > a {
  color: inherit;
}
.panel-footer {
  padding: 10px 15px;
  background-color: #f5f5f5;
  border-top: 1px solid #ddd;
  border-bottom-right-radius: 1px;
  border-bottom-left-radius: 1px;
}
.panel > .list-group,
.panel > .panel-collapse > .list-group {
  margin-bottom: 0;
}
.panel > .list-group .list-group-item,
.panel > .panel-collapse > .list-group .list-group-item {
  border-width: 1px 0;
  border-radius: 0;
}
.panel > .list-group:first-child .list-group-item:first-child,
.panel > .panel-collapse > .list-group:first-child .list-group-item:first-child {
  border-top: 0;
  border-top-right-radius: 1px;
  border-top-left-radius: 1px;
}
.panel > .list-group:last-child .list-group-item:last-child,
.panel > .panel-collapse > .list-group:last-child .list-group-item:last-child {
  border-bottom: 0;
  border-bottom-right-radius: 1px;
  border-bottom-left-radius: 1px;
}
.panel > .panel-heading + .panel-collapse > .list-group .list-group-item:first-child {
  border-top-right-radius: 0;
  border-top-left-radius: 0;
}
.panel-heading + .list-group .list-group-item:first-child {
  border-top-width: 0;
}
.list-group + .panel-footer {
  border-top-width: 0;
}
.panel > .table,
.panel > .table-responsive > .table,
.panel > .panel-collapse > .table {
  margin-bottom: 0;
}
.panel > .table caption,
.panel > .table-responsive > .table caption,
.panel > .panel-collapse > .table caption {
  padding-left: 15px;
  padding-right: 15px;
}
.panel > .table:first-child,
.panel > .table-responsive:first-child > .table:first-child {
  border-top-right-radius: 1px;
  border-top-left-radius: 1px;
}
.panel > .table:first-child > thead:first-child > tr:first-child,
.panel > .table-responsive:first-child > .table:first-child > thead:first-child > tr:first-child,
.panel > .table:first-child > tbody:first-child > tr:first-child,
.panel > .table-responsive:first-child > .table:first-child > tbody:first-child > tr:first-child {
  border-top-left-radius: 1px;
  border-top-right-radius: 1px;
}
.panel > .table:first-child > thead:first-child > tr:first-child td:first-child,
.panel > .table-responsive:first-child > .table:first-child > thead:first-child > tr:first-child td:first-child,
.panel > .table:first-child > tbody:first-child > tr:first-child td:first-child,
.panel > .table-responsive:first-child > .table:first-child > tbody:first-child > tr:first-child td:first-child,
.panel > .table:first-child > thead:first-child > tr:first-child th:first-child,
.panel > .table-responsive:first-child > .table:first-child > thead:first-child > tr:first-child th:first-child,
.panel > .table:first-child > tbody:first-child > tr:first-child th:first-child,
.panel > .table-responsive:first-child > .table:first-child > tbody:first-child > tr:first-child th:first-child {
  border-top-left-radius: 1px;
}
.panel > .table:first-child > thead:first-child > tr:first-child td:last-child,
.panel > .table-responsive:first-child > .table:first-child > thead:first-child > tr:first-child td:last-child,
.panel > .table:first-child > tbody:first-child > tr:first-child td:last-child,
.panel > .table-responsive:first-child > .table:first-child > tbody:first-child > tr:first-child td:last-child,
.panel > .table:first-child > thead:first-child > tr:first-child th:last-child,
.panel > .table-responsive:first-child > .table:first-child > thead:first-child > tr:first-child th:last-child,
.panel > .table:first-child > tbody:first-child > tr:first-child th:last-child,
.panel > .table-responsive:first-child > .table:first-child > tbody:first-child > tr:first-child th:last-child {
  border-top-right-radius: 1px;
}
.panel > .table:last-child,
.panel > .table-responsive:last-child > .table:last-child {
  border-bottom-right-radius: 1px;
  border-bottom-left-radius: 1px;
}
.panel > .table:last-child > tbody:last-child > tr:last-child,
.panel > .table-responsive:last-child > .table:last-child > tbody:last-child > tr:last-child,
.panel > .table:last-child > tfoot:last-child > tr:last-child,
.panel > .table-responsive:last-child > .table:last-child > tfoot:last-child > tr:last-child {
  border-bottom-left-radius: 1px;
  border-bottom-right-radius: 1px;
}
.panel > .table:last-child > tbody:last-child > tr:last-child td:first-child,
.panel > .table-responsive:last-child > .table:last-child > tbody:last-child > tr:last-child td:first-child,
.panel > .table:last-child > tfoot:last-child > tr:last-child td:first-child,
.panel > .table-responsive:last-child > .table:last-child > tfoot:last-child > tr:last-child td:first-child,
.panel > .table:last-child > tbody:last-child > tr:last-child th:first-child,
.panel > .table-responsive:last-child > .table:last-child > tbody:last-child > tr:last-child th:first-child,
.panel > .table:last-child > tfoot:last-child > tr:last-child th:first-child,
.panel > .table-responsive:last-child > .table:last-child > tfoot:last-child > tr:last-child th:first-child {
  border-bottom-left-radius: 1px;
}
.panel > .table:last-child > tbody:last-child > tr:last-child td:last-child,
.panel > .table-responsive:last-child > .table:last-child > tbody:last-child > tr:last-child td:last-child,
.panel > .table:last-child > tfoot:last-child > tr:last-child td:last-child,
.panel > .table-responsive:last-child > .table:last-child > tfoot:last-child > tr:last-child td:last-child,
.panel > .table:last-child > tbody:last-child > tr:last-child th:last-child,
.panel > .table-responsive:last-child > .table:last-child > tbody:last-child > tr:last-child th:last-child,
.panel > .table:last-child > tfoot:last-child > tr:last-child th:last-child,
.panel > .table-responsive:last-child > .table:last-child > tfoot:last-child > tr:last-child th:last-child {
  border-bottom-right-radius: 1px;
}
.panel > .panel-body + .table,
.panel > .panel-body + .table-responsive,
.panel > .table + .panel-body,
.panel > .table-responsive + .panel-body {
  border-top: 1px solid #ddd;
}
.panel > .table > tbody:first-child > tr:first-child th,
.panel > .table > tbody:first-child > tr:first-child td {
  border-top: 0;
}
.panel > .table-bordered,
.panel > .table-responsive > .table-bordered {
  border: 0;
}
.panel > .table-bordered > thead > tr > th:first-child,
.panel > .table-responsive > .table-bordered > thead > tr > th:first-child,
.panel > .table-bordered > tbody > tr > th:first-child,
.panel > .table-responsive > .table-bordered > tbody > tr > th:first-child,
.panel > .table-bordered > tfoot > tr > th:first-child,
.panel > .table-responsive > .table-bordered > tfoot > tr > th:first-child,
.panel > .table-bordered > thead > tr > td:first-child,
.panel > .table-responsive > .table-bordered > thead > tr > td:first-child,
.panel > .table-bordered > tbody > tr > td:first-child,
.panel > .table-responsive > .table-bordered > tbody > tr > td:first-child,
.panel > .table-bordered > tfoot > tr > td:first-child,
.panel > .table-responsive > .table-bordered > tfoot > tr > td:first-child {
  border-left: 0;
}
.panel > .table-bordered > thead > tr > th:last-child,
.panel > .table-responsive > .table-bordered > thead > tr > th:last-child,
.panel > .table-bordered > tbody > tr > th:last-child,
.panel > .table-responsive > .table-bordered > tbody > tr > th:last-child,
.panel > .table-bordered > tfoot > tr > th:last-child,
.panel > .table-responsive > .table-bordered > tfoot > tr > th:last-child,
.panel > .table-bordered > thead > tr > td:last-child,
.panel > .table-responsive > .table-bordered > thead > tr > td:last-child,
.panel > .table-bordered > tbody > tr > td:last-child,
.panel > .table-responsive > .table-bordered > tbody > tr > td:last-child,
.panel > .table-bordered > tfoot > tr > td:last-child,
.panel > .table-responsive > .table-bordered > tfoot > tr > td:last-child {
  border-right: 0;
}
.panel > .table-bordered > thead > tr:first-child > td,
.panel > .table-responsive > .table-bordered > thead > tr:first-child > td,
.panel > .table-bordered > tbody > tr:first-child > td,
.panel > .table-responsive > .table-bordered > tbody > tr:first-child > td,
.panel > .table-bordered > thead > tr:first-child > th,
.panel > .table-responsive > .table-bordered > thead > tr:first-child > th,
.panel > .table-bordered > tbody > tr:first-child > th,
.panel > .table-responsive > .table-bordered > tbody > tr:first-child > th {
  border-bottom: 0;
}
.panel > .table-bordered > tbody > tr:last-child > td,
.panel > .table-responsive > .table-bordered > tbody > tr:last-child > td,
.panel > .table-bordered > tfoot > tr:last-child > td,
.panel > .table-responsive > .table-bordered > tfoot > tr:last-child > td,
.panel > .table-bordered > tbody > tr:last-child > th,
.panel > .table-responsive > .table-bordered > tbody > tr:last-child > th,
.panel > .table-bordered > tfoot > tr:last-child > th,
.panel > .table-responsive > .table-bordered > tfoot > tr:last-child > th {
  border-bottom: 0;
}
.panel > .table-responsive {
  border: 0;
  margin-bottom: 0;
}
.panel-group {
  margin-bottom: 18px;
}
.panel-group .panel {
  margin-bottom: 0;
  border-radius: 2px;
}
.panel-group .panel + .panel {
  margin-top: 5px;
}
.panel-group .panel-heading {
  border-bottom: 0;
}
.panel-group .panel-heading + .panel-collapse > .panel-body,
.panel-group .panel-heading + .panel-collapse > .list-group {
  border-top: 1px solid #ddd;
}
.panel-group .panel-footer {
  border-top: 0;
}
.panel-group .panel-footer + .panel-collapse .panel-body {
  border-bottom: 1px solid #ddd;
}
.panel-default {
  border-color: #ddd;
}
.panel-default > .panel-heading {
  color: #333333;
  background-color: #f5f5f5;
  border-color: #ddd;
}
.panel-default > .panel-heading + .panel-collapse > .panel-body {
  border-top-color: #ddd;
}
.panel-default > .panel-heading .badge {
  color: #f5f5f5;
  background-color: #333333;
}
.panel-default > .panel-footer + .panel-collapse > .panel-body {
  border-bottom-color: #ddd;
}
.panel-primary {
  border-color: #337ab7;
}
.panel-primary > .panel-heading {
  color: #fff;
  background-color: #337ab7;
  border-color: #337ab7;
}
.panel-primary > .panel-heading + .panel-collapse > .panel-body {
  border-top-color: #337ab7;
}
.panel-primary > .panel-heading .badge {
  color: #337ab7;
  background-color: #fff;
}
.panel-primary > .panel-footer + .panel-collapse > .panel-body {
  border-bottom-color: #337ab7;
}
.panel-success {
  border-color: #d6e9c6;
}
.panel-success > .panel-heading {
  color: #3c763d;
  background-color: #dff0d8;
  border-color: #d6e9c6;
}
.panel-success > .panel-heading + .panel-collapse > .panel-body {
  border-top-color: #d6e9c6;
}
.panel-success > .panel-heading .badge {
  color: #dff0d8;
  background-color: #3c763d;
}
.panel-success > .panel-footer + .panel-collapse > .panel-body {
  border-bottom-color: #d6e9c6;
}
.panel-info {
  border-color: #bce8f1;
}
.panel-info > .panel-heading {
  color: #31708f;
  background-color: #d9edf7;
  border-color: #bce8f1;
}
.panel-info > .panel-heading + .panel-collapse > .panel-body {
  border-top-color: #bce8f1;
}
.panel-info > .panel-heading .badge {
  color: #d9edf7;
  background-color: #31708f;
}
.panel-info > .panel-footer + .panel-collapse > .panel-body {
  border-bottom-color: #bce8f1;
}
.panel-warning {
  border-color: #faebcc;
}
.panel-warning > .panel-heading {
  color: #8a6d3b;
  background-color: #fcf8e3;
  border-color: #faebcc;
}
.panel-warning > .panel-heading + .panel-collapse > .panel-body {
  border-top-color: #faebcc;
}
.panel-warning > .panel-heading .badge {
  color: #fcf8e3;
  background-color: #8a6d3b;
}
.panel-warning > .panel-footer + .panel-collapse > .panel-body {
  border-bottom-color: #faebcc;
}
.panel-danger {
  border-color: #ebccd1;
}
.panel-danger > .panel-heading {
  color: #a94442;
  background-color: #f2dede;
  border-color: #ebccd1;
}
.panel-danger > .panel-heading + .panel-collapse > .panel-body {
  border-top-color: #ebccd1;
}
.panel-danger > .panel-heading .badge {
  color: #f2dede;
  background-color: #a94442;
}
.panel-danger > .panel-footer + .panel-collapse > .panel-body {
  border-bottom-color: #ebccd1;
}
.embed-responsive {
  position: relative;
  display: block;
  height: 0;
  padding: 0;
  overflow: hidden;
}
.embed-responsive .embed-responsive-item,
.embed-responsive iframe,
.embed-responsive embed,
.embed-responsive object,
.embed-responsive video {
  position: absolute;
  top: 0;
  left: 0;
  bottom: 0;
  height: 100%;
  width: 100%;
  border: 0;
}
.embed-responsive-16by9 {
  padding-bottom: 56.25%;
}
.embed-responsive-4by3 {
  padding-bottom: 75%;
}
.well {
  min-height: 20px;
  padding: 19px;
  margin-bottom: 20px;
  background-color: #f5f5f5;
  border: 1px solid #e3e3e3;
  border-radius: 2px;
  -webkit-box-shadow: inset 0 1px 1px rgba(0, 0, 0, 0.05);
  box-shadow: inset 0 1px 1px rgba(0, 0, 0, 0.05);
}
.well blockquote {
  border-color: #ddd;
  border-color: rgba(0, 0, 0, 0.15);
}
.well-lg {
  padding: 24px;
  border-radius: 3px;
}
.well-sm {
  padding: 9px;
  border-radius: 1px;
}
.close {
  float: right;
  font-size: 19.5px;
  font-weight: bold;
  line-height: 1;
  color: #000;
  text-shadow: 0 1px 0 #fff;
  opacity: 0.2;
  filter: alpha(opacity=20);
}
.close:hover,
.close:focus {
  color: #000;
  text-decoration: none;
  cursor: pointer;
  opacity: 0.5;
  filter: alpha(opacity=50);
}
button.close {
  padding: 0;
  cursor: pointer;
  background: transparent;
  border: 0;
  -webkit-appearance: none;
}
.modal-open {
  overflow: hidden;
}
.modal {
  display: none;
  overflow: hidden;
  position: fixed;
  top: 0;
  right: 0;
  bottom: 0;
  left: 0;
  z-index: 1050;
  -webkit-overflow-scrolling: touch;
  outline: 0;
}
.modal.fade .modal-dialog {
  -webkit-transform: translate(0, -25%);
  -ms-transform: translate(0, -25%);
  -o-transform: translate(0, -25%);
  transform: translate(0, -25%);
  -webkit-transition: -webkit-transform 0.3s ease-out;
  -moz-transition: -moz-transform 0.3s ease-out;
  -o-transition: -o-transform 0.3s ease-out;
  transition: transform 0.3s ease-out;
}
.modal.in .modal-dialog {
  -webkit-transform: translate(0, 0);
  -ms-transform: translate(0, 0);
  -o-transform: translate(0, 0);
  transform: translate(0, 0);
}
.modal-open .modal {
  overflow-x: hidden;
  overflow-y: auto;
}
.modal-dialog {
  position: relative;
  width: auto;
  margin: 10px;
}
.modal-content {
  position: relative;
  background-color: #fff;
  border: 1px solid #999;
  border: 1px solid rgba(0, 0, 0, 0.2);
  border-radius: 3px;
  -webkit-box-shadow: 0 3px 9px rgba(0, 0, 0, 0.5);
  box-shadow: 0 3px 9px rgba(0, 0, 0, 0.5);
  background-clip: padding-box;
  outline: 0;
}
.modal-backdrop {
  position: fixed;
  top: 0;
  right: 0;
  bottom: 0;
  left: 0;
  z-index: 1040;
  background-color: #000;
}
.modal-backdrop.fade {
  opacity: 0;
  filter: alpha(opacity=0);
}
.modal-backdrop.in {
  opacity: 0.5;
  filter: alpha(opacity=50);
}
.modal-header {
  padding: 15px;
  border-bottom: 1px solid #e5e5e5;
}
.modal-header .close {
  margin-top: -2px;
}
.modal-title {
  margin: 0;
  line-height: 1.42857143;
}
.modal-body {
  position: relative;
  padding: 15px;
}
.modal-footer {
  padding: 15px;
  text-align: right;
  border-top: 1px solid #e5e5e5;
}
.modal-footer .btn + .btn {
  margin-left: 5px;
  margin-bottom: 0;
}
.modal-footer .btn-group .btn + .btn {
  margin-left: -1px;
}
.modal-footer .btn-block + .btn-block {
  margin-left: 0;
}
.modal-scrollbar-measure {
  position: absolute;
  top: -9999px;
  width: 50px;
  height: 50px;
  overflow: scroll;
}
@media (min-width: 768px) {
  .modal-dialog {
    width: 600px;
    margin: 30px auto;
  }
  .modal-content {
    -webkit-box-shadow: 0 5px 15px rgba(0, 0, 0, 0.5);
    box-shadow: 0 5px 15px rgba(0, 0, 0, 0.5);
  }
  .modal-sm {
    width: 300px;
  }
}
@media (min-width: 992px) {
  .modal-lg {
    width: 900px;
  }
}
.tooltip {
  position: absolute;
  z-index: 1070;
  display: block;
  font-family: "Helvetica Neue", Helvetica, Arial, sans-serif;
  font-style: normal;
  font-weight: normal;
  letter-spacing: normal;
  line-break: auto;
  line-height: 1.42857143;
  text-align: left;
  text-align: start;
  text-decoration: none;
  text-shadow: none;
  text-transform: none;
  white-space: normal;
  word-break: normal;
  word-spacing: normal;
  word-wrap: normal;
  font-size: 12px;
  opacity: 0;
  filter: alpha(opacity=0);
}
.tooltip.in {
  opacity: 0.9;
  filter: alpha(opacity=90);
}
.tooltip.top {
  margin-top: -3px;
  padding: 5px 0;
}
.tooltip.right {
  margin-left: 3px;
  padding: 0 5px;
}
.tooltip.bottom {
  margin-top: 3px;
  padding: 5px 0;
}
.tooltip.left {
  margin-left: -3px;
  padding: 0 5px;
}
.tooltip-inner {
  max-width: 200px;
  padding: 3px 8px;
  color: #fff;
  text-align: center;
  background-color: #000;
  border-radius: 2px;
}
.tooltip-arrow {
  position: absolute;
  width: 0;
  height: 0;
  border-color: transparent;
  border-style: solid;
}
.tooltip.top .tooltip-arrow {
  bottom: 0;
  left: 50%;
  margin-left: -5px;
  border-width: 5px 5px 0;
  border-top-color: #000;
}
.tooltip.top-left .tooltip-arrow {
  bottom: 0;
  right: 5px;
  margin-bottom: -5px;
  border-width: 5px 5px 0;
  border-top-color: #000;
}
.tooltip.top-right .tooltip-arrow {
  bottom: 0;
  left: 5px;
  margin-bottom: -5px;
  border-width: 5px 5px 0;
  border-top-color: #000;
}
.tooltip.right .tooltip-arrow {
  top: 50%;
  left: 0;
  margin-top: -5px;
  border-width: 5px 5px 5px 0;
  border-right-color: #000;
}
.tooltip.left .tooltip-arrow {
  top: 50%;
  right: 0;
  margin-top: -5px;
  border-width: 5px 0 5px 5px;
  border-left-color: #000;
}
.tooltip.bottom .tooltip-arrow {
  top: 0;
  left: 50%;
  margin-left: -5px;
  border-width: 0 5px 5px;
  border-bottom-color: #000;
}
.tooltip.bottom-left .tooltip-arrow {
  top: 0;
  right: 5px;
  margin-top: -5px;
  border-width: 0 5px 5px;
  border-bottom-color: #000;
}
.tooltip.bottom-right .tooltip-arrow {
  top: 0;
  left: 5px;
  margin-top: -5px;
  border-width: 0 5px 5px;
  border-bottom-color: #000;
}
.popover {
  position: absolute;
  top: 0;
  left: 0;
  z-index: 1060;
  display: none;
  max-width: 276px;
  padding: 1px;
  font-family: "Helvetica Neue", Helvetica, Arial, sans-serif;
  font-style: normal;
  font-weight: normal;
  letter-spacing: normal;
  line-break: auto;
  line-height: 1.42857143;
  text-align: left;
  text-align: start;
  text-decoration: none;
  text-shadow: none;
  text-transform: none;
  white-space: normal;
  word-break: normal;
  word-spacing: normal;
  word-wrap: normal;
  font-size: 13px;
  background-color: #fff;
  background-clip: padding-box;
  border: 1px solid #ccc;
  border: 1px solid rgba(0, 0, 0, 0.2);
  border-radius: 3px;
  -webkit-box-shadow: 0 5px 10px rgba(0, 0, 0, 0.2);
  box-shadow: 0 5px 10px rgba(0, 0, 0, 0.2);
}
.popover.top {
  margin-top: -10px;
}
.popover.right {
  margin-left: 10px;
}
.popover.bottom {
  margin-top: 10px;
}
.popover.left {
  margin-left: -10px;
}
.popover-title {
  margin: 0;
  padding: 8px 14px;
  font-size: 13px;
  background-color: #f7f7f7;
  border-bottom: 1px solid #ebebeb;
  border-radius: 2px 2px 0 0;
}
.popover-content {
  padding: 9px 14px;
}
.popover > .arrow,
.popover > .arrow:after {
  position: absolute;
  display: block;
  width: 0;
  height: 0;
  border-color: transparent;
  border-style: solid;
}
.popover > .arrow {
  border-width: 11px;
}
.popover > .arrow:after {
  border-width: 10px;
  content: "";
}
.popover.top > .arrow {
  left: 50%;
  margin-left: -11px;
  border-bottom-width: 0;
  border-top-color: #999999;
  border-top-color: rgba(0, 0, 0, 0.25);
  bottom: -11px;
}
.popover.top > .arrow:after {
  content: " ";
  bottom: 1px;
  margin-left: -10px;
  border-bottom-width: 0;
  border-top-color: #fff;
}
.popover.right > .arrow {
  top: 50%;
  left: -11px;
  margin-top: -11px;
  border-left-width: 0;
  border-right-color: #999999;
  border-right-color: rgba(0, 0, 0, 0.25);
}
.popover.right > .arrow:after {
  content: " ";
  left: 1px;
  bottom: -10px;
  border-left-width: 0;
  border-right-color: #fff;
}
.popover.bottom > .arrow {
  left: 50%;
  margin-left: -11px;
  border-top-width: 0;
  border-bottom-color: #999999;
  border-bottom-color: rgba(0, 0, 0, 0.25);
  top: -11px;
}
.popover.bottom > .arrow:after {
  content: " ";
  top: 1px;
  margin-left: -10px;
  border-top-width: 0;
  border-bottom-color: #fff;
}
.popover.left > .arrow {
  top: 50%;
  right: -11px;
  margin-top: -11px;
  border-right-width: 0;
  border-left-color: #999999;
  border-left-color: rgba(0, 0, 0, 0.25);
}
.popover.left > .arrow:after {
  content: " ";
  right: 1px;
  border-right-width: 0;
  border-left-color: #fff;
  bottom: -10px;
}
.carousel {
  position: relative;
}
.carousel-inner {
  position: relative;
  overflow: hidden;
  width: 100%;
}
.carousel-inner > .item {
  display: none;
  position: relative;
  -webkit-transition: 0.6s ease-in-out left;
  -o-transition: 0.6s ease-in-out left;
  transition: 0.6s ease-in-out left;
}
.carousel-inner > .item > img,
.carousel-inner > .item > a > img {
  line-height: 1;
}
@media all and (transform-3d), (-webkit-transform-3d) {
  .carousel-inner > .item {
    -webkit-transition: -webkit-transform 0.6s ease-in-out;
    -moz-transition: -moz-transform 0.6s ease-in-out;
    -o-transition: -o-transform 0.6s ease-in-out;
    transition: transform 0.6s ease-in-out;
    -webkit-backface-visibility: hidden;
    -moz-backface-visibility: hidden;
    backface-visibility: hidden;
    -webkit-perspective: 1000px;
    -moz-perspective: 1000px;
    perspective: 1000px;
  }
  .carousel-inner > .item.next,
  .carousel-inner > .item.active.right {
    -webkit-transform: translate3d(100%, 0, 0);
    transform: translate3d(100%, 0, 0);
    left: 0;
  }
  .carousel-inner > .item.prev,
  .carousel-inner > .item.active.left {
    -webkit-transform: translate3d(-100%, 0, 0);
    transform: translate3d(-100%, 0, 0);
    left: 0;
  }
  .carousel-inner > .item.next.left,
  .carousel-inner > .item.prev.right,
  .carousel-inner > .item.active {
    -webkit-transform: translate3d(0, 0, 0);
    transform: translate3d(0, 0, 0);
    left: 0;
  }
}
.carousel-inner > .active,
.carousel-inner > .next,
.carousel-inner > .prev {
  display: block;
}
.carousel-inner > .active {
  left: 0;
}
.carousel-inner > .next,
.carousel-inner > .prev {
  position: absolute;
  top: 0;
  width: 100%;
}
.carousel-inner > .next {
  left: 100%;
}
.carousel-inner > .prev {
  left: -100%;
}
.carousel-inner > .next.left,
.carousel-inner > .prev.right {
  left: 0;
}
.carousel-inner > .active.left {
  left: -100%;
}
.carousel-inner > .active.right {
  left: 100%;
}
.carousel-control {
  position: absolute;
  top: 0;
  left: 0;
  bottom: 0;
  width: 15%;
  opacity: 0.5;
  filter: alpha(opacity=50);
  font-size: 20px;
  color: #fff;
  text-align: center;
  text-shadow: 0 1px 2px rgba(0, 0, 0, 0.6);
  background-color: rgba(0, 0, 0, 0);
}
.carousel-control.left {
  background-image: -webkit-linear-gradient(left, rgba(0, 0, 0, 0.5) 0%, rgba(0, 0, 0, 0.0001) 100%);
  background-image: -o-linear-gradient(left, rgba(0, 0, 0, 0.5) 0%, rgba(0, 0, 0, 0.0001) 100%);
  background-image: linear-gradient(to right, rgba(0, 0, 0, 0.5) 0%, rgba(0, 0, 0, 0.0001) 100%);
  background-repeat: repeat-x;
  filter: progid:DXImageTransform.Microsoft.gradient(startColorstr='#80000000', endColorstr='#00000000', GradientType=1);
}
.carousel-control.right {
  left: auto;
  right: 0;
  background-image: -webkit-linear-gradient(left, rgba(0, 0, 0, 0.0001) 0%, rgba(0, 0, 0, 0.5) 100%);
  background-image: -o-linear-gradient(left, rgba(0, 0, 0, 0.0001) 0%, rgba(0, 0, 0, 0.5) 100%);
  background-image: linear-gradient(to right, rgba(0, 0, 0, 0.0001) 0%, rgba(0, 0, 0, 0.5) 100%);
  background-repeat: repeat-x;
  filter: progid:DXImageTransform.Microsoft.gradient(startColorstr='#00000000', endColorstr='#80000000', GradientType=1);
}
.carousel-control:hover,
.carousel-control:focus {
  outline: 0;
  color: #fff;
  text-decoration: none;
  opacity: 0.9;
  filter: alpha(opacity=90);
}
.carousel-control .icon-prev,
.carousel-control .icon-next,
.carousel-control .glyphicon-chevron-left,
.carousel-control .glyphicon-chevron-right {
  position: absolute;
  top: 50%;
  margin-top: -10px;
  z-index: 5;
  display: inline-block;
}
.carousel-control .icon-prev,
.carousel-control .glyphicon-chevron-left {
  left: 50%;
  margin-left: -10px;
}
.carousel-control .icon-next,
.carousel-control .glyphicon-chevron-right {
  right: 50%;
  margin-right: -10px;
}
.carousel-control .icon-prev,
.carousel-control .icon-next {
  width: 20px;
  height: 20px;
  line-height: 1;
  font-family: serif;
}
.carousel-control .icon-prev:before {
  content: '\2039';
}
.carousel-control .icon-next:before {
  content: '\203a';
}
.carousel-indicators {
  position: absolute;
  bottom: 10px;
  left: 50%;
  z-index: 15;
  width: 60%;
  margin-left: -30%;
  padding-left: 0;
  list-style: none;
  text-align: center;
}
.carousel-indicators li {
  display: inline-block;
  width: 10px;
  height: 10px;
  margin: 1px;
  text-indent: -999px;
  border: 1px solid #fff;
  border-radius: 10px;
  cursor: pointer;
  background-color: #000 \9;
  background-color: rgba(0, 0, 0, 0);
}
.carousel-indicators .active {
  margin: 0;
  width: 12px;
  height: 12px;
  background-color: #fff;
}
.carousel-caption {
  position: absolute;
  left: 15%;
  right: 15%;
  bottom: 20px;
  z-index: 10;
  padding-top: 20px;
  padding-bottom: 20px;
  color: #fff;
  text-align: center;
  text-shadow: 0 1px 2px rgba(0, 0, 0, 0.6);
}
.carousel-caption .btn {
  text-shadow: none;
}
@media screen and (min-width: 768px) {
  .carousel-control .glyphicon-chevron-left,
  .carousel-control .glyphicon-chevron-right,
  .carousel-control .icon-prev,
  .carousel-control .icon-next {
    width: 30px;
    height: 30px;
    margin-top: -10px;
    font-size: 30px;
  }
  .carousel-control .glyphicon-chevron-left,
  .carousel-control .icon-prev {
    margin-left: -10px;
  }
  .carousel-control .glyphicon-chevron-right,
  .carousel-control .icon-next {
    margin-right: -10px;
  }
  .carousel-caption {
    left: 20%;
    right: 20%;
    padding-bottom: 30px;
  }
  .carousel-indicators {
    bottom: 20px;
  }
}
.clearfix:before,
.clearfix:after,
.dl-horizontal dd:before,
.dl-horizontal dd:after,
.container:before,
.container:after,
.container-fluid:before,
.container-fluid:after,
.row:before,
.row:after,
.form-horizontal .form-group:before,
.form-horizontal .form-group:after,
.btn-toolbar:before,
.btn-toolbar:after,
.btn-group-vertical > .btn-group:before,
.btn-group-vertical > .btn-group:after,
.nav:before,
.nav:after,
.navbar:before,
.navbar:after,
.navbar-header:before,
.navbar-header:after,
.navbar-collapse:before,
.navbar-collapse:after,
.pager:before,
.pager:after,
.panel-body:before,
.panel-body:after,
.modal-header:before,
.modal-header:after,
.modal-footer:before,
.modal-footer:after,
.item_buttons:before,
.item_buttons:after {
  content: " ";
  display: table;
}
.clearfix:after,
.dl-horizontal dd:after,
.container:after,
.container-fluid:after,
.row:after,
.form-horizontal .form-group:after,
.btn-toolbar:after,
.btn-group-vertical > .btn-group:after,
.nav:after,
.navbar:after,
.navbar-header:after,
.navbar-collapse:after,
.pager:after,
.panel-body:after,
.modal-header:after,
.modal-footer:after,
.item_buttons:after {
  clear: both;
}
.center-block {
  display: block;
  margin-left: auto;
  margin-right: auto;
}
.pull-right {
  float: right !important;
}
.pull-left {
  float: left !important;
}
.hide {
  display: none !important;
}
.show {
  display: block !important;
}
.invisible {
  visibility: hidden;
}
.text-hide {
  font: 0/0 a;
  color: transparent;
  text-shadow: none;
  background-color: transparent;
  border: 0;
}
.hidden {
  display: none !important;
}
.affix {
  position: fixed;
}
@-ms-viewport {
  width: device-width;
}
.visible-xs,
.visible-sm,
.visible-md,
.visible-lg {
  display: none !important;
}
.visible-xs-block,
.visible-xs-inline,
.visible-xs-inline-block,
.visible-sm-block,
.visible-sm-inline,
.visible-sm-inline-block,
.visible-md-block,
.visible-md-inline,
.visible-md-inline-block,
.visible-lg-block,
.visible-lg-inline,
.visible-lg-inline-block {
  display: none !important;
}
@media (max-width: 767px) {
  .visible-xs {
    display: block !important;
  }
  table.visible-xs {
    display: table !important;
  }
  tr.visible-xs {
    display: table-row !important;
  }
  th.visible-xs,
  td.visible-xs {
    display: table-cell !important;
  }
}
@media (max-width: 767px) {
  .visible-xs-block {
    display: block !important;
  }
}
@media (max-width: 767px) {
  .visible-xs-inline {
    display: inline !important;
  }
}
@media (max-width: 767px) {
  .visible-xs-inline-block {
    display: inline-block !important;
  }
}
@media (min-width: 768px) and (max-width: 991px) {
  .visible-sm {
    display: block !important;
  }
  table.visible-sm {
    display: table !important;
  }
  tr.visible-sm {
    display: table-row !important;
  }
  th.visible-sm,
  td.visible-sm {
    display: table-cell !important;
  }
}
@media (min-width: 768px) and (max-width: 991px) {
  .visible-sm-block {
    display: block !important;
  }
}
@media (min-width: 768px) and (max-width: 991px) {
  .visible-sm-inline {
    display: inline !important;
  }
}
@media (min-width: 768px) and (max-width: 991px) {
  .visible-sm-inline-block {
    display: inline-block !important;
  }
}
@media (min-width: 992px) and (max-width: 1199px) {
  .visible-md {
    display: block !important;
  }
  table.visible-md {
    display: table !important;
  }
  tr.visible-md {
    display: table-row !important;
  }
  th.visible-md,
  td.visible-md {
    display: table-cell !important;
  }
}
@media (min-width: 992px) and (max-width: 1199px) {
  .visible-md-block {
    display: block !important;
  }
}
@media (min-width: 992px) and (max-width: 1199px) {
  .visible-md-inline {
    display: inline !important;
  }
}
@media (min-width: 992px) and (max-width: 1199px) {
  .visible-md-inline-block {
    display: inline-block !important;
  }
}
@media (min-width: 1200px) {
  .visible-lg {
    display: block !important;
  }
  table.visible-lg {
    display: table !important;
  }
  tr.visible-lg {
    display: table-row !important;
  }
  th.visible-lg,
  td.visible-lg {
    display: table-cell !important;
  }
}
@media (min-width: 1200px) {
  .visible-lg-block {
    display: block !important;
  }
}
@media (min-width: 1200px) {
  .visible-lg-inline {
    display: inline !important;
  }
}
@media (min-width: 1200px) {
  .visible-lg-inline-block {
    display: inline-block !important;
  }
}
@media (max-width: 767px) {
  .hidden-xs {
    display: none !important;
  }
}
@media (min-width: 768px) and (max-width: 991px) {
  .hidden-sm {
    display: none !important;
  }
}
@media (min-width: 992px) and (max-width: 1199px) {
  .hidden-md {
    display: none !important;
  }
}
@media (min-width: 1200px) {
  .hidden-lg {
    display: none !important;
  }
}
.visible-print {
  display: none !important;
}
@media print {
  .visible-print {
    display: block !important;
  }
  table.visible-print {
    display: table !important;
  }
  tr.visible-print {
    display: table-row !important;
  }
  th.visible-print,
  td.visible-print {
    display: table-cell !important;
  }
}
.visible-print-block {
  display: none !important;
}
@media print {
  .visible-print-block {
    display: block !important;
  }
}
.visible-print-inline {
  display: none !important;
}
@media print {
  .visible-print-inline {
    display: inline !important;
  }
}
.visible-print-inline-block {
  display: none !important;
}
@media print {
  .visible-print-inline-block {
    display: inline-block !important;
  }
}
@media print {
  .hidden-print {
    display: none !important;
  }
}
/*!
*
* Font Awesome
*
*/
/*!
 *  Font Awesome 4.2.0 by @davegandy - http://fontawesome.io - @fontawesome
 *  License - http://fontawesome.io/license (Font: SIL OFL 1.1, CSS: MIT License)
 */
/* FONT PATH
 * -------------------------- */
@font-face {
  font-family: 'FontAwesome';
  src: url('../components/font-awesome/fonts/fontawesome-webfont.eot?v=4.2.0');
  src: url('../components/font-awesome/fonts/fontawesome-webfont.eot?#iefix&v=4.2.0') format('embedded-opentype'), url('../components/font-awesome/fonts/fontawesome-webfont.woff?v=4.2.0') format('woff'), url('../components/font-awesome/fonts/fontawesome-webfont.ttf?v=4.2.0') format('truetype'), url('../components/font-awesome/fonts/fontawesome-webfont.svg?v=4.2.0#fontawesomeregular') format('svg');
  font-weight: normal;
  font-style: normal;
}
.fa {
  display: inline-block;
  font: normal normal normal 14px/1 FontAwesome;
  font-size: inherit;
  text-rendering: auto;
  -webkit-font-smoothing: antialiased;
  -moz-osx-font-smoothing: grayscale;
}
/* makes the font 33% larger relative to the icon container */
.fa-lg {
  font-size: 1.33333333em;
  line-height: 0.75em;
  vertical-align: -15%;
}
.fa-2x {
  font-size: 2em;
}
.fa-3x {
  font-size: 3em;
}
.fa-4x {
  font-size: 4em;
}
.fa-5x {
  font-size: 5em;
}
.fa-fw {
  width: 1.28571429em;
  text-align: center;
}
.fa-ul {
  padding-left: 0;
  margin-left: 2.14285714em;
  list-style-type: none;
}
.fa-ul > li {
  position: relative;
}
.fa-li {
  position: absolute;
  left: -2.14285714em;
  width: 2.14285714em;
  top: 0.14285714em;
  text-align: center;
}
.fa-li.fa-lg {
  left: -1.85714286em;
}
.fa-border {
  padding: .2em .25em .15em;
  border: solid 0.08em #eee;
  border-radius: .1em;
}
.pull-right {
  float: right;
}
.pull-left {
  float: left;
}
.fa.pull-left {
  margin-right: .3em;
}
.fa.pull-right {
  margin-left: .3em;
}
.fa-spin {
  -webkit-animation: fa-spin 2s infinite linear;
  animation: fa-spin 2s infinite linear;
}
@-webkit-keyframes fa-spin {
  0% {
    -webkit-transform: rotate(0deg);
    transform: rotate(0deg);
  }
  100% {
    -webkit-transform: rotate(359deg);
    transform: rotate(359deg);
  }
}
@keyframes fa-spin {
  0% {
    -webkit-transform: rotate(0deg);
    transform: rotate(0deg);
  }
  100% {
    -webkit-transform: rotate(359deg);
    transform: rotate(359deg);
  }
}
.fa-rotate-90 {
  filter: progid:DXImageTransform.Microsoft.BasicImage(rotation=1);
  -webkit-transform: rotate(90deg);
  -ms-transform: rotate(90deg);
  transform: rotate(90deg);
}
.fa-rotate-180 {
  filter: progid:DXImageTransform.Microsoft.BasicImage(rotation=2);
  -webkit-transform: rotate(180deg);
  -ms-transform: rotate(180deg);
  transform: rotate(180deg);
}
.fa-rotate-270 {
  filter: progid:DXImageTransform.Microsoft.BasicImage(rotation=3);
  -webkit-transform: rotate(270deg);
  -ms-transform: rotate(270deg);
  transform: rotate(270deg);
}
.fa-flip-horizontal {
  filter: progid:DXImageTransform.Microsoft.BasicImage(rotation=0, mirror=1);
  -webkit-transform: scale(-1, 1);
  -ms-transform: scale(-1, 1);
  transform: scale(-1, 1);
}
.fa-flip-vertical {
  filter: progid:DXImageTransform.Microsoft.BasicImage(rotation=2, mirror=1);
  -webkit-transform: scale(1, -1);
  -ms-transform: scale(1, -1);
  transform: scale(1, -1);
}
:root .fa-rotate-90,
:root .fa-rotate-180,
:root .fa-rotate-270,
:root .fa-flip-horizontal,
:root .fa-flip-vertical {
  filter: none;
}
.fa-stack {
  position: relative;
  display: inline-block;
  width: 2em;
  height: 2em;
  line-height: 2em;
  vertical-align: middle;
}
.fa-stack-1x,
.fa-stack-2x {
  position: absolute;
  left: 0;
  width: 100%;
  text-align: center;
}
.fa-stack-1x {
  line-height: inherit;
}
.fa-stack-2x {
  font-size: 2em;
}
.fa-inverse {
  color: #fff;
}
/* Font Awesome uses the Unicode Private Use Area (PUA) to ensure screen
   readers do not read off random characters that represent icons */
.fa-glass:before {
  content: "\f000";
}
.fa-music:before {
  content: "\f001";
}
.fa-search:before {
  content: "\f002";
}
.fa-envelope-o:before {
  content: "\f003";
}
.fa-heart:before {
  content: "\f004";
}
.fa-star:before {
  content: "\f005";
}
.fa-star-o:before {
  content: "\f006";
}
.fa-user:before {
  content: "\f007";
}
.fa-film:before {
  content: "\f008";
}
.fa-th-large:before {
  content: "\f009";
}
.fa-th:before {
  content: "\f00a";
}
.fa-th-list:before {
  content: "\f00b";
}
.fa-check:before {
  content: "\f00c";
}
.fa-remove:before,
.fa-close:before,
.fa-times:before {
  content: "\f00d";
}
.fa-search-plus:before {
  content: "\f00e";
}
.fa-search-minus:before {
  content: "\f010";
}
.fa-power-off:before {
  content: "\f011";
}
.fa-signal:before {
  content: "\f012";
}
.fa-gear:before,
.fa-cog:before {
  content: "\f013";
}
.fa-trash-o:before {
  content: "\f014";
}
.fa-home:before {
  content: "\f015";
}
.fa-file-o:before {
  content: "\f016";
}
.fa-clock-o:before {
  content: "\f017";
}
.fa-road:before {
  content: "\f018";
}
.fa-download:before {
  content: "\f019";
}
.fa-arrow-circle-o-down:before {
  content: "\f01a";
}
.fa-arrow-circle-o-up:before {
  content: "\f01b";
}
.fa-inbox:before {
  content: "\f01c";
}
.fa-play-circle-o:before {
  content: "\f01d";
}
.fa-rotate-right:before,
.fa-repeat:before {
  content: "\f01e";
}
.fa-refresh:before {
  content: "\f021";
}
.fa-list-alt:before {
  content: "\f022";
}
.fa-lock:before {
  content: "\f023";
}
.fa-flag:before {
  content: "\f024";
}
.fa-headphones:before {
  content: "\f025";
}
.fa-volume-off:before {
  content: "\f026";
}
.fa-volume-down:before {
  content: "\f027";
}
.fa-volume-up:before {
  content: "\f028";
}
.fa-qrcode:before {
  content: "\f029";
}
.fa-barcode:before {
  content: "\f02a";
}
.fa-tag:before {
  content: "\f02b";
}
.fa-tags:before {
  content: "\f02c";
}
.fa-book:before {
  content: "\f02d";
}
.fa-bookmark:before {
  content: "\f02e";
}
.fa-print:before {
  content: "\f02f";
}
.fa-camera:before {
  content: "\f030";
}
.fa-font:before {
  content: "\f031";
}
.fa-bold:before {
  content: "\f032";
}
.fa-italic:before {
  content: "\f033";
}
.fa-text-height:before {
  content: "\f034";
}
.fa-text-width:before {
  content: "\f035";
}
.fa-align-left:before {
  content: "\f036";
}
.fa-align-center:before {
  content: "\f037";
}
.fa-align-right:before {
  content: "\f038";
}
.fa-align-justify:before {
  content: "\f039";
}
.fa-list:before {
  content: "\f03a";
}
.fa-dedent:before,
.fa-outdent:before {
  content: "\f03b";
}
.fa-indent:before {
  content: "\f03c";
}
.fa-video-camera:before {
  content: "\f03d";
}
.fa-photo:before,
.fa-image:before,
.fa-picture-o:before {
  content: "\f03e";
}
.fa-pencil:before {
  content: "\f040";
}
.fa-map-marker:before {
  content: "\f041";
}
.fa-adjust:before {
  content: "\f042";
}
.fa-tint:before {
  content: "\f043";
}
.fa-edit:before,
.fa-pencil-square-o:before {
  content: "\f044";
}
.fa-share-square-o:before {
  content: "\f045";
}
.fa-check-square-o:before {
  content: "\f046";
}
.fa-arrows:before {
  content: "\f047";
}
.fa-step-backward:before {
  content: "\f048";
}
.fa-fast-backward:before {
  content: "\f049";
}
.fa-backward:before {
  content: "\f04a";
}
.fa-play:before {
  content: "\f04b";
}
.fa-pause:before {
  content: "\f04c";
}
.fa-stop:before {
  content: "\f04d";
}
.fa-forward:before {
  content: "\f04e";
}
.fa-fast-forward:before {
  content: "\f050";
}
.fa-step-forward:before {
  content: "\f051";
}
.fa-eject:before {
  content: "\f052";
}
.fa-chevron-left:before {
  content: "\f053";
}
.fa-chevron-right:before {
  content: "\f054";
}
.fa-plus-circle:before {
  content: "\f055";
}
.fa-minus-circle:before {
  content: "\f056";
}
.fa-times-circle:before {
  content: "\f057";
}
.fa-check-circle:before {
  content: "\f058";
}
.fa-question-circle:before {
  content: "\f059";
}
.fa-info-circle:before {
  content: "\f05a";
}
.fa-crosshairs:before {
  content: "\f05b";
}
.fa-times-circle-o:before {
  content: "\f05c";
}
.fa-check-circle-o:before {
  content: "\f05d";
}
.fa-ban:before {
  content: "\f05e";
}
.fa-arrow-left:before {
  content: "\f060";
}
.fa-arrow-right:before {
  content: "\f061";
}
.fa-arrow-up:before {
  content: "\f062";
}
.fa-arrow-down:before {
  content: "\f063";
}
.fa-mail-forward:before,
.fa-share:before {
  content: "\f064";
}
.fa-expand:before {
  content: "\f065";
}
.fa-compress:before {
  content: "\f066";
}
.fa-plus:before {
  content: "\f067";
}
.fa-minus:before {
  content: "\f068";
}
.fa-asterisk:before {
  content: "\f069";
}
.fa-exclamation-circle:before {
  content: "\f06a";
}
.fa-gift:before {
  content: "\f06b";
}
.fa-leaf:before {
  content: "\f06c";
}
.fa-fire:before {
  content: "\f06d";
}
.fa-eye:before {
  content: "\f06e";
}
.fa-eye-slash:before {
  content: "\f070";
}
.fa-warning:before,
.fa-exclamation-triangle:before {
  content: "\f071";
}
.fa-plane:before {
  content: "\f072";
}
.fa-calendar:before {
  content: "\f073";
}
.fa-random:before {
  content: "\f074";
}
.fa-comment:before {
  content: "\f075";
}
.fa-magnet:before {
  content: "\f076";
}
.fa-chevron-up:before {
  content: "\f077";
}
.fa-chevron-down:before {
  content: "\f078";
}
.fa-retweet:before {
  content: "\f079";
}
.fa-shopping-cart:before {
  content: "\f07a";
}
.fa-folder:before {
  content: "\f07b";
}
.fa-folder-open:before {
  content: "\f07c";
}
.fa-arrows-v:before {
  content: "\f07d";
}
.fa-arrows-h:before {
  content: "\f07e";
}
.fa-bar-chart-o:before,
.fa-bar-chart:before {
  content: "\f080";
}
.fa-twitter-square:before {
  content: "\f081";
}
.fa-facebook-square:before {
  content: "\f082";
}
.fa-camera-retro:before {
  content: "\f083";
}
.fa-key:before {
  content: "\f084";
}
.fa-gears:before,
.fa-cogs:before {
  content: "\f085";
}
.fa-comments:before {
  content: "\f086";
}
.fa-thumbs-o-up:before {
  content: "\f087";
}
.fa-thumbs-o-down:before {
  content: "\f088";
}
.fa-star-half:before {
  content: "\f089";
}
.fa-heart-o:before {
  content: "\f08a";
}
.fa-sign-out:before {
  content: "\f08b";
}
.fa-linkedin-square:before {
  content: "\f08c";
}
.fa-thumb-tack:before {
  content: "\f08d";
}
.fa-external-link:before {
  content: "\f08e";
}
.fa-sign-in:before {
  content: "\f090";
}
.fa-trophy:before {
  content: "\f091";
}
.fa-github-square:before {
  content: "\f092";
}
.fa-upload:before {
  content: "\f093";
}
.fa-lemon-o:before {
  content: "\f094";
}
.fa-phone:before {
  content: "\f095";
}
.fa-square-o:before {
  content: "\f096";
}
.fa-bookmark-o:before {
  content: "\f097";
}
.fa-phone-square:before {
  content: "\f098";
}
.fa-twitter:before {
  content: "\f099";
}
.fa-facebook:before {
  content: "\f09a";
}
.fa-github:before {
  content: "\f09b";
}
.fa-unlock:before {
  content: "\f09c";
}
.fa-credit-card:before {
  content: "\f09d";
}
.fa-rss:before {
  content: "\f09e";
}
.fa-hdd-o:before {
  content: "\f0a0";
}
.fa-bullhorn:before {
  content: "\f0a1";
}
.fa-bell:before {
  content: "\f0f3";
}
.fa-certificate:before {
  content: "\f0a3";
}
.fa-hand-o-right:before {
  content: "\f0a4";
}
.fa-hand-o-left:before {
  content: "\f0a5";
}
.fa-hand-o-up:before {
  content: "\f0a6";
}
.fa-hand-o-down:before {
  content: "\f0a7";
}
.fa-arrow-circle-left:before {
  content: "\f0a8";
}
.fa-arrow-circle-right:before {
  content: "\f0a9";
}
.fa-arrow-circle-up:before {
  content: "\f0aa";
}
.fa-arrow-circle-down:before {
  content: "\f0ab";
}
.fa-globe:before {
  content: "\f0ac";
}
.fa-wrench:before {
  content: "\f0ad";
}
.fa-tasks:before {
  content: "\f0ae";
}
.fa-filter:before {
  content: "\f0b0";
}
.fa-briefcase:before {
  content: "\f0b1";
}
.fa-arrows-alt:before {
  content: "\f0b2";
}
.fa-group:before,
.fa-users:before {
  content: "\f0c0";
}
.fa-chain:before,
.fa-link:before {
  content: "\f0c1";
}
.fa-cloud:before {
  content: "\f0c2";
}
.fa-flask:before {
  content: "\f0c3";
}
.fa-cut:before,
.fa-scissors:before {
  content: "\f0c4";
}
.fa-copy:before,
.fa-files-o:before {
  content: "\f0c5";
}
.fa-paperclip:before {
  content: "\f0c6";
}
.fa-save:before,
.fa-floppy-o:before {
  content: "\f0c7";
}
.fa-square:before {
  content: "\f0c8";
}
.fa-navicon:before,
.fa-reorder:before,
.fa-bars:before {
  content: "\f0c9";
}
.fa-list-ul:before {
  content: "\f0ca";
}
.fa-list-ol:before {
  content: "\f0cb";
}
.fa-strikethrough:before {
  content: "\f0cc";
}
.fa-underline:before {
  content: "\f0cd";
}
.fa-table:before {
  content: "\f0ce";
}
.fa-magic:before {
  content: "\f0d0";
}
.fa-truck:before {
  content: "\f0d1";
}
.fa-pinterest:before {
  content: "\f0d2";
}
.fa-pinterest-square:before {
  content: "\f0d3";
}
.fa-google-plus-square:before {
  content: "\f0d4";
}
.fa-google-plus:before {
  content: "\f0d5";
}
.fa-money:before {
  content: "\f0d6";
}
.fa-caret-down:before {
  content: "\f0d7";
}
.fa-caret-up:before {
  content: "\f0d8";
}
.fa-caret-left:before {
  content: "\f0d9";
}
.fa-caret-right:before {
  content: "\f0da";
}
.fa-columns:before {
  content: "\f0db";
}
.fa-unsorted:before,
.fa-sort:before {
  content: "\f0dc";
}
.fa-sort-down:before,
.fa-sort-desc:before {
  content: "\f0dd";
}
.fa-sort-up:before,
.fa-sort-asc:before {
  content: "\f0de";
}
.fa-envelope:before {
  content: "\f0e0";
}
.fa-linkedin:before {
  content: "\f0e1";
}
.fa-rotate-left:before,
.fa-undo:before {
  content: "\f0e2";
}
.fa-legal:before,
.fa-gavel:before {
  content: "\f0e3";
}
.fa-dashboard:before,
.fa-tachometer:before {
  content: "\f0e4";
}
.fa-comment-o:before {
  content: "\f0e5";
}
.fa-comments-o:before {
  content: "\f0e6";
}
.fa-flash:before,
.fa-bolt:before {
  content: "\f0e7";
}
.fa-sitemap:before {
  content: "\f0e8";
}
.fa-umbrella:before {
  content: "\f0e9";
}
.fa-paste:before,
.fa-clipboard:before {
  content: "\f0ea";
}
.fa-lightbulb-o:before {
  content: "\f0eb";
}
.fa-exchange:before {
  content: "\f0ec";
}
.fa-cloud-download:before {
  content: "\f0ed";
}
.fa-cloud-upload:before {
  content: "\f0ee";
}
.fa-user-md:before {
  content: "\f0f0";
}
.fa-stethoscope:before {
  content: "\f0f1";
}
.fa-suitcase:before {
  content: "\f0f2";
}
.fa-bell-o:before {
  content: "\f0a2";
}
.fa-coffee:before {
  content: "\f0f4";
}
.fa-cutlery:before {
  content: "\f0f5";
}
.fa-file-text-o:before {
  content: "\f0f6";
}
.fa-building-o:before {
  content: "\f0f7";
}
.fa-hospital-o:before {
  content: "\f0f8";
}
.fa-ambulance:before {
  content: "\f0f9";
}
.fa-medkit:before {
  content: "\f0fa";
}
.fa-fighter-jet:before {
  content: "\f0fb";
}
.fa-beer:before {
  content: "\f0fc";
}
.fa-h-square:before {
  content: "\f0fd";
}
.fa-plus-square:before {
  content: "\f0fe";
}
.fa-angle-double-left:before {
  content: "\f100";
}
.fa-angle-double-right:before {
  content: "\f101";
}
.fa-angle-double-up:before {
  content: "\f102";
}
.fa-angle-double-down:before {
  content: "\f103";
}
.fa-angle-left:before {
  content: "\f104";
}
.fa-angle-right:before {
  content: "\f105";
}
.fa-angle-up:before {
  content: "\f106";
}
.fa-angle-down:before {
  content: "\f107";
}
.fa-desktop:before {
  content: "\f108";
}
.fa-laptop:before {
  content: "\f109";
}
.fa-tablet:before {
  content: "\f10a";
}
.fa-mobile-phone:before,
.fa-mobile:before {
  content: "\f10b";
}
.fa-circle-o:before {
  content: "\f10c";
}
.fa-quote-left:before {
  content: "\f10d";
}
.fa-quote-right:before {
  content: "\f10e";
}
.fa-spinner:before {
  content: "\f110";
}
.fa-circle:before {
  content: "\f111";
}
.fa-mail-reply:before,
.fa-reply:before {
  content: "\f112";
}
.fa-github-alt:before {
  content: "\f113";
}
.fa-folder-o:before {
  content: "\f114";
}
.fa-folder-open-o:before {
  content: "\f115";
}
.fa-smile-o:before {
  content: "\f118";
}
.fa-frown-o:before {
  content: "\f119";
}
.fa-meh-o:before {
  content: "\f11a";
}
.fa-gamepad:before {
  content: "\f11b";
}
.fa-keyboard-o:before {
  content: "\f11c";
}
.fa-flag-o:before {
  content: "\f11d";
}
.fa-flag-checkered:before {
  content: "\f11e";
}
.fa-terminal:before {
  content: "\f120";
}
.fa-code:before {
  content: "\f121";
}
.fa-mail-reply-all:before,
.fa-reply-all:before {
  content: "\f122";
}
.fa-star-half-empty:before,
.fa-star-half-full:before,
.fa-star-half-o:before {
  content: "\f123";
}
.fa-location-arrow:before {
  content: "\f124";
}
.fa-crop:before {
  content: "\f125";
}
.fa-code-fork:before {
  content: "\f126";
}
.fa-unlink:before,
.fa-chain-broken:before {
  content: "\f127";
}
.fa-question:before {
  content: "\f128";
}
.fa-info:before {
  content: "\f129";
}
.fa-exclamation:before {
  content: "\f12a";
}
.fa-superscript:before {
  content: "\f12b";
}
.fa-subscript:before {
  content: "\f12c";
}
.fa-eraser:before {
  content: "\f12d";
}
.fa-puzzle-piece:before {
  content: "\f12e";
}
.fa-microphone:before {
  content: "\f130";
}
.fa-microphone-slash:before {
  content: "\f131";
}
.fa-shield:before {
  content: "\f132";
}
.fa-calendar-o:before {
  content: "\f133";
}
.fa-fire-extinguisher:before {
  content: "\f134";
}
.fa-rocket:before {
  content: "\f135";
}
.fa-maxcdn:before {
  content: "\f136";
}
.fa-chevron-circle-left:before {
  content: "\f137";
}
.fa-chevron-circle-right:before {
  content: "\f138";
}
.fa-chevron-circle-up:before {
  content: "\f139";
}
.fa-chevron-circle-down:before {
  content: "\f13a";
}
.fa-html5:before {
  content: "\f13b";
}
.fa-css3:before {
  content: "\f13c";
}
.fa-anchor:before {
  content: "\f13d";
}
.fa-unlock-alt:before {
  content: "\f13e";
}
.fa-bullseye:before {
  content: "\f140";
}
.fa-ellipsis-h:before {
  content: "\f141";
}
.fa-ellipsis-v:before {
  content: "\f142";
}
.fa-rss-square:before {
  content: "\f143";
}
.fa-play-circle:before {
  content: "\f144";
}
.fa-ticket:before {
  content: "\f145";
}
.fa-minus-square:before {
  content: "\f146";
}
.fa-minus-square-o:before {
  content: "\f147";
}
.fa-level-up:before {
  content: "\f148";
}
.fa-level-down:before {
  content: "\f149";
}
.fa-check-square:before {
  content: "\f14a";
}
.fa-pencil-square:before {
  content: "\f14b";
}
.fa-external-link-square:before {
  content: "\f14c";
}
.fa-share-square:before {
  content: "\f14d";
}
.fa-compass:before {
  content: "\f14e";
}
.fa-toggle-down:before,
.fa-caret-square-o-down:before {
  content: "\f150";
}
.fa-toggle-up:before,
.fa-caret-square-o-up:before {
  content: "\f151";
}
.fa-toggle-right:before,
.fa-caret-square-o-right:before {
  content: "\f152";
}
.fa-euro:before,
.fa-eur:before {
  content: "\f153";
}
.fa-gbp:before {
  content: "\f154";
}
.fa-dollar:before,
.fa-usd:before {
  content: "\f155";
}
.fa-rupee:before,
.fa-inr:before {
  content: "\f156";
}
.fa-cny:before,
.fa-rmb:before,
.fa-yen:before,
.fa-jpy:before {
  content: "\f157";
}
.fa-ruble:before,
.fa-rouble:before,
.fa-rub:before {
  content: "\f158";
}
.fa-won:before,
.fa-krw:before {
  content: "\f159";
}
.fa-bitcoin:before,
.fa-btc:before {
  content: "\f15a";
}
.fa-file:before {
  content: "\f15b";
}
.fa-file-text:before {
  content: "\f15c";
}
.fa-sort-alpha-asc:before {
  content: "\f15d";
}
.fa-sort-alpha-desc:before {
  content: "\f15e";
}
.fa-sort-amount-asc:before {
  content: "\f160";
}
.fa-sort-amount-desc:before {
  content: "\f161";
}
.fa-sort-numeric-asc:before {
  content: "\f162";
}
.fa-sort-numeric-desc:before {
  content: "\f163";
}
.fa-thumbs-up:before {
  content: "\f164";
}
.fa-thumbs-down:before {
  content: "\f165";
}
.fa-youtube-square:before {
  content: "\f166";
}
.fa-youtube:before {
  content: "\f167";
}
.fa-xing:before {
  content: "\f168";
}
.fa-xing-square:before {
  content: "\f169";
}
.fa-youtube-play:before {
  content: "\f16a";
}
.fa-dropbox:before {
  content: "\f16b";
}
.fa-stack-overflow:before {
  content: "\f16c";
}
.fa-instagram:before {
  content: "\f16d";
}
.fa-flickr:before {
  content: "\f16e";
}
.fa-adn:before {
  content: "\f170";
}
.fa-bitbucket:before {
  content: "\f171";
}
.fa-bitbucket-square:before {
  content: "\f172";
}
.fa-tumblr:before {
  content: "\f173";
}
.fa-tumblr-square:before {
  content: "\f174";
}
.fa-long-arrow-down:before {
  content: "\f175";
}
.fa-long-arrow-up:before {
  content: "\f176";
}
.fa-long-arrow-left:before {
  content: "\f177";
}
.fa-long-arrow-right:before {
  content: "\f178";
}
.fa-apple:before {
  content: "\f179";
}
.fa-windows:before {
  content: "\f17a";
}
.fa-android:before {
  content: "\f17b";
}
.fa-linux:before {
  content: "\f17c";
}
.fa-dribbble:before {
  content: "\f17d";
}
.fa-skype:before {
  content: "\f17e";
}
.fa-foursquare:before {
  content: "\f180";
}
.fa-trello:before {
  content: "\f181";
}
.fa-female:before {
  content: "\f182";
}
.fa-male:before {
  content: "\f183";
}
.fa-gittip:before {
  content: "\f184";
}
.fa-sun-o:before {
  content: "\f185";
}
.fa-moon-o:before {
  content: "\f186";
}
.fa-archive:before {
  content: "\f187";
}
.fa-bug:before {
  content: "\f188";
}
.fa-vk:before {
  content: "\f189";
}
.fa-weibo:before {
  content: "\f18a";
}
.fa-renren:before {
  content: "\f18b";
}
.fa-pagelines:before {
  content: "\f18c";
}
.fa-stack-exchange:before {
  content: "\f18d";
}
.fa-arrow-circle-o-right:before {
  content: "\f18e";
}
.fa-arrow-circle-o-left:before {
  content: "\f190";
}
.fa-toggle-left:before,
.fa-caret-square-o-left:before {
  content: "\f191";
}
.fa-dot-circle-o:before {
  content: "\f192";
}
.fa-wheelchair:before {
  content: "\f193";
}
.fa-vimeo-square:before {
  content: "\f194";
}
.fa-turkish-lira:before,
.fa-try:before {
  content: "\f195";
}
.fa-plus-square-o:before {
  content: "\f196";
}
.fa-space-shuttle:before {
  content: "\f197";
}
.fa-slack:before {
  content: "\f198";
}
.fa-envelope-square:before {
  content: "\f199";
}
.fa-wordpress:before {
  content: "\f19a";
}
.fa-openid:before {
  content: "\f19b";
}
.fa-institution:before,
.fa-bank:before,
.fa-university:before {
  content: "\f19c";
}
.fa-mortar-board:before,
.fa-graduation-cap:before {
  content: "\f19d";
}
.fa-yahoo:before {
  content: "\f19e";
}
.fa-google:before {
  content: "\f1a0";
}
.fa-reddit:before {
  content: "\f1a1";
}
.fa-reddit-square:before {
  content: "\f1a2";
}
.fa-stumbleupon-circle:before {
  content: "\f1a3";
}
.fa-stumbleupon:before {
  content: "\f1a4";
}
.fa-delicious:before {
  content: "\f1a5";
}
.fa-digg:before {
  content: "\f1a6";
}
.fa-pied-piper:before {
  content: "\f1a7";
}
.fa-pied-piper-alt:before {
  content: "\f1a8";
}
.fa-drupal:before {
  content: "\f1a9";
}
.fa-joomla:before {
  content: "\f1aa";
}
.fa-language:before {
  content: "\f1ab";
}
.fa-fax:before {
  content: "\f1ac";
}
.fa-building:before {
  content: "\f1ad";
}
.fa-child:before {
  content: "\f1ae";
}
.fa-paw:before {
  content: "\f1b0";
}
.fa-spoon:before {
  content: "\f1b1";
}
.fa-cube:before {
  content: "\f1b2";
}
.fa-cubes:before {
  content: "\f1b3";
}
.fa-behance:before {
  content: "\f1b4";
}
.fa-behance-square:before {
  content: "\f1b5";
}
.fa-steam:before {
  content: "\f1b6";
}
.fa-steam-square:before {
  content: "\f1b7";
}
.fa-recycle:before {
  content: "\f1b8";
}
.fa-automobile:before,
.fa-car:before {
  content: "\f1b9";
}
.fa-cab:before,
.fa-taxi:before {
  content: "\f1ba";
}
.fa-tree:before {
  content: "\f1bb";
}
.fa-spotify:before {
  content: "\f1bc";
}
.fa-deviantart:before {
  content: "\f1bd";
}
.fa-soundcloud:before {
  content: "\f1be";
}
.fa-database:before {
  content: "\f1c0";
}
.fa-file-pdf-o:before {
  content: "\f1c1";
}
.fa-file-word-o:before {
  content: "\f1c2";
}
.fa-file-excel-o:before {
  content: "\f1c3";
}
.fa-file-powerpoint-o:before {
  content: "\f1c4";
}
.fa-file-photo-o:before,
.fa-file-picture-o:before,
.fa-file-image-o:before {
  content: "\f1c5";
}
.fa-file-zip-o:before,
.fa-file-archive-o:before {
  content: "\f1c6";
}
.fa-file-sound-o:before,
.fa-file-audio-o:before {
  content: "\f1c7";
}
.fa-file-movie-o:before,
.fa-file-video-o:before {
  content: "\f1c8";
}
.fa-file-code-o:before {
  content: "\f1c9";
}
.fa-vine:before {
  content: "\f1ca";
}
.fa-codepen:before {
  content: "\f1cb";
}
.fa-jsfiddle:before {
  content: "\f1cc";
}
.fa-life-bouy:before,
.fa-life-buoy:before,
.fa-life-saver:before,
.fa-support:before,
.fa-life-ring:before {
  content: "\f1cd";
}
.fa-circle-o-notch:before {
  content: "\f1ce";
}
.fa-ra:before,
.fa-rebel:before {
  content: "\f1d0";
}
.fa-ge:before,
.fa-empire:before {
  content: "\f1d1";
}
.fa-git-square:before {
  content: "\f1d2";
}
.fa-git:before {
  content: "\f1d3";
}
.fa-hacker-news:before {
  content: "\f1d4";
}
.fa-tencent-weibo:before {
  content: "\f1d5";
}
.fa-qq:before {
  content: "\f1d6";
}
.fa-wechat:before,
.fa-weixin:before {
  content: "\f1d7";
}
.fa-send:before,
.fa-paper-plane:before {
  content: "\f1d8";
}
.fa-send-o:before,
.fa-paper-plane-o:before {
  content: "\f1d9";
}
.fa-history:before {
  content: "\f1da";
}
.fa-circle-thin:before {
  content: "\f1db";
}
.fa-header:before {
  content: "\f1dc";
}
.fa-paragraph:before {
  content: "\f1dd";
}
.fa-sliders:before {
  content: "\f1de";
}
.fa-share-alt:before {
  content: "\f1e0";
}
.fa-share-alt-square:before {
  content: "\f1e1";
}
.fa-bomb:before {
  content: "\f1e2";
}
.fa-soccer-ball-o:before,
.fa-futbol-o:before {
  content: "\f1e3";
}
.fa-tty:before {
  content: "\f1e4";
}
.fa-binoculars:before {
  content: "\f1e5";
}
.fa-plug:before {
  content: "\f1e6";
}
.fa-slideshare:before {
  content: "\f1e7";
}
.fa-twitch:before {
  content: "\f1e8";
}
.fa-yelp:before {
  content: "\f1e9";
}
.fa-newspaper-o:before {
  content: "\f1ea";
}
.fa-wifi:before {
  content: "\f1eb";
}
.fa-calculator:before {
  content: "\f1ec";
}
.fa-paypal:before {
  content: "\f1ed";
}
.fa-google-wallet:before {
  content: "\f1ee";
}
.fa-cc-visa:before {
  content: "\f1f0";
}
.fa-cc-mastercard:before {
  content: "\f1f1";
}
.fa-cc-discover:before {
  content: "\f1f2";
}
.fa-cc-amex:before {
  content: "\f1f3";
}
.fa-cc-paypal:before {
  content: "\f1f4";
}
.fa-cc-stripe:before {
  content: "\f1f5";
}
.fa-bell-slash:before {
  content: "\f1f6";
}
.fa-bell-slash-o:before {
  content: "\f1f7";
}
.fa-trash:before {
  content: "\f1f8";
}
.fa-copyright:before {
  content: "\f1f9";
}
.fa-at:before {
  content: "\f1fa";
}
.fa-eyedropper:before {
  content: "\f1fb";
}
.fa-paint-brush:before {
  content: "\f1fc";
}
.fa-birthday-cake:before {
  content: "\f1fd";
}
.fa-area-chart:before {
  content: "\f1fe";
}
.fa-pie-chart:before {
  content: "\f200";
}
.fa-line-chart:before {
  content: "\f201";
}
.fa-lastfm:before {
  content: "\f202";
}
.fa-lastfm-square:before {
  content: "\f203";
}
.fa-toggle-off:before {
  content: "\f204";
}
.fa-toggle-on:before {
  content: "\f205";
}
.fa-bicycle:before {
  content: "\f206";
}
.fa-bus:before {
  content: "\f207";
}
.fa-ioxhost:before {
  content: "\f208";
}
.fa-angellist:before {
  content: "\f209";
}
.fa-cc:before {
  content: "\f20a";
}
.fa-shekel:before,
.fa-sheqel:before,
.fa-ils:before {
  content: "\f20b";
}
.fa-meanpath:before {
  content: "\f20c";
}
/*!
*
* IPython base
*
*/
.modal.fade .modal-dialog {
  -webkit-transform: translate(0, 0);
  -ms-transform: translate(0, 0);
  -o-transform: translate(0, 0);
  transform: translate(0, 0);
}
code {
  color: #000;
}
pre {
  font-size: inherit;
  line-height: inherit;
}
label {
  font-weight: normal;
}
/* Make the page background atleast 100% the height of the view port */
/* Make the page itself atleast 70% the height of the view port */
.border-box-sizing {
  box-sizing: border-box;
  -moz-box-sizing: border-box;
  -webkit-box-sizing: border-box;
}
.corner-all {
  border-radius: 2px;
}
.no-padding {
  padding: 0px;
}
/* Flexible box model classes */
/* Taken from Alex Russell http://infrequently.org/2009/08/css-3-progress/ */
/* This file is a compatability layer.  It allows the usage of flexible box 
model layouts accross multiple browsers, including older browsers.  The newest,
universal implementation of the flexible box model is used when available (see
`Modern browsers` comments below).  Browsers that are known to implement this 
new spec completely include:

    Firefox 28.0+
    Chrome 29.0+
    Internet Explorer 11+ 
    Opera 17.0+

Browsers not listed, including Safari, are supported via the styling under the
`Old browsers` comments below.
*/
.hbox {
  /* Old browsers */
  display: -webkit-box;
  -webkit-box-orient: horizontal;
  -webkit-box-align: stretch;
  display: -moz-box;
  -moz-box-orient: horizontal;
  -moz-box-align: stretch;
  display: box;
  box-orient: horizontal;
  box-align: stretch;
  /* Modern browsers */
  display: flex;
  flex-direction: row;
  align-items: stretch;
}
.hbox > * {
  /* Old browsers */
  -webkit-box-flex: 0;
  -moz-box-flex: 0;
  box-flex: 0;
  /* Modern browsers */
  flex: none;
}
.vbox {
  /* Old browsers */
  display: -webkit-box;
  -webkit-box-orient: vertical;
  -webkit-box-align: stretch;
  display: -moz-box;
  -moz-box-orient: vertical;
  -moz-box-align: stretch;
  display: box;
  box-orient: vertical;
  box-align: stretch;
  /* Modern browsers */
  display: flex;
  flex-direction: column;
  align-items: stretch;
}
.vbox > * {
  /* Old browsers */
  -webkit-box-flex: 0;
  -moz-box-flex: 0;
  box-flex: 0;
  /* Modern browsers */
  flex: none;
}
.hbox.reverse,
.vbox.reverse,
.reverse {
  /* Old browsers */
  -webkit-box-direction: reverse;
  -moz-box-direction: reverse;
  box-direction: reverse;
  /* Modern browsers */
  flex-direction: row-reverse;
}
.hbox.box-flex0,
.vbox.box-flex0,
.box-flex0 {
  /* Old browsers */
  -webkit-box-flex: 0;
  -moz-box-flex: 0;
  box-flex: 0;
  /* Modern browsers */
  flex: none;
  width: auto;
}
.hbox.box-flex1,
.vbox.box-flex1,
.box-flex1 {
  /* Old browsers */
  -webkit-box-flex: 1;
  -moz-box-flex: 1;
  box-flex: 1;
  /* Modern browsers */
  flex: 1;
}
.hbox.box-flex,
.vbox.box-flex,
.box-flex {
  /* Old browsers */
  /* Old browsers */
  -webkit-box-flex: 1;
  -moz-box-flex: 1;
  box-flex: 1;
  /* Modern browsers */
  flex: 1;
}
.hbox.box-flex2,
.vbox.box-flex2,
.box-flex2 {
  /* Old browsers */
  -webkit-box-flex: 2;
  -moz-box-flex: 2;
  box-flex: 2;
  /* Modern browsers */
  flex: 2;
}
.box-group1 {
  /*  Deprecated */
  -webkit-box-flex-group: 1;
  -moz-box-flex-group: 1;
  box-flex-group: 1;
}
.box-group2 {
  /* Deprecated */
  -webkit-box-flex-group: 2;
  -moz-box-flex-group: 2;
  box-flex-group: 2;
}
.hbox.start,
.vbox.start,
.start {
  /* Old browsers */
  -webkit-box-pack: start;
  -moz-box-pack: start;
  box-pack: start;
  /* Modern browsers */
  justify-content: flex-start;
}
.hbox.end,
.vbox.end,
.end {
  /* Old browsers */
  -webkit-box-pack: end;
  -moz-box-pack: end;
  box-pack: end;
  /* Modern browsers */
  justify-content: flex-end;
}
.hbox.center,
.vbox.center,
.center {
  /* Old browsers */
  -webkit-box-pack: center;
  -moz-box-pack: center;
  box-pack: center;
  /* Modern browsers */
  justify-content: center;
}
.hbox.baseline,
.vbox.baseline,
.baseline {
  /* Old browsers */
  -webkit-box-pack: baseline;
  -moz-box-pack: baseline;
  box-pack: baseline;
  /* Modern browsers */
  justify-content: baseline;
}
.hbox.stretch,
.vbox.stretch,
.stretch {
  /* Old browsers */
  -webkit-box-pack: stretch;
  -moz-box-pack: stretch;
  box-pack: stretch;
  /* Modern browsers */
  justify-content: stretch;
}
.hbox.align-start,
.vbox.align-start,
.align-start {
  /* Old browsers */
  -webkit-box-align: start;
  -moz-box-align: start;
  box-align: start;
  /* Modern browsers */
  align-items: flex-start;
}
.hbox.align-end,
.vbox.align-end,
.align-end {
  /* Old browsers */
  -webkit-box-align: end;
  -moz-box-align: end;
  box-align: end;
  /* Modern browsers */
  align-items: flex-end;
}
.hbox.align-center,
.vbox.align-center,
.align-center {
  /* Old browsers */
  -webkit-box-align: center;
  -moz-box-align: center;
  box-align: center;
  /* Modern browsers */
  align-items: center;
}
.hbox.align-baseline,
.vbox.align-baseline,
.align-baseline {
  /* Old browsers */
  -webkit-box-align: baseline;
  -moz-box-align: baseline;
  box-align: baseline;
  /* Modern browsers */
  align-items: baseline;
}
.hbox.align-stretch,
.vbox.align-stretch,
.align-stretch {
  /* Old browsers */
  -webkit-box-align: stretch;
  -moz-box-align: stretch;
  box-align: stretch;
  /* Modern browsers */
  align-items: stretch;
}
div.error {
  margin: 2em;
  text-align: center;
}
div.error > h1 {
  font-size: 500%;
  line-height: normal;
}
div.error > p {
  font-size: 200%;
  line-height: normal;
}
div.traceback-wrapper {
  text-align: left;
  max-width: 800px;
  margin: auto;
}
/**
 * Primary styles
 *
 * Author: Jupyter Development Team
 */
body {
  background-color: #fff;
  /* This makes sure that the body covers the entire window and needs to
       be in a different element than the display: box in wrapper below */
  position: absolute;
  left: 0px;
  right: 0px;
  top: 0px;
  bottom: 0px;
  overflow: visible;
}
body > #header {
  /* Initially hidden to prevent FLOUC */
  display: none;
  background-color: #fff;
  /* Display over codemirror */
  position: relative;
  z-index: 100;
}
body > #header #header-container {
  padding-bottom: 5px;
  padding-top: 5px;
  box-sizing: border-box;
  -moz-box-sizing: border-box;
  -webkit-box-sizing: border-box;
}
body > #header .header-bar {
  width: 100%;
  height: 1px;
  background: #e7e7e7;
  margin-bottom: -1px;
}
@media print {
  body > #header {
    display: none !important;
  }
}
#header-spacer {
  width: 100%;
  visibility: hidden;
}
@media print {
  #header-spacer {
    display: none;
  }
}
#ipython_notebook {
  padding-left: 0px;
  padding-top: 1px;
  padding-bottom: 1px;
}
@media (max-width: 991px) {
  #ipython_notebook {
    margin-left: 10px;
  }
}
#noscript {
  width: auto;
  padding-top: 16px;
  padding-bottom: 16px;
  text-align: center;
  font-size: 22px;
  color: red;
  font-weight: bold;
}
#ipython_notebook img {
  height: 28px;
}
#site {
  width: 100%;
  display: none;
  box-sizing: border-box;
  -moz-box-sizing: border-box;
  -webkit-box-sizing: border-box;
  overflow: auto;
}
@media print {
  #site {
    height: auto !important;
  }
}
/* Smaller buttons */
.ui-button .ui-button-text {
  padding: 0.2em 0.8em;
  font-size: 77%;
}
input.ui-button {
  padding: 0.3em 0.9em;
}
span#login_widget {
  float: right;
}
span#login_widget > .button,
#logout {
  color: #333;
  background-color: #fff;
  border-color: #ccc;
}
span#login_widget > .button:focus,
#logout:focus,
span#login_widget > .button.focus,
#logout.focus {
  color: #333;
  background-color: #e6e6e6;
  border-color: #8c8c8c;
}
span#login_widget > .button:hover,
#logout:hover {
  color: #333;
  background-color: #e6e6e6;
  border-color: #adadad;
}
span#login_widget > .button:active,
#logout:active,
span#login_widget > .button.active,
#logout.active,
.open > .dropdown-togglespan#login_widget > .button,
.open > .dropdown-toggle#logout {
  color: #333;
  background-color: #e6e6e6;
  border-color: #adadad;
}
span#login_widget > .button:active:hover,
#logout:active:hover,
span#login_widget > .button.active:hover,
#logout.active:hover,
.open > .dropdown-togglespan#login_widget > .button:hover,
.open > .dropdown-toggle#logout:hover,
span#login_widget > .button:active:focus,
#logout:active:focus,
span#login_widget > .button.active:focus,
#logout.active:focus,
.open > .dropdown-togglespan#login_widget > .button:focus,
.open > .dropdown-toggle#logout:focus,
span#login_widget > .button:active.focus,
#logout:active.focus,
span#login_widget > .button.active.focus,
#logout.active.focus,
.open > .dropdown-togglespan#login_widget > .button.focus,
.open > .dropdown-toggle#logout.focus {
  color: #333;
  background-color: #d4d4d4;
  border-color: #8c8c8c;
}
span#login_widget > .button:active,
#logout:active,
span#login_widget > .button.active,
#logout.active,
.open > .dropdown-togglespan#login_widget > .button,
.open > .dropdown-toggle#logout {
  background-image: none;
}
span#login_widget > .button.disabled:hover,
#logout.disabled:hover,
span#login_widget > .button[disabled]:hover,
#logout[disabled]:hover,
fieldset[disabled] span#login_widget > .button:hover,
fieldset[disabled] #logout:hover,
span#login_widget > .button.disabled:focus,
#logout.disabled:focus,
span#login_widget > .button[disabled]:focus,
#logout[disabled]:focus,
fieldset[disabled] span#login_widget > .button:focus,
fieldset[disabled] #logout:focus,
span#login_widget > .button.disabled.focus,
#logout.disabled.focus,
span#login_widget > .button[disabled].focus,
#logout[disabled].focus,
fieldset[disabled] span#login_widget > .button.focus,
fieldset[disabled] #logout.focus {
  background-color: #fff;
  border-color: #ccc;
}
span#login_widget > .button .badge,
#logout .badge {
  color: #fff;
  background-color: #333;
}
.nav-header {
  text-transform: none;
}
#header > span {
  margin-top: 10px;
}
.modal_stretch .modal-dialog {
  /* Old browsers */
  display: -webkit-box;
  -webkit-box-orient: vertical;
  -webkit-box-align: stretch;
  display: -moz-box;
  -moz-box-orient: vertical;
  -moz-box-align: stretch;
  display: box;
  box-orient: vertical;
  box-align: stretch;
  /* Modern browsers */
  display: flex;
  flex-direction: column;
  align-items: stretch;
  min-height: 80vh;
}
.modal_stretch .modal-dialog .modal-body {
  max-height: calc(100vh - 200px);
  overflow: auto;
  flex: 1;
}
@media (min-width: 768px) {
  .modal .modal-dialog {
    width: 700px;
  }
}
@media (min-width: 768px) {
  select.form-control {
    margin-left: 12px;
    margin-right: 12px;
  }
}
/*!
*
* IPython auth
*
*/
.center-nav {
  display: inline-block;
  margin-bottom: -4px;
}
/*!
*
* IPython tree view
*
*/
/* We need an invisible input field on top of the sentense*/
/* "Drag file onto the list ..." */
.alternate_upload {
  background-color: none;
  display: inline;
}
.alternate_upload.form {
  padding: 0;
  margin: 0;
}
.alternate_upload input.fileinput {
  text-align: center;
  vertical-align: middle;
  display: inline;
  opacity: 0;
  z-index: 2;
  width: 12ex;
  margin-right: -12ex;
}
.alternate_upload .btn-upload {
  height: 22px;
}
/**
 * Primary styles
 *
 * Author: Jupyter Development Team
 */
ul#tabs {
  margin-bottom: 4px;
}
ul#tabs a {
  padding-top: 6px;
  padding-bottom: 4px;
}
ul.breadcrumb a:focus,
ul.breadcrumb a:hover {
  text-decoration: none;
}
ul.breadcrumb i.icon-home {
  font-size: 16px;
  margin-right: 4px;
}
ul.breadcrumb span {
  color: #5e5e5e;
}
.list_toolbar {
  padding: 4px 0 4px 0;
  vertical-align: middle;
}
.list_toolbar .tree-buttons {
  padding-top: 1px;
}
.dynamic-buttons {
  padding-top: 3px;
  display: inline-block;
}
.list_toolbar [class*="span"] {
  min-height: 24px;
}
.list_header {
  font-weight: bold;
  background-color: #EEE;
}
.list_placeholder {
  font-weight: bold;
  padding-top: 4px;
  padding-bottom: 4px;
  padding-left: 7px;
  padding-right: 7px;
}
.list_container {
  margin-top: 4px;
  margin-bottom: 20px;
  border: 1px solid #ddd;
  border-radius: 2px;
}
.list_container > div {
  border-bottom: 1px solid #ddd;
}
.list_container > div:hover .list-item {
  background-color: red;
}
.list_container > div:last-child {
  border: none;
}
.list_item:hover .list_item {
  background-color: #ddd;
}
.list_item a {
  text-decoration: none;
}
.list_item:hover {
  background-color: #fafafa;
}
.list_header > div,
.list_item > div {
  padding-top: 4px;
  padding-bottom: 4px;
  padding-left: 7px;
  padding-right: 7px;
  line-height: 22px;
}
.list_header > div input,
.list_item > div input {
  margin-right: 7px;
  margin-left: 14px;
  vertical-align: baseline;
  line-height: 22px;
  position: relative;
  top: -1px;
}
.list_header > div .item_link,
.list_item > div .item_link {
  margin-left: -1px;
  vertical-align: baseline;
  line-height: 22px;
}
.new-file input[type=checkbox] {
  visibility: hidden;
}
.item_name {
  line-height: 22px;
  height: 24px;
}
.item_icon {
  font-size: 14px;
  color: #5e5e5e;
  margin-right: 7px;
  margin-left: 7px;
  line-height: 22px;
  vertical-align: baseline;
}
.item_buttons {
  line-height: 1em;
  margin-left: -5px;
}
.item_buttons .btn,
.item_buttons .btn-group,
.item_buttons .input-group {
  float: left;
}
.item_buttons > .btn,
.item_buttons > .btn-group,
.item_buttons > .input-group {
  margin-left: 5px;
}
.item_buttons .btn {
  min-width: 13ex;
}
.item_buttons .running-indicator {
  padding-top: 4px;
  color: #5cb85c;
}
.item_buttons .kernel-name {
  padding-top: 4px;
  color: #5bc0de;
  margin-right: 7px;
  float: left;
}
.toolbar_info {
  height: 24px;
  line-height: 24px;
}
.list_item input:not([type=checkbox]) {
  padding-top: 3px;
  padding-bottom: 3px;
  height: 22px;
  line-height: 14px;
  margin: 0px;
}
.highlight_text {
  color: blue;
}
#project_name {
  display: inline-block;
  padding-left: 7px;
  margin-left: -2px;
}
#project_name > .breadcrumb {
  padding: 0px;
  margin-bottom: 0px;
  background-color: transparent;
  font-weight: bold;
}
#tree-selector {
  padding-right: 0px;
}
#button-select-all {
  min-width: 50px;
}
#select-all {
  margin-left: 7px;
  margin-right: 2px;
}
.menu_icon {
  margin-right: 2px;
}
.tab-content .row {
  margin-left: 0px;
  margin-right: 0px;
}
.folder_icon:before {
  display: inline-block;
  font: normal normal normal 14px/1 FontAwesome;
  font-size: inherit;
  text-rendering: auto;
  -webkit-font-smoothing: antialiased;
  -moz-osx-font-smoothing: grayscale;
  content: "\f114";
}
.folder_icon:before.pull-left {
  margin-right: .3em;
}
.folder_icon:before.pull-right {
  margin-left: .3em;
}
.notebook_icon:before {
  display: inline-block;
  font: normal normal normal 14px/1 FontAwesome;
  font-size: inherit;
  text-rendering: auto;
  -webkit-font-smoothing: antialiased;
  -moz-osx-font-smoothing: grayscale;
  content: "\f02d";
  position: relative;
  top: -1px;
}
.notebook_icon:before.pull-left {
  margin-right: .3em;
}
.notebook_icon:before.pull-right {
  margin-left: .3em;
}
.running_notebook_icon:before {
  display: inline-block;
  font: normal normal normal 14px/1 FontAwesome;
  font-size: inherit;
  text-rendering: auto;
  -webkit-font-smoothing: antialiased;
  -moz-osx-font-smoothing: grayscale;
  content: "\f02d";
  position: relative;
  top: -1px;
  color: #5cb85c;
}
.running_notebook_icon:before.pull-left {
  margin-right: .3em;
}
.running_notebook_icon:before.pull-right {
  margin-left: .3em;
}
.file_icon:before {
  display: inline-block;
  font: normal normal normal 14px/1 FontAwesome;
  font-size: inherit;
  text-rendering: auto;
  -webkit-font-smoothing: antialiased;
  -moz-osx-font-smoothing: grayscale;
  content: "\f016";
  position: relative;
  top: -2px;
}
.file_icon:before.pull-left {
  margin-right: .3em;
}
.file_icon:before.pull-right {
  margin-left: .3em;
}
#notebook_toolbar .pull-right {
  padding-top: 0px;
  margin-right: -1px;
}
ul#new-menu {
  left: auto;
  right: 0;
}
.kernel-menu-icon {
  padding-right: 12px;
  width: 24px;
  content: "\f096";
}
.kernel-menu-icon:before {
  content: "\f096";
}
.kernel-menu-icon-current:before {
  content: "\f00c";
}
#tab_content {
  padding-top: 20px;
}
#running .panel-group .panel {
  margin-top: 3px;
  margin-bottom: 1em;
}
#running .panel-group .panel .panel-heading {
  background-color: #EEE;
  padding-top: 4px;
  padding-bottom: 4px;
  padding-left: 7px;
  padding-right: 7px;
  line-height: 22px;
}
#running .panel-group .panel .panel-heading a:focus,
#running .panel-group .panel .panel-heading a:hover {
  text-decoration: none;
}
#running .panel-group .panel .panel-body {
  padding: 0px;
}
#running .panel-group .panel .panel-body .list_container {
  margin-top: 0px;
  margin-bottom: 0px;
  border: 0px;
  border-radius: 0px;
}
#running .panel-group .panel .panel-body .list_container .list_item {
  border-bottom: 1px solid #ddd;
}
#running .panel-group .panel .panel-body .list_container .list_item:last-child {
  border-bottom: 0px;
}
.delete-button {
  display: none;
}
.duplicate-button {
  display: none;
}
.rename-button {
  display: none;
}
.shutdown-button {
  display: none;
}
.dynamic-instructions {
  display: inline-block;
  padding-top: 4px;
}
/*!
*
* IPython text editor webapp
*
*/
.selected-keymap i.fa {
  padding: 0px 5px;
}
.selected-keymap i.fa:before {
  content: "\f00c";
}
#mode-menu {
  overflow: auto;
  max-height: 20em;
}
.edit_app #header {
  -webkit-box-shadow: 0px 0px 12px 1px rgba(87, 87, 87, 0.2);
  box-shadow: 0px 0px 12px 1px rgba(87, 87, 87, 0.2);
}
.edit_app #menubar .navbar {
  /* Use a negative 1 bottom margin, so the border overlaps the border of the
    header */
  margin-bottom: -1px;
}
.dirty-indicator {
  display: inline-block;
  font: normal normal normal 14px/1 FontAwesome;
  font-size: inherit;
  text-rendering: auto;
  -webkit-font-smoothing: antialiased;
  -moz-osx-font-smoothing: grayscale;
  width: 20px;
}
.dirty-indicator.pull-left {
  margin-right: .3em;
}
.dirty-indicator.pull-right {
  margin-left: .3em;
}
.dirty-indicator-dirty {
  display: inline-block;
  font: normal normal normal 14px/1 FontAwesome;
  font-size: inherit;
  text-rendering: auto;
  -webkit-font-smoothing: antialiased;
  -moz-osx-font-smoothing: grayscale;
  width: 20px;
}
.dirty-indicator-dirty.pull-left {
  margin-right: .3em;
}
.dirty-indicator-dirty.pull-right {
  margin-left: .3em;
}
.dirty-indicator-clean {
  display: inline-block;
  font: normal normal normal 14px/1 FontAwesome;
  font-size: inherit;
  text-rendering: auto;
  -webkit-font-smoothing: antialiased;
  -moz-osx-font-smoothing: grayscale;
  width: 20px;
}
.dirty-indicator-clean.pull-left {
  margin-right: .3em;
}
.dirty-indicator-clean.pull-right {
  margin-left: .3em;
}
.dirty-indicator-clean:before {
  display: inline-block;
  font: normal normal normal 14px/1 FontAwesome;
  font-size: inherit;
  text-rendering: auto;
  -webkit-font-smoothing: antialiased;
  -moz-osx-font-smoothing: grayscale;
  content: "\f00c";
}
.dirty-indicator-clean:before.pull-left {
  margin-right: .3em;
}
.dirty-indicator-clean:before.pull-right {
  margin-left: .3em;
}
#filename {
  font-size: 16pt;
  display: table;
  padding: 0px 5px;
}
#current-mode {
  padding-left: 5px;
  padding-right: 5px;
}
#texteditor-backdrop {
  padding-top: 20px;
  padding-bottom: 20px;
}
@media not print {
  #texteditor-backdrop {
    background-color: #EEE;
  }
}
@media print {
  #texteditor-backdrop #texteditor-container .CodeMirror-gutter,
  #texteditor-backdrop #texteditor-container .CodeMirror-gutters {
    background-color: #fff;
  }
}
@media not print {
  #texteditor-backdrop #texteditor-container .CodeMirror-gutter,
  #texteditor-backdrop #texteditor-container .CodeMirror-gutters {
    background-color: #fff;
  }
}
@media not print {
  #texteditor-backdrop #texteditor-container {
    padding: 0px;
    background-color: #fff;
    -webkit-box-shadow: 0px 0px 12px 1px rgba(87, 87, 87, 0.2);
    box-shadow: 0px 0px 12px 1px rgba(87, 87, 87, 0.2);
  }
}
/*!
*
* IPython notebook
*
*/
/* CSS font colors for translated ANSI colors. */
.ansibold {
  font-weight: bold;
}
/* use dark versions for foreground, to improve visibility */
.ansiblack {
  color: black;
}
.ansired {
  color: darkred;
}
.ansigreen {
  color: darkgreen;
}
.ansiyellow {
  color: #c4a000;
}
.ansiblue {
  color: darkblue;
}
.ansipurple {
  color: darkviolet;
}
.ansicyan {
  color: steelblue;
}
.ansigray {
  color: gray;
}
/* and light for background, for the same reason */
.ansibgblack {
  background-color: black;
}
.ansibgred {
  background-color: red;
}
.ansibggreen {
  background-color: green;
}
.ansibgyellow {
  background-color: yellow;
}
.ansibgblue {
  background-color: blue;
}
.ansibgpurple {
  background-color: magenta;
}
.ansibgcyan {
  background-color: cyan;
}
.ansibggray {
  background-color: gray;
}
div.cell {
  /* Old browsers */
  display: -webkit-box;
  -webkit-box-orient: vertical;
  -webkit-box-align: stretch;
  display: -moz-box;
  -moz-box-orient: vertical;
  -moz-box-align: stretch;
  display: box;
  box-orient: vertical;
  box-align: stretch;
  /* Modern browsers */
  display: flex;
  flex-direction: column;
  align-items: stretch;
  border-radius: 2px;
  box-sizing: border-box;
  -moz-box-sizing: border-box;
  -webkit-box-sizing: border-box;
  border-width: 1px;
  border-style: solid;
  border-color: transparent;
  width: 100%;
  padding: 5px;
  /* This acts as a spacer between cells, that is outside the border */
  margin: 0px;
  outline: none;
  border-left-width: 1px;
  padding-left: 5px;
  background: linear-gradient(to right, transparent -40px, transparent 1px, transparent 1px, transparent 100%);
}
div.cell.jupyter-soft-selected {
  border-left-color: #90CAF9;
  border-left-color: #E3F2FD;
  border-left-width: 1px;
  padding-left: 5px;
  border-right-color: #E3F2FD;
  border-right-width: 1px;
  background: #E3F2FD;
}
@media print {
  div.cell.jupyter-soft-selected {
    border-color: transparent;
  }
}
div.cell.selected {
  border-color: #ababab;
  border-left-width: 0px;
  padding-left: 6px;
  background: linear-gradient(to right, #42A5F5 -40px, #42A5F5 5px, transparent 5px, transparent 100%);
}
@media print {
  div.cell.selected {
    border-color: transparent;
  }
}
div.cell.selected.jupyter-soft-selected {
  border-left-width: 0;
  padding-left: 6px;
  background: linear-gradient(to right, #42A5F5 -40px, #42A5F5 7px, #E3F2FD 7px, #E3F2FD 100%);
}
.edit_mode div.cell.selected {
  border-color: #66BB6A;
  border-left-width: 0px;
  padding-left: 6px;
  background: linear-gradient(to right, #66BB6A -40px, #66BB6A 5px, transparent 5px, transparent 100%);
}
@media print {
  .edit_mode div.cell.selected {
    border-color: transparent;
  }
}
.prompt {
  /* This needs to be wide enough for 3 digit prompt numbers: In[100]: */
  min-width: 14ex;
  /* This padding is tuned to match the padding on the CodeMirror editor. */
  padding: 0.4em;
  margin: 0px;
  font-family: monospace;
  text-align: right;
  /* This has to match that of the the CodeMirror class line-height below */
  line-height: 1.21429em;
  /* Don't highlight prompt number selection */
  -webkit-touch-callout: none;
  -webkit-user-select: none;
  -khtml-user-select: none;
  -moz-user-select: none;
  -ms-user-select: none;
  user-select: none;
  /* Use default cursor */
  cursor: default;
}
@media (max-width: 540px) {
  .prompt {
    text-align: left;
  }
}
div.inner_cell {
  /* Old browsers */
  display: -webkit-box;
  -webkit-box-orient: vertical;
  -webkit-box-align: stretch;
  display: -moz-box;
  -moz-box-orient: vertical;
  -moz-box-align: stretch;
  display: box;
  box-orient: vertical;
  box-align: stretch;
  /* Modern browsers */
  display: flex;
  flex-direction: column;
  align-items: stretch;
  /* Old browsers */
  -webkit-box-flex: 1;
  -moz-box-flex: 1;
  box-flex: 1;
  /* Modern browsers */
  flex: 1;
}
@-moz-document url-prefix() {
  div.inner_cell {
    overflow-x: hidden;
  }
}
/* input_area and input_prompt must match in top border and margin for alignment */
div.input_area {
  border: 1px solid #cfcfcf;
  border-radius: 2px;
  background: #f7f7f7;
  line-height: 1.21429em;
}
/* This is needed so that empty prompt areas can collapse to zero height when there
   is no content in the output_subarea and the prompt. The main purpose of this is
   to make sure that empty JavaScript output_subareas have no height. */
div.prompt:empty {
  padding-top: 0;
  padding-bottom: 0;
}
div.unrecognized_cell {
  padding: 5px 5px 5px 0px;
  /* Old browsers */
  display: -webkit-box;
  -webkit-box-orient: horizontal;
  -webkit-box-align: stretch;
  display: -moz-box;
  -moz-box-orient: horizontal;
  -moz-box-align: stretch;
  display: box;
  box-orient: horizontal;
  box-align: stretch;
  /* Modern browsers */
  display: flex;
  flex-direction: row;
  align-items: stretch;
}
div.unrecognized_cell .inner_cell {
  border-radius: 2px;
  padding: 5px;
  font-weight: bold;
  color: red;
  border: 1px solid #cfcfcf;
  background: #eaeaea;
}
div.unrecognized_cell .inner_cell a {
  color: inherit;
  text-decoration: none;
}
div.unrecognized_cell .inner_cell a:hover {
  color: inherit;
  text-decoration: none;
}
@media (max-width: 540px) {
  div.unrecognized_cell > div.prompt {
    display: none;
  }
}
div.code_cell {
  /* avoid page breaking on code cells when printing */
}
@media print {
  div.code_cell {
    page-break-inside: avoid;
  }
}
/* any special styling for code cells that are currently running goes here */
div.input {
  page-break-inside: avoid;
  /* Old browsers */
  display: -webkit-box;
  -webkit-box-orient: horizontal;
  -webkit-box-align: stretch;
  display: -moz-box;
  -moz-box-orient: horizontal;
  -moz-box-align: stretch;
  display: box;
  box-orient: horizontal;
  box-align: stretch;
  /* Modern browsers */
  display: flex;
  flex-direction: row;
  align-items: stretch;
}
@media (max-width: 540px) {
  div.input {
    /* Old browsers */
    display: -webkit-box;
    -webkit-box-orient: vertical;
    -webkit-box-align: stretch;
    display: -moz-box;
    -moz-box-orient: vertical;
    -moz-box-align: stretch;
    display: box;
    box-orient: vertical;
    box-align: stretch;
    /* Modern browsers */
    display: flex;
    flex-direction: column;
    align-items: stretch;
  }
}
/* input_area and input_prompt must match in top border and margin for alignment */
div.input_prompt {
  color: #303F9F;
  border-top: 1px solid transparent;
}
div.input_area > div.highlight {
  margin: 0.4em;
  border: none;
  padding: 0px;
  background-color: transparent;
}
div.input_area > div.highlight > pre {
  margin: 0px;
  border: none;
  padding: 0px;
  background-color: transparent;
}
/* The following gets added to the <head> if it is detected that the user has a
 * monospace font with inconsistent normal/bold/italic height.  See
 * notebookmain.js.  Such fonts will have keywords vertically offset with
 * respect to the rest of the text.  The user should select a better font.
 * See: https://github.com/ipython/ipython/issues/1503
 *
 * .CodeMirror span {
 *      vertical-align: bottom;
 * }
 */
.CodeMirror {
  line-height: 1.21429em;
  /* Changed from 1em to our global default */
  font-size: 14px;
  height: auto;
  /* Changed to auto to autogrow */
  background: none;
  /* Changed from white to allow our bg to show through */
}
.CodeMirror-scroll {
  /*  The CodeMirror docs are a bit fuzzy on if overflow-y should be hidden or visible.*/
  /*  We have found that if it is visible, vertical scrollbars appear with font size changes.*/
  overflow-y: hidden;
  overflow-x: auto;
}
.CodeMirror-lines {
  /* In CM2, this used to be 0.4em, but in CM3 it went to 4px. We need the em value because */
  /* we have set a different line-height and want this to scale with that. */
  padding: 0.4em;
}
.CodeMirror-linenumber {
  padding: 0 8px 0 4px;
}
.CodeMirror-gutters {
  border-bottom-left-radius: 2px;
  border-top-left-radius: 2px;
}
.CodeMirror pre {
  /* In CM3 this went to 4px from 0 in CM2. We need the 0 value because of how we size */
  /* .CodeMirror-lines */
  padding: 0;
  border: 0;
  border-radius: 0;
}
/*

Original style from softwaremaniacs.org (c) Ivan Sagalaev <Maniac@SoftwareManiacs.Org>
Adapted from GitHub theme

*/
.highlight-base {
  color: #000;
}
.highlight-variable {
  color: #000;
}
.highlight-variable-2 {
  color: #1a1a1a;
}
.highlight-variable-3 {
  color: #333333;
}
.highlight-string {
  color: #BA2121;
}
.highlight-comment {
  color: #408080;
  font-style: italic;
}
.highlight-number {
  color: #080;
}
.highlight-atom {
  color: #88F;
}
.highlight-keyword {
  color: #008000;
  font-weight: bold;
}
.highlight-builtin {
  color: #008000;
}
.highlight-error {
  color: #f00;
}
.highlight-operator {
  color: #AA22FF;
  font-weight: bold;
}
.highlight-meta {
  color: #AA22FF;
}
/* previously not defined, copying from default codemirror */
.highlight-def {
  color: #00f;
}
.highlight-string-2 {
  color: #f50;
}
.highlight-qualifier {
  color: #555;
}
.highlight-bracket {
  color: #997;
}
.highlight-tag {
  color: #170;
}
.highlight-attribute {
  color: #00c;
}
.highlight-header {
  color: blue;
}
.highlight-quote {
  color: #090;
}
.highlight-link {
  color: #00c;
}
/* apply the same style to codemirror */
.cm-s-ipython span.cm-keyword {
  color: #008000;
  font-weight: bold;
}
.cm-s-ipython span.cm-atom {
  color: #88F;
}
.cm-s-ipython span.cm-number {
  color: #080;
}
.cm-s-ipython span.cm-def {
  color: #00f;
}
.cm-s-ipython span.cm-variable {
  color: #000;
}
.cm-s-ipython span.cm-operator {
  color: #AA22FF;
  font-weight: bold;
}
.cm-s-ipython span.cm-variable-2 {
  color: #1a1a1a;
}
.cm-s-ipython span.cm-variable-3 {
  color: #333333;
}
.cm-s-ipython span.cm-comment {
  color: #408080;
  font-style: italic;
}
.cm-s-ipython span.cm-string {
  color: #BA2121;
}
.cm-s-ipython span.cm-string-2 {
  color: #f50;
}
.cm-s-ipython span.cm-meta {
  color: #AA22FF;
}
.cm-s-ipython span.cm-qualifier {
  color: #555;
}
.cm-s-ipython span.cm-builtin {
  color: #008000;
}
.cm-s-ipython span.cm-bracket {
  color: #997;
}
.cm-s-ipython span.cm-tag {
  color: #170;
}
.cm-s-ipython span.cm-attribute {
  color: #00c;
}
.cm-s-ipython span.cm-header {
  color: blue;
}
.cm-s-ipython span.cm-quote {
  color: #090;
}
.cm-s-ipython span.cm-link {
  color: #00c;
}
.cm-s-ipython span.cm-error {
  color: #f00;
}
.cm-s-ipython span.cm-tab {
  background: url(data:image/png;base64,iVBORw0KGgoAAAANSUhEUgAAADAAAAAMCAYAAAAkuj5RAAAAAXNSR0IArs4c6QAAAGFJREFUSMft1LsRQFAQheHPowAKoACx3IgEKtaEHujDjORSgWTH/ZOdnZOcM/sgk/kFFWY0qV8foQwS4MKBCS3qR6ixBJvElOobYAtivseIE120FaowJPN75GMu8j/LfMwNjh4HUpwg4LUAAAAASUVORK5CYII=);
  background-position: right;
  background-repeat: no-repeat;
}
div.output_wrapper {
  /* this position must be relative to enable descendents to be absolute within it */
  position: relative;
  /* Old browsers */
  display: -webkit-box;
  -webkit-box-orient: vertical;
  -webkit-box-align: stretch;
  display: -moz-box;
  -moz-box-orient: vertical;
  -moz-box-align: stretch;
  display: box;
  box-orient: vertical;
  box-align: stretch;
  /* Modern browsers */
  display: flex;
  flex-direction: column;
  align-items: stretch;
  z-index: 1;
}
/* class for the output area when it should be height-limited */
div.output_scroll {
  /* ideally, this would be max-height, but FF barfs all over that */
  height: 24em;
  /* FF needs this *and the wrapper* to specify full width, or it will shrinkwrap */
  width: 100%;
  overflow: auto;
  border-radius: 2px;
  -webkit-box-shadow: inset 0 2px 8px rgba(0, 0, 0, 0.8);
  box-shadow: inset 0 2px 8px rgba(0, 0, 0, 0.8);
  display: block;
}
/* output div while it is collapsed */
div.output_collapsed {
  margin: 0px;
  padding: 0px;
  /* Old browsers */
  display: -webkit-box;
  -webkit-box-orient: vertical;
  -webkit-box-align: stretch;
  display: -moz-box;
  -moz-box-orient: vertical;
  -moz-box-align: stretch;
  display: box;
  box-orient: vertical;
  box-align: stretch;
  /* Modern browsers */
  display: flex;
  flex-direction: column;
  align-items: stretch;
}
div.out_prompt_overlay {
  height: 100%;
  padding: 0px 0.4em;
  position: absolute;
  border-radius: 2px;
}
div.out_prompt_overlay:hover {
  /* use inner shadow to get border that is computed the same on WebKit/FF */
  -webkit-box-shadow: inset 0 0 1px #000;
  box-shadow: inset 0 0 1px #000;
  background: rgba(240, 240, 240, 0.5);
}
div.output_prompt {
  color: #D84315;
}
/* This class is the outer container of all output sections. */
div.output_area {
  padding: 0px;
  page-break-inside: avoid;
  /* Old browsers */
  display: -webkit-box;
  -webkit-box-orient: horizontal;
  -webkit-box-align: stretch;
  display: -moz-box;
  -moz-box-orient: horizontal;
  -moz-box-align: stretch;
  display: box;
  box-orient: horizontal;
  box-align: stretch;
  /* Modern browsers */
  display: flex;
  flex-direction: row;
  align-items: stretch;
}
div.output_area .MathJax_Display {
  text-align: left !important;
}
div.output_area .rendered_html table {
  margin-left: 0;
  margin-right: 0;
}
div.output_area .rendered_html img {
  margin-left: 0;
  margin-right: 0;
}
div.output_area img,
div.output_area svg {
  max-width: 100%;
  height: auto;
}
div.output_area img.unconfined,
div.output_area svg.unconfined {
  max-width: none;
}
/* This is needed to protect the pre formating from global settings such
   as that of bootstrap */
.output {
  /* Old browsers */
  display: -webkit-box;
  -webkit-box-orient: vertical;
  -webkit-box-align: stretch;
  display: -moz-box;
  -moz-box-orient: vertical;
  -moz-box-align: stretch;
  display: box;
  box-orient: vertical;
  box-align: stretch;
  /* Modern browsers */
  display: flex;
  flex-direction: column;
  align-items: stretch;
}
@media (max-width: 540px) {
  div.output_area {
    /* Old browsers */
    display: -webkit-box;
    -webkit-box-orient: vertical;
    -webkit-box-align: stretch;
    display: -moz-box;
    -moz-box-orient: vertical;
    -moz-box-align: stretch;
    display: box;
    box-orient: vertical;
    box-align: stretch;
    /* Modern browsers */
    display: flex;
    flex-direction: column;
    align-items: stretch;
  }
}
div.output_area pre {
  margin: 0;
  padding: 0;
  border: 0;
  vertical-align: baseline;
  color: black;
  background-color: transparent;
  border-radius: 0;
}
/* This class is for the output subarea inside the output_area and after
   the prompt div. */
div.output_subarea {
  overflow-x: auto;
  padding: 0.4em;
  /* Old browsers */
  -webkit-box-flex: 1;
  -moz-box-flex: 1;
  box-flex: 1;
  /* Modern browsers */
  flex: 1;
  max-width: calc(100% - 14ex);
}
div.output_scroll div.output_subarea {
  overflow-x: visible;
}
/* The rest of the output_* classes are for special styling of the different
   output types */
/* all text output has this class: */
div.output_text {
  text-align: left;
  color: #000;
  /* This has to match that of the the CodeMirror class line-height below */
  line-height: 1.21429em;
}
/* stdout/stderr are 'text' as well as 'stream', but execute_result/error are *not* streams */
div.output_stderr {
  background: #fdd;
  /* very light red background for stderr */
}
div.output_latex {
  text-align: left;
}
/* Empty output_javascript divs should have no height */
div.output_javascript:empty {
  padding: 0;
}
.js-error {
  color: darkred;
}
/* raw_input styles */
div.raw_input_container {
  line-height: 1.21429em;
  padding-top: 5px;
}
pre.raw_input_prompt {
  /* nothing needed here. */
}
input.raw_input {
  font-family: monospace;
  font-size: inherit;
  color: inherit;
  width: auto;
  /* make sure input baseline aligns with prompt */
  vertical-align: baseline;
  /* padding + margin = 0.5em between prompt and cursor */
  padding: 0em 0.25em;
  margin: 0em 0.25em;
}
input.raw_input:focus {
  box-shadow: none;
}
p.p-space {
  margin-bottom: 10px;
}
div.output_unrecognized {
  padding: 5px;
  font-weight: bold;
  color: red;
}
div.output_unrecognized a {
  color: inherit;
  text-decoration: none;
}
div.output_unrecognized a:hover {
  color: inherit;
  text-decoration: none;
}
.rendered_html {
  color: #000;
  /* any extras will just be numbers: */
}
.rendered_html em {
  font-style: italic;
}
.rendered_html strong {
  font-weight: bold;
}
.rendered_html u {
  text-decoration: underline;
}
.rendered_html :link {
  text-decoration: underline;
}
.rendered_html :visited {
  text-decoration: underline;
}
.rendered_html h1 {
  font-size: 185.7%;
  margin: 1.08em 0 0 0;
  font-weight: bold;
  line-height: 1.0;
}
.rendered_html h2 {
  font-size: 157.1%;
  margin: 1.27em 0 0 0;
  font-weight: bold;
  line-height: 1.0;
}
.rendered_html h3 {
  font-size: 128.6%;
  margin: 1.55em 0 0 0;
  font-weight: bold;
  line-height: 1.0;
}
.rendered_html h4 {
  font-size: 100%;
  margin: 2em 0 0 0;
  font-weight: bold;
  line-height: 1.0;
}
.rendered_html h5 {
  font-size: 100%;
  margin: 2em 0 0 0;
  font-weight: bold;
  line-height: 1.0;
  font-style: italic;
}
.rendered_html h6 {
  font-size: 100%;
  margin: 2em 0 0 0;
  font-weight: bold;
  line-height: 1.0;
  font-style: italic;
}
.rendered_html h1:first-child {
  margin-top: 0.538em;
}
.rendered_html h2:first-child {
  margin-top: 0.636em;
}
.rendered_html h3:first-child {
  margin-top: 0.777em;
}
.rendered_html h4:first-child {
  margin-top: 1em;
}
.rendered_html h5:first-child {
  margin-top: 1em;
}
.rendered_html h6:first-child {
  margin-top: 1em;
}
.rendered_html ul {
  list-style: disc;
  margin: 0em 2em;
  padding-left: 0px;
}
.rendered_html ul ul {
  list-style: square;
  margin: 0em 2em;
}
.rendered_html ul ul ul {
  list-style: circle;
  margin: 0em 2em;
}
.rendered_html ol {
  list-style: decimal;
  margin: 0em 2em;
  padding-left: 0px;
}
.rendered_html ol ol {
  list-style: upper-alpha;
  margin: 0em 2em;
}
.rendered_html ol ol ol {
  list-style: lower-alpha;
  margin: 0em 2em;
}
.rendered_html ol ol ol ol {
  list-style: lower-roman;
  margin: 0em 2em;
}
.rendered_html ol ol ol ol ol {
  list-style: decimal;
  margin: 0em 2em;
}
.rendered_html * + ul {
  margin-top: 1em;
}
.rendered_html * + ol {
  margin-top: 1em;
}
.rendered_html hr {
  color: black;
  background-color: black;
}
.rendered_html pre {
  margin: 1em 2em;
}
.rendered_html pre,
.rendered_html code {
  border: 0;
  background-color: #fff;
  color: #000;
  font-size: 100%;
  padding: 0px;
}
.rendered_html blockquote {
  margin: 1em 2em;
}
.rendered_html table {
  margin-left: auto;
  margin-right: auto;
  border: 1px solid black;
  border-collapse: collapse;
}
.rendered_html tr,
.rendered_html th,
.rendered_html td {
  border: 1px solid black;
  border-collapse: collapse;
  margin: 1em 2em;
}
.rendered_html td,
.rendered_html th {
  text-align: left;
  vertical-align: middle;
  padding: 4px;
}
.rendered_html th {
  font-weight: bold;
}
.rendered_html * + table {
  margin-top: 1em;
}
.rendered_html p {
  text-align: left;
}
.rendered_html * + p {
  margin-top: 1em;
}
.rendered_html img {
  display: block;
  margin-left: auto;
  margin-right: auto;
}
.rendered_html * + img {
  margin-top: 1em;
}
.rendered_html img,
.rendered_html svg {
  max-width: 100%;
  height: auto;
}
.rendered_html img.unconfined,
.rendered_html svg.unconfined {
  max-width: none;
}
div.text_cell {
  /* Old browsers */
  display: -webkit-box;
  -webkit-box-orient: horizontal;
  -webkit-box-align: stretch;
  display: -moz-box;
  -moz-box-orient: horizontal;
  -moz-box-align: stretch;
  display: box;
  box-orient: horizontal;
  box-align: stretch;
  /* Modern browsers */
  display: flex;
  flex-direction: row;
  align-items: stretch;
}
@media (max-width: 540px) {
  div.text_cell > div.prompt {
    display: none;
  }
}
div.text_cell_render {
  /*font-family: "Helvetica Neue", Arial, Helvetica, Geneva, sans-serif;*/
  outline: none;
  resize: none;
  width: inherit;
  border-style: none;
  padding: 0.5em 0.5em 0.5em 0.4em;
  color: #000;
  box-sizing: border-box;
  -moz-box-sizing: border-box;
  -webkit-box-sizing: border-box;
}
a.anchor-link:link {
  text-decoration: none;
  padding: 0px 20px;
  visibility: hidden;
}
h1:hover .anchor-link,
h2:hover .anchor-link,
h3:hover .anchor-link,
h4:hover .anchor-link,
h5:hover .anchor-link,
h6:hover .anchor-link {
  visibility: visible;
}
.text_cell.rendered .input_area {
  display: none;
}
.text_cell.rendered .rendered_html {
  overflow-x: auto;
  overflow-y: hidden;
}
.text_cell.unrendered .text_cell_render {
  display: none;
}
.cm-header-1,
.cm-header-2,
.cm-header-3,
.cm-header-4,
.cm-header-5,
.cm-header-6 {
  font-weight: bold;
  font-family: "Helvetica Neue", Helvetica, Arial, sans-serif;
}
.cm-header-1 {
  font-size: 185.7%;
}
.cm-header-2 {
  font-size: 157.1%;
}
.cm-header-3 {
  font-size: 128.6%;
}
.cm-header-4 {
  font-size: 110%;
}
.cm-header-5 {
  font-size: 100%;
  font-style: italic;
}
.cm-header-6 {
  font-size: 100%;
  font-style: italic;
}
/*!
*
* IPython notebook webapp
*
*/
@media (max-width: 767px) {
  .notebook_app {
    padding-left: 0px;
    padding-right: 0px;
  }
}
#ipython-main-app {
  box-sizing: border-box;
  -moz-box-sizing: border-box;
  -webkit-box-sizing: border-box;
  height: 100%;
}
div#notebook_panel {
  margin: 0px;
  padding: 0px;
  box-sizing: border-box;
  -moz-box-sizing: border-box;
  -webkit-box-sizing: border-box;
  height: 100%;
}
div#notebook {
  font-size: 14px;
  line-height: 20px;
  overflow-y: hidden;
  overflow-x: auto;
  width: 100%;
  /* This spaces the page away from the edge of the notebook area */
  padding-top: 20px;
  margin: 0px;
  outline: none;
  box-sizing: border-box;
  -moz-box-sizing: border-box;
  -webkit-box-sizing: border-box;
  min-height: 100%;
}
@media not print {
  #notebook-container {
    padding: 15px;
    background-color: #fff;
    min-height: 0;
    -webkit-box-shadow: 0px 0px 12px 1px rgba(87, 87, 87, 0.2);
    box-shadow: 0px 0px 12px 1px rgba(87, 87, 87, 0.2);
  }
}
@media print {
  #notebook-container {
    width: 100%;
  }
}
div.ui-widget-content {
  border: 1px solid #ababab;
  outline: none;
}
pre.dialog {
  background-color: #f7f7f7;
  border: 1px solid #ddd;
  border-radius: 2px;
  padding: 0.4em;
  padding-left: 2em;
}
p.dialog {
  padding: 0.2em;
}
/* Word-wrap output correctly.  This is the CSS3 spelling, though Firefox seems
   to not honor it correctly.  Webkit browsers (Chrome, rekonq, Safari) do.
 */
pre,
code,
kbd,
samp {
  white-space: pre-wrap;
}
#fonttest {
  font-family: monospace;
}
p {
  margin-bottom: 0;
}
.end_space {
  min-height: 100px;
  transition: height .2s ease;
}
.notebook_app > #header {
  -webkit-box-shadow: 0px 0px 12px 1px rgba(87, 87, 87, 0.2);
  box-shadow: 0px 0px 12px 1px rgba(87, 87, 87, 0.2);
}
@media not print {
  .notebook_app {
    background-color: #EEE;
  }
}
kbd {
  border-style: solid;
  border-width: 1px;
  box-shadow: none;
  margin: 2px;
  padding-left: 2px;
  padding-right: 2px;
  padding-top: 1px;
  padding-bottom: 1px;
}
/* CSS for the cell toolbar */
.celltoolbar {
  border: thin solid #CFCFCF;
  border-bottom: none;
  background: #EEE;
  border-radius: 2px 2px 0px 0px;
  width: 100%;
  height: 29px;
  padding-right: 4px;
  /* Old browsers */
  display: -webkit-box;
  -webkit-box-orient: horizontal;
  -webkit-box-align: stretch;
  display: -moz-box;
  -moz-box-orient: horizontal;
  -moz-box-align: stretch;
  display: box;
  box-orient: horizontal;
  box-align: stretch;
  /* Modern browsers */
  display: flex;
  flex-direction: row;
  align-items: stretch;
  /* Old browsers */
  -webkit-box-pack: end;
  -moz-box-pack: end;
  box-pack: end;
  /* Modern browsers */
  justify-content: flex-end;
  display: -webkit-flex;
}
@media print {
  .celltoolbar {
    display: none;
  }
}
.ctb_hideshow {
  display: none;
  vertical-align: bottom;
}
/* ctb_show is added to the ctb_hideshow div to show the cell toolbar.
   Cell toolbars are only shown when the ctb_global_show class is also set.
*/
.ctb_global_show .ctb_show.ctb_hideshow {
  display: block;
}
.ctb_global_show .ctb_show + .input_area,
.ctb_global_show .ctb_show + div.text_cell_input,
.ctb_global_show .ctb_show ~ div.text_cell_render {
  border-top-right-radius: 0px;
  border-top-left-radius: 0px;
}
.ctb_global_show .ctb_show ~ div.text_cell_render {
  border: 1px solid #cfcfcf;
}
.celltoolbar {
  font-size: 87%;
  padding-top: 3px;
}
.celltoolbar select {
  display: block;
  width: 100%;
  height: 32px;
  padding: 6px 12px;
  font-size: 13px;
  line-height: 1.42857143;
  color: #555555;
  background-color: #fff;
  background-image: none;
  border: 1px solid #ccc;
  border-radius: 2px;
  -webkit-box-shadow: inset 0 1px 1px rgba(0, 0, 0, 0.075);
  box-shadow: inset 0 1px 1px rgba(0, 0, 0, 0.075);
  -webkit-transition: border-color ease-in-out .15s, box-shadow ease-in-out .15s;
  -o-transition: border-color ease-in-out .15s, box-shadow ease-in-out .15s;
  transition: border-color ease-in-out .15s, box-shadow ease-in-out .15s;
  height: 30px;
  padding: 5px 10px;
  font-size: 12px;
  line-height: 1.5;
  border-radius: 1px;
  width: inherit;
  font-size: inherit;
  height: 22px;
  padding: 0px;
  display: inline-block;
}
.celltoolbar select:focus {
  border-color: #66afe9;
  outline: 0;
  -webkit-box-shadow: inset 0 1px 1px rgba(0,0,0,.075), 0 0 8px rgba(102, 175, 233, 0.6);
  box-shadow: inset 0 1px 1px rgba(0,0,0,.075), 0 0 8px rgba(102, 175, 233, 0.6);
}
.celltoolbar select::-moz-placeholder {
  color: #999;
  opacity: 1;
}
.celltoolbar select:-ms-input-placeholder {
  color: #999;
}
.celltoolbar select::-webkit-input-placeholder {
  color: #999;
}
.celltoolbar select::-ms-expand {
  border: 0;
  background-color: transparent;
}
.celltoolbar select[disabled],
.celltoolbar select[readonly],
fieldset[disabled] .celltoolbar select {
  background-color: #eeeeee;
  opacity: 1;
}
.celltoolbar select[disabled],
fieldset[disabled] .celltoolbar select {
  cursor: not-allowed;
}
textarea.celltoolbar select {
  height: auto;
}
select.celltoolbar select {
  height: 30px;
  line-height: 30px;
}
textarea.celltoolbar select,
select[multiple].celltoolbar select {
  height: auto;
}
.celltoolbar label {
  margin-left: 5px;
  margin-right: 5px;
}
.completions {
  position: absolute;
  z-index: 110;
  overflow: hidden;
  border: 1px solid #ababab;
  border-radius: 2px;
  -webkit-box-shadow: 0px 6px 10px -1px #adadad;
  box-shadow: 0px 6px 10px -1px #adadad;
  line-height: 1;
}
.completions select {
  background: white;
  outline: none;
  border: none;
  padding: 0px;
  margin: 0px;
  overflow: auto;
  font-family: monospace;
  font-size: 110%;
  color: #000;
  width: auto;
}
.completions select option.context {
  color: #286090;
}
#kernel_logo_widget {
  float: right !important;
  float: right;
}
#kernel_logo_widget .current_kernel_logo {
  display: none;
  margin-top: -1px;
  margin-bottom: -1px;
  width: 32px;
  height: 32px;
}
#menubar {
  box-sizing: border-box;
  -moz-box-sizing: border-box;
  -webkit-box-sizing: border-box;
  margin-top: 1px;
}
#menubar .navbar {
  border-top: 1px;
  border-radius: 0px 0px 2px 2px;
  margin-bottom: 0px;
}
#menubar .navbar-toggle {
  float: left;
  padding-top: 7px;
  padding-bottom: 7px;
  border: none;
}
#menubar .navbar-collapse {
  clear: left;
}
.nav-wrapper {
  border-bottom: 1px solid #e7e7e7;
}
i.menu-icon {
  padding-top: 4px;
}
ul#help_menu li a {
  overflow: hidden;
  padding-right: 2.2em;
}
ul#help_menu li a i {
  margin-right: -1.2em;
}
.dropdown-submenu {
  position: relative;
}
.dropdown-submenu > .dropdown-menu {
  top: 0;
  left: 100%;
  margin-top: -6px;
  margin-left: -1px;
}
.dropdown-submenu:hover > .dropdown-menu {
  display: block;
}
.dropdown-submenu > a:after {
  display: inline-block;
  font: normal normal normal 14px/1 FontAwesome;
  font-size: inherit;
  text-rendering: auto;
  -webkit-font-smoothing: antialiased;
  -moz-osx-font-smoothing: grayscale;
  display: block;
  content: "\f0da";
  float: right;
  color: #333333;
  margin-top: 2px;
  margin-right: -10px;
}
.dropdown-submenu > a:after.pull-left {
  margin-right: .3em;
}
.dropdown-submenu > a:after.pull-right {
  margin-left: .3em;
}
.dropdown-submenu:hover > a:after {
  color: #262626;
}
.dropdown-submenu.pull-left {
  float: none;
}
.dropdown-submenu.pull-left > .dropdown-menu {
  left: -100%;
  margin-left: 10px;
}
#notification_area {
  float: right !important;
  float: right;
  z-index: 10;
}
.indicator_area {
  float: right !important;
  float: right;
  color: #777;
  margin-left: 5px;
  margin-right: 5px;
  width: 11px;
  z-index: 10;
  text-align: center;
  width: auto;
}
#kernel_indicator {
  float: right !important;
  float: right;
  color: #777;
  margin-left: 5px;
  margin-right: 5px;
  width: 11px;
  z-index: 10;
  text-align: center;
  width: auto;
  border-left: 1px solid;
}
#kernel_indicator .kernel_indicator_name {
  padding-left: 5px;
  padding-right: 5px;
}
#modal_indicator {
  float: right !important;
  float: right;
  color: #777;
  margin-left: 5px;
  margin-right: 5px;
  width: 11px;
  z-index: 10;
  text-align: center;
  width: auto;
}
#readonly-indicator {
  float: right !important;
  float: right;
  color: #777;
  margin-left: 5px;
  margin-right: 5px;
  width: 11px;
  z-index: 10;
  text-align: center;
  width: auto;
  margin-top: 2px;
  margin-bottom: 0px;
  margin-left: 0px;
  margin-right: 0px;
  display: none;
}
.modal_indicator:before {
  width: 1.28571429em;
  text-align: center;
}
.edit_mode .modal_indicator:before {
  display: inline-block;
  font: normal normal normal 14px/1 FontAwesome;
  font-size: inherit;
  text-rendering: auto;
  -webkit-font-smoothing: antialiased;
  -moz-osx-font-smoothing: grayscale;
  content: "\f040";
}
.edit_mode .modal_indicator:before.pull-left {
  margin-right: .3em;
}
.edit_mode .modal_indicator:before.pull-right {
  margin-left: .3em;
}
.command_mode .modal_indicator:before {
  display: inline-block;
  font: normal normal normal 14px/1 FontAwesome;
  font-size: inherit;
  text-rendering: auto;
  -webkit-font-smoothing: antialiased;
  -moz-osx-font-smoothing: grayscale;
  content: ' ';
}
.command_mode .modal_indicator:before.pull-left {
  margin-right: .3em;
}
.command_mode .modal_indicator:before.pull-right {
  margin-left: .3em;
}
.kernel_idle_icon:before {
  display: inline-block;
  font: normal normal normal 14px/1 FontAwesome;
  font-size: inherit;
  text-rendering: auto;
  -webkit-font-smoothing: antialiased;
  -moz-osx-font-smoothing: grayscale;
  content: "\f10c";
}
.kernel_idle_icon:before.pull-left {
  margin-right: .3em;
}
.kernel_idle_icon:before.pull-right {
  margin-left: .3em;
}
.kernel_busy_icon:before {
  display: inline-block;
  font: normal normal normal 14px/1 FontAwesome;
  font-size: inherit;
  text-rendering: auto;
  -webkit-font-smoothing: antialiased;
  -moz-osx-font-smoothing: grayscale;
  content: "\f111";
}
.kernel_busy_icon:before.pull-left {
  margin-right: .3em;
}
.kernel_busy_icon:before.pull-right {
  margin-left: .3em;
}
.kernel_dead_icon:before {
  display: inline-block;
  font: normal normal normal 14px/1 FontAwesome;
  font-size: inherit;
  text-rendering: auto;
  -webkit-font-smoothing: antialiased;
  -moz-osx-font-smoothing: grayscale;
  content: "\f1e2";
}
.kernel_dead_icon:before.pull-left {
  margin-right: .3em;
}
.kernel_dead_icon:before.pull-right {
  margin-left: .3em;
}
.kernel_disconnected_icon:before {
  display: inline-block;
  font: normal normal normal 14px/1 FontAwesome;
  font-size: inherit;
  text-rendering: auto;
  -webkit-font-smoothing: antialiased;
  -moz-osx-font-smoothing: grayscale;
  content: "\f127";
}
.kernel_disconnected_icon:before.pull-left {
  margin-right: .3em;
}
.kernel_disconnected_icon:before.pull-right {
  margin-left: .3em;
}
.notification_widget {
  color: #777;
  z-index: 10;
  background: rgba(240, 240, 240, 0.5);
  margin-right: 4px;
  color: #333;
  background-color: #fff;
  border-color: #ccc;
}
.notification_widget:focus,
.notification_widget.focus {
  color: #333;
  background-color: #e6e6e6;
  border-color: #8c8c8c;
}
.notification_widget:hover {
  color: #333;
  background-color: #e6e6e6;
  border-color: #adadad;
}
.notification_widget:active,
.notification_widget.active,
.open > .dropdown-toggle.notification_widget {
  color: #333;
  background-color: #e6e6e6;
  border-color: #adadad;
}
.notification_widget:active:hover,
.notification_widget.active:hover,
.open > .dropdown-toggle.notification_widget:hover,
.notification_widget:active:focus,
.notification_widget.active:focus,
.open > .dropdown-toggle.notification_widget:focus,
.notification_widget:active.focus,
.notification_widget.active.focus,
.open > .dropdown-toggle.notification_widget.focus {
  color: #333;
  background-color: #d4d4d4;
  border-color: #8c8c8c;
}
.notification_widget:active,
.notification_widget.active,
.open > .dropdown-toggle.notification_widget {
  background-image: none;
}
.notification_widget.disabled:hover,
.notification_widget[disabled]:hover,
fieldset[disabled] .notification_widget:hover,
.notification_widget.disabled:focus,
.notification_widget[disabled]:focus,
fieldset[disabled] .notification_widget:focus,
.notification_widget.disabled.focus,
.notification_widget[disabled].focus,
fieldset[disabled] .notification_widget.focus {
  background-color: #fff;
  border-color: #ccc;
}
.notification_widget .badge {
  color: #fff;
  background-color: #333;
}
.notification_widget.warning {
  color: #fff;
  background-color: #f0ad4e;
  border-color: #eea236;
}
.notification_widget.warning:focus,
.notification_widget.warning.focus {
  color: #fff;
  background-color: #ec971f;
  border-color: #985f0d;
}
.notification_widget.warning:hover {
  color: #fff;
  background-color: #ec971f;
  border-color: #d58512;
}
.notification_widget.warning:active,
.notification_widget.warning.active,
.open > .dropdown-toggle.notification_widget.warning {
  color: #fff;
  background-color: #ec971f;
  border-color: #d58512;
}
.notification_widget.warning:active:hover,
.notification_widget.warning.active:hover,
.open > .dropdown-toggle.notification_widget.warning:hover,
.notification_widget.warning:active:focus,
.notification_widget.warning.active:focus,
.open > .dropdown-toggle.notification_widget.warning:focus,
.notification_widget.warning:active.focus,
.notification_widget.warning.active.focus,
.open > .dropdown-toggle.notification_widget.warning.focus {
  color: #fff;
  background-color: #d58512;
  border-color: #985f0d;
}
.notification_widget.warning:active,
.notification_widget.warning.active,
.open > .dropdown-toggle.notification_widget.warning {
  background-image: none;
}
.notification_widget.warning.disabled:hover,
.notification_widget.warning[disabled]:hover,
fieldset[disabled] .notification_widget.warning:hover,
.notification_widget.warning.disabled:focus,
.notification_widget.warning[disabled]:focus,
fieldset[disabled] .notification_widget.warning:focus,
.notification_widget.warning.disabled.focus,
.notification_widget.warning[disabled].focus,
fieldset[disabled] .notification_widget.warning.focus {
  background-color: #f0ad4e;
  border-color: #eea236;
}
.notification_widget.warning .badge {
  color: #f0ad4e;
  background-color: #fff;
}
.notification_widget.success {
  color: #fff;
  background-color: #5cb85c;
  border-color: #4cae4c;
}
.notification_widget.success:focus,
.notification_widget.success.focus {
  color: #fff;
  background-color: #449d44;
  border-color: #255625;
}
.notification_widget.success:hover {
  color: #fff;
  background-color: #449d44;
  border-color: #398439;
}
.notification_widget.success:active,
.notification_widget.success.active,
.open > .dropdown-toggle.notification_widget.success {
  color: #fff;
  background-color: #449d44;
  border-color: #398439;
}
.notification_widget.success:active:hover,
.notification_widget.success.active:hover,
.open > .dropdown-toggle.notification_widget.success:hover,
.notification_widget.success:active:focus,
.notification_widget.success.active:focus,
.open > .dropdown-toggle.notification_widget.success:focus,
.notification_widget.success:active.focus,
.notification_widget.success.active.focus,
.open > .dropdown-toggle.notification_widget.success.focus {
  color: #fff;
  background-color: #398439;
  border-color: #255625;
}
.notification_widget.success:active,
.notification_widget.success.active,
.open > .dropdown-toggle.notification_widget.success {
  background-image: none;
}
.notification_widget.success.disabled:hover,
.notification_widget.success[disabled]:hover,
fieldset[disabled] .notification_widget.success:hover,
.notification_widget.success.disabled:focus,
.notification_widget.success[disabled]:focus,
fieldset[disabled] .notification_widget.success:focus,
.notification_widget.success.disabled.focus,
.notification_widget.success[disabled].focus,
fieldset[disabled] .notification_widget.success.focus {
  background-color: #5cb85c;
  border-color: #4cae4c;
}
.notification_widget.success .badge {
  color: #5cb85c;
  background-color: #fff;
}
.notification_widget.info {
  color: #fff;
  background-color: #5bc0de;
  border-color: #46b8da;
}
.notification_widget.info:focus,
.notification_widget.info.focus {
  color: #fff;
  background-color: #31b0d5;
  border-color: #1b6d85;
}
.notification_widget.info:hover {
  color: #fff;
  background-color: #31b0d5;
  border-color: #269abc;
}
.notification_widget.info:active,
.notification_widget.info.active,
.open > .dropdown-toggle.notification_widget.info {
  color: #fff;
  background-color: #31b0d5;
  border-color: #269abc;
}
.notification_widget.info:active:hover,
.notification_widget.info.active:hover,
.open > .dropdown-toggle.notification_widget.info:hover,
.notification_widget.info:active:focus,
.notification_widget.info.active:focus,
.open > .dropdown-toggle.notification_widget.info:focus,
.notification_widget.info:active.focus,
.notification_widget.info.active.focus,
.open > .dropdown-toggle.notification_widget.info.focus {
  color: #fff;
  background-color: #269abc;
  border-color: #1b6d85;
}
.notification_widget.info:active,
.notification_widget.info.active,
.open > .dropdown-toggle.notification_widget.info {
  background-image: none;
}
.notification_widget.info.disabled:hover,
.notification_widget.info[disabled]:hover,
fieldset[disabled] .notification_widget.info:hover,
.notification_widget.info.disabled:focus,
.notification_widget.info[disabled]:focus,
fieldset[disabled] .notification_widget.info:focus,
.notification_widget.info.disabled.focus,
.notification_widget.info[disabled].focus,
fieldset[disabled] .notification_widget.info.focus {
  background-color: #5bc0de;
  border-color: #46b8da;
}
.notification_widget.info .badge {
  color: #5bc0de;
  background-color: #fff;
}
.notification_widget.danger {
  color: #fff;
  background-color: #d9534f;
  border-color: #d43f3a;
}
.notification_widget.danger:focus,
.notification_widget.danger.focus {
  color: #fff;
  background-color: #c9302c;
  border-color: #761c19;
}
.notification_widget.danger:hover {
  color: #fff;
  background-color: #c9302c;
  border-color: #ac2925;
}
.notification_widget.danger:active,
.notification_widget.danger.active,
.open > .dropdown-toggle.notification_widget.danger {
  color: #fff;
  background-color: #c9302c;
  border-color: #ac2925;
}
.notification_widget.danger:active:hover,
.notification_widget.danger.active:hover,
.open > .dropdown-toggle.notification_widget.danger:hover,
.notification_widget.danger:active:focus,
.notification_widget.danger.active:focus,
.open > .dropdown-toggle.notification_widget.danger:focus,
.notification_widget.danger:active.focus,
.notification_widget.danger.active.focus,
.open > .dropdown-toggle.notification_widget.danger.focus {
  color: #fff;
  background-color: #ac2925;
  border-color: #761c19;
}
.notification_widget.danger:active,
.notification_widget.danger.active,
.open > .dropdown-toggle.notification_widget.danger {
  background-image: none;
}
.notification_widget.danger.disabled:hover,
.notification_widget.danger[disabled]:hover,
fieldset[disabled] .notification_widget.danger:hover,
.notification_widget.danger.disabled:focus,
.notification_widget.danger[disabled]:focus,
fieldset[disabled] .notification_widget.danger:focus,
.notification_widget.danger.disabled.focus,
.notification_widget.danger[disabled].focus,
fieldset[disabled] .notification_widget.danger.focus {
  background-color: #d9534f;
  border-color: #d43f3a;
}
.notification_widget.danger .badge {
  color: #d9534f;
  background-color: #fff;
}
div#pager {
  background-color: #fff;
  font-size: 14px;
  line-height: 20px;
  overflow: hidden;
  display: none;
  position: fixed;
  bottom: 0px;
  width: 100%;
  max-height: 50%;
  padding-top: 8px;
  -webkit-box-shadow: 0px 0px 12px 1px rgba(87, 87, 87, 0.2);
  box-shadow: 0px 0px 12px 1px rgba(87, 87, 87, 0.2);
  /* Display over codemirror */
  z-index: 100;
  /* Hack which prevents jquery ui resizable from changing top. */
  top: auto !important;
}
div#pager pre {
  line-height: 1.21429em;
  color: #000;
  background-color: #f7f7f7;
  padding: 0.4em;
}
div#pager #pager-button-area {
  position: absolute;
  top: 8px;
  right: 20px;
}
div#pager #pager-contents {
  position: relative;
  overflow: auto;
  width: 100%;
  height: 100%;
}
div#pager #pager-contents #pager-container {
  position: relative;
  padding: 15px 0px;
  box-sizing: border-box;
  -moz-box-sizing: border-box;
  -webkit-box-sizing: border-box;
}
div#pager .ui-resizable-handle {
  top: 0px;
  height: 8px;
  background: #f7f7f7;
  border-top: 1px solid #cfcfcf;
  border-bottom: 1px solid #cfcfcf;
  /* This injects handle bars (a short, wide = symbol) for 
        the resize handle. */
}
div#pager .ui-resizable-handle::after {
  content: '';
  top: 2px;
  left: 50%;
  height: 3px;
  width: 30px;
  margin-left: -15px;
  position: absolute;
  border-top: 1px solid #cfcfcf;
}
.quickhelp {
  /* Old browsers */
  display: -webkit-box;
  -webkit-box-orient: horizontal;
  -webkit-box-align: stretch;
  display: -moz-box;
  -moz-box-orient: horizontal;
  -moz-box-align: stretch;
  display: box;
  box-orient: horizontal;
  box-align: stretch;
  /* Modern browsers */
  display: flex;
  flex-direction: row;
  align-items: stretch;
  line-height: 1.8em;
}
.shortcut_key {
  display: inline-block;
  width: 20ex;
  text-align: right;
  font-family: monospace;
}
.shortcut_descr {
  display: inline-block;
  /* Old browsers */
  -webkit-box-flex: 1;
  -moz-box-flex: 1;
  box-flex: 1;
  /* Modern browsers */
  flex: 1;
}
span.save_widget {
  margin-top: 6px;
}
span.save_widget span.filename {
  height: 1em;
  line-height: 1em;
  padding: 3px;
  margin-left: 16px;
  border: none;
  font-size: 146.5%;
  border-radius: 2px;
}
span.save_widget span.filename:hover {
  background-color: #e6e6e6;
}
span.checkpoint_status,
span.autosave_status {
  font-size: small;
}
@media (max-width: 767px) {
  span.save_widget {
    font-size: small;
  }
  span.checkpoint_status,
  span.autosave_status {
    display: none;
  }
}
@media (min-width: 768px) and (max-width: 991px) {
  span.checkpoint_status {
    display: none;
  }
  span.autosave_status {
    font-size: x-small;
  }
}
.toolbar {
  padding: 0px;
  margin-left: -5px;
  margin-top: 2px;
  margin-bottom: 5px;
  box-sizing: border-box;
  -moz-box-sizing: border-box;
  -webkit-box-sizing: border-box;
}
.toolbar select,
.toolbar label {
  width: auto;
  vertical-align: middle;
  margin-right: 2px;
  margin-bottom: 0px;
  display: inline;
  font-size: 92%;
  margin-left: 0.3em;
  margin-right: 0.3em;
  padding: 0px;
  padding-top: 3px;
}
.toolbar .btn {
  padding: 2px 8px;
}
.toolbar .btn-group {
  margin-top: 0px;
  margin-left: 5px;
}
#maintoolbar {
  margin-bottom: -3px;
  margin-top: -8px;
  border: 0px;
  min-height: 27px;
  margin-left: 0px;
  padding-top: 11px;
  padding-bottom: 3px;
}
#maintoolbar .navbar-text {
  float: none;
  vertical-align: middle;
  text-align: right;
  margin-left: 5px;
  margin-right: 0px;
  margin-top: 0px;
}
.select-xs {
  height: 24px;
}
.pulse,
.dropdown-menu > li > a.pulse,
li.pulse > a.dropdown-toggle,
li.pulse.open > a.dropdown-toggle {
  background-color: #F37626;
  color: white;
}
/**
 * Primary styles
 *
 * Author: Jupyter Development Team
 */
/** WARNING IF YOU ARE EDITTING THIS FILE, if this is a .css file, It has a lot
 * of chance of beeing generated from the ../less/[samename].less file, you can
 * try to get back the less file by reverting somme commit in history
 **/
/*
 * We'll try to get something pretty, so we
 * have some strange css to have the scroll bar on
 * the left with fix button on the top right of the tooltip
 */
@-moz-keyframes fadeOut {
  from {
    opacity: 1;
  }
  to {
    opacity: 0;
  }
}
@-webkit-keyframes fadeOut {
  from {
    opacity: 1;
  }
  to {
    opacity: 0;
  }
}
@-moz-keyframes fadeIn {
  from {
    opacity: 0;
  }
  to {
    opacity: 1;
  }
}
@-webkit-keyframes fadeIn {
  from {
    opacity: 0;
  }
  to {
    opacity: 1;
  }
}
/*properties of tooltip after "expand"*/
.bigtooltip {
  overflow: auto;
  height: 200px;
  -webkit-transition-property: height;
  -webkit-transition-duration: 500ms;
  -moz-transition-property: height;
  -moz-transition-duration: 500ms;
  transition-property: height;
  transition-duration: 500ms;
}
/*properties of tooltip before "expand"*/
.smalltooltip {
  -webkit-transition-property: height;
  -webkit-transition-duration: 500ms;
  -moz-transition-property: height;
  -moz-transition-duration: 500ms;
  transition-property: height;
  transition-duration: 500ms;
  text-overflow: ellipsis;
  overflow: hidden;
  height: 80px;
}
.tooltipbuttons {
  position: absolute;
  padding-right: 15px;
  top: 0px;
  right: 0px;
}
.tooltiptext {
  /*avoid the button to overlap on some docstring*/
  padding-right: 30px;
}
.ipython_tooltip {
  max-width: 700px;
  /*fade-in animation when inserted*/
  -webkit-animation: fadeOut 400ms;
  -moz-animation: fadeOut 400ms;
  animation: fadeOut 400ms;
  -webkit-animation: fadeIn 400ms;
  -moz-animation: fadeIn 400ms;
  animation: fadeIn 400ms;
  vertical-align: middle;
  background-color: #f7f7f7;
  overflow: visible;
  border: #ababab 1px solid;
  outline: none;
  padding: 3px;
  margin: 0px;
  padding-left: 7px;
  font-family: monospace;
  min-height: 50px;
  -moz-box-shadow: 0px 6px 10px -1px #adadad;
  -webkit-box-shadow: 0px 6px 10px -1px #adadad;
  box-shadow: 0px 6px 10px -1px #adadad;
  border-radius: 2px;
  position: absolute;
  z-index: 1000;
}
.ipython_tooltip a {
  float: right;
}
.ipython_tooltip .tooltiptext pre {
  border: 0;
  border-radius: 0;
  font-size: 100%;
  background-color: #f7f7f7;
}
.pretooltiparrow {
  left: 0px;
  margin: 0px;
  top: -16px;
  width: 40px;
  height: 16px;
  overflow: hidden;
  position: absolute;
}
.pretooltiparrow:before {
  background-color: #f7f7f7;
  border: 1px #ababab solid;
  z-index: 11;
  content: "";
  position: absolute;
  left: 15px;
  top: 10px;
  width: 25px;
  height: 25px;
  -webkit-transform: rotate(45deg);
  -moz-transform: rotate(45deg);
  -ms-transform: rotate(45deg);
  -o-transform: rotate(45deg);
}
ul.typeahead-list i {
  margin-left: -10px;
  width: 18px;
}
ul.typeahead-list {
  max-height: 80vh;
  overflow: auto;
}
ul.typeahead-list > li > a {
  /** Firefox bug **/
  /* see https://github.com/jupyter/notebook/issues/559 */
  white-space: normal;
}
.cmd-palette .modal-body {
  padding: 7px;
}
.cmd-palette form {
  background: white;
}
.cmd-palette input {
  outline: none;
}
.no-shortcut {
  display: none;
}
.command-shortcut:before {
  content: "(command)";
  padding-right: 3px;
  color: #777777;
}
.edit-shortcut:before {
  content: "(edit)";
  padding-right: 3px;
  color: #777777;
}
#find-and-replace #replace-preview .match,
#find-and-replace #replace-preview .insert {
  background-color: #BBDEFB;
  border-color: #90CAF9;
  border-style: solid;
  border-width: 1px;
  border-radius: 0px;
}
#find-and-replace #replace-preview .replace .match {
  background-color: #FFCDD2;
  border-color: #EF9A9A;
  border-radius: 0px;
}
#find-and-replace #replace-preview .replace .insert {
  background-color: #C8E6C9;
  border-color: #A5D6A7;
  border-radius: 0px;
}
#find-and-replace #replace-preview {
  max-height: 60vh;
  overflow: auto;
}
#find-and-replace #replace-preview pre {
  padding: 5px 10px;
}
.terminal-app {
  background: #EEE;
}
.terminal-app #header {
  background: #fff;
  -webkit-box-shadow: 0px 0px 12px 1px rgba(87, 87, 87, 0.2);
  box-shadow: 0px 0px 12px 1px rgba(87, 87, 87, 0.2);
}
.terminal-app .terminal {
  float: left;
  font-family: monospace;
  color: white;
  background: black;
  padding: 0.4em;
  border-radius: 2px;
  -webkit-box-shadow: 0px 0px 12px 1px rgba(87, 87, 87, 0.4);
  box-shadow: 0px 0px 12px 1px rgba(87, 87, 87, 0.4);
}
.terminal-app .terminal,
.terminal-app .terminal dummy-screen {
  line-height: 1em;
  font-size: 14px;
}
.terminal-app .terminal-cursor {
  color: black;
  background: white;
}
.terminal-app #terminado-container {
  margin-top: 20px;
}
/*# sourceMappingURL=style.min.css.map */
    </style>
<style type="text/css">
    .highlight .hll { background-color: #ffffcc }
.highlight  { background: #f8f8f8; }
.highlight .c { color: #408080; font-style: italic } /* Comment */
.highlight .err { border: 1px solid #FF0000 } /* Error */
.highlight .k { color: #008000; font-weight: bold } /* Keyword */
.highlight .o { color: #666666 } /* Operator */
.highlight .ch { color: #408080; font-style: italic } /* Comment.Hashbang */
.highlight .cm { color: #408080; font-style: italic } /* Comment.Multiline */
.highlight .cp { color: #BC7A00 } /* Comment.Preproc */
.highlight .cpf { color: #408080; font-style: italic } /* Comment.PreprocFile */
.highlight .c1 { color: #408080; font-style: italic } /* Comment.Single */
.highlight .cs { color: #408080; font-style: italic } /* Comment.Special */
.highlight .gd { color: #A00000 } /* Generic.Deleted */
.highlight .ge { font-style: italic } /* Generic.Emph */
.highlight .gr { color: #FF0000 } /* Generic.Error */
.highlight .gh { color: #000080; font-weight: bold } /* Generic.Heading */
.highlight .gi { color: #00A000 } /* Generic.Inserted */
.highlight .go { color: #888888 } /* Generic.Output */
.highlight .gp { color: #000080; font-weight: bold } /* Generic.Prompt */
.highlight .gs { font-weight: bold } /* Generic.Strong */
.highlight .gu { color: #800080; font-weight: bold } /* Generic.Subheading */
.highlight .gt { color: #0044DD } /* Generic.Traceback */
.highlight .kc { color: #008000; font-weight: bold } /* Keyword.Constant */
.highlight .kd { color: #008000; font-weight: bold } /* Keyword.Declaration */
.highlight .kn { color: #008000; font-weight: bold } /* Keyword.Namespace */
.highlight .kp { color: #008000 } /* Keyword.Pseudo */
.highlight .kr { color: #008000; font-weight: bold } /* Keyword.Reserved */
.highlight .kt { color: #B00040 } /* Keyword.Type */
.highlight .m { color: #666666 } /* Literal.Number */
.highlight .s { color: #BA2121 } /* Literal.String */
.highlight .na { color: #7D9029 } /* Name.Attribute */
.highlight .nb { color: #008000 } /* Name.Builtin */
.highlight .nc { color: #0000FF; font-weight: bold } /* Name.Class */
.highlight .no { color: #880000 } /* Name.Constant */
.highlight .nd { color: #AA22FF } /* Name.Decorator */
.highlight .ni { color: #999999; font-weight: bold } /* Name.Entity */
.highlight .ne { color: #D2413A; font-weight: bold } /* Name.Exception */
.highlight .nf { color: #0000FF } /* Name.Function */
.highlight .nl { color: #A0A000 } /* Name.Label */
.highlight .nn { color: #0000FF; font-weight: bold } /* Name.Namespace */
.highlight .nt { color: #008000; font-weight: bold } /* Name.Tag */
.highlight .nv { color: #19177C } /* Name.Variable */
.highlight .ow { color: #AA22FF; font-weight: bold } /* Operator.Word */
.highlight .w { color: #bbbbbb } /* Text.Whitespace */
.highlight .mb { color: #666666 } /* Literal.Number.Bin */
.highlight .mf { color: #666666 } /* Literal.Number.Float */
.highlight .mh { color: #666666 } /* Literal.Number.Hex */
.highlight .mi { color: #666666 } /* Literal.Number.Integer */
.highlight .mo { color: #666666 } /* Literal.Number.Oct */
.highlight .sb { color: #BA2121 } /* Literal.String.Backtick */
.highlight .sc { color: #BA2121 } /* Literal.String.Char */
.highlight .sd { color: #BA2121; font-style: italic } /* Literal.String.Doc */
.highlight .s2 { color: #BA2121 } /* Literal.String.Double */
.highlight .se { color: #BB6622; font-weight: bold } /* Literal.String.Escape */
.highlight .sh { color: #BA2121 } /* Literal.String.Heredoc */
.highlight .si { color: #BB6688; font-weight: bold } /* Literal.String.Interpol */
.highlight .sx { color: #008000 } /* Literal.String.Other */
.highlight .sr { color: #BB6688 } /* Literal.String.Regex */
.highlight .s1 { color: #BA2121 } /* Literal.String.Single */
.highlight .ss { color: #19177C } /* Literal.String.Symbol */
.highlight .bp { color: #008000 } /* Name.Builtin.Pseudo */
.highlight .vc { color: #19177C } /* Name.Variable.Class */
.highlight .vg { color: #19177C } /* Name.Variable.Global */
.highlight .vi { color: #19177C } /* Name.Variable.Instance */
.highlight .il { color: #666666 } /* Literal.Number.Integer.Long */
    </style>
<style type="text/css">
    
/* Temporary definitions which will become obsolete with Notebook release 5.0 */
.ansi-black-fg { color: #3E424D; }
.ansi-black-bg { background-color: #3E424D; }
.ansi-black-intense-fg { color: #282C36; }
.ansi-black-intense-bg { background-color: #282C36; }
.ansi-red-fg { color: #E75C58; }
.ansi-red-bg { background-color: #E75C58; }
.ansi-red-intense-fg { color: #B22B31; }
.ansi-red-intense-bg { background-color: #B22B31; }
.ansi-green-fg { color: #00A250; }
.ansi-green-bg { background-color: #00A250; }
.ansi-green-intense-fg { color: #007427; }
.ansi-green-intense-bg { background-color: #007427; }
.ansi-yellow-fg { color: #DDB62B; }
.ansi-yellow-bg { background-color: #DDB62B; }
.ansi-yellow-intense-fg { color: #B27D12; }
.ansi-yellow-intense-bg { background-color: #B27D12; }
.ansi-blue-fg { color: #208FFB; }
.ansi-blue-bg { background-color: #208FFB; }
.ansi-blue-intense-fg { color: #0065CA; }
.ansi-blue-intense-bg { background-color: #0065CA; }
.ansi-magenta-fg { color: #D160C4; }
.ansi-magenta-bg { background-color: #D160C4; }
.ansi-magenta-intense-fg { color: #A03196; }
.ansi-magenta-intense-bg { background-color: #A03196; }
.ansi-cyan-fg { color: #60C6C8; }
.ansi-cyan-bg { background-color: #60C6C8; }
.ansi-cyan-intense-fg { color: #258F8F; }
.ansi-cyan-intense-bg { background-color: #258F8F; }
.ansi-white-fg { color: #C5C1B4; }
.ansi-white-bg { background-color: #C5C1B4; }
.ansi-white-intense-fg { color: #A1A6B2; }
.ansi-white-intense-bg { background-color: #A1A6B2; }

.ansi-bold { font-weight: bold; }

    </style>


<style type="text/css">
/* Overrides of notebook CSS for static HTML export */
body {
  overflow: visible;
  padding: 8px;
}

div#notebook {
  overflow: visible;
  border-top: none;
}

@media print {
  div.cell {
    display: block;
    page-break-inside: avoid;
  } 
  div.output_wrapper { 
    display: block;
    page-break-inside: avoid; 
  }
  div.output { 
    display: block;
    page-break-inside: avoid; 
  }
}
</style>

<!-- Custom stylesheet, it must be in the same directory as the html file -->
<link rel="stylesheet" href="custom.css">

<!-- Loading mathjax macro -->
<!-- Load mathjax -->
    <script src="https://cdn.mathjax.org/mathjax/latest/MathJax.js?config=TeX-AMS_HTML"></script>
    <!-- MathJax configuration -->
    <script type="text/x-mathjax-config">
    MathJax.Hub.Config({
        tex2jax: {
            inlineMath: [ ['$','$'], ["\\(","\\)"] ],
            displayMath: [ ['$$','$$'], ["\\[","\\]"] ],
            processEscapes: true,
            processEnvironments: true
        },
        // Center justify equations in code and markdown cells. Elsewhere
        // we use CSS to left justify single line equations in code cells.
        displayAlign: 'center',
        "HTML-CSS": {
            styles: {'.MathJax_Display': {"margin": 0}},
            linebreaks: { automatic: true }
        }
    });
    </script>
    <!-- End of mathjax configuration --></head>
<body>
  <div tabindex="-1" id="notebook" class="border-box-sizing">
    <div class="container" id="notebook-container">

<div class="cell border-box-sizing text_cell rendered">
<div class="prompt input_prompt">
</div>
<div class="inner_cell">
<div class="text_cell_render border-box-sizing rendered_html">
<h1 id="ASSIGNMENT-2-MOVIE-SCORE-PREDICTION">ASSIGNMENT 2 MOVIE SCORE PREDICTION<a class="anchor-link" href="#ASSIGNMENT-2-MOVIE-SCORE-PREDICTION">&#182;</a></h1>
</div>
</div>
</div>
<div class="cell border-box-sizing text_cell rendered">
<div class="prompt input_prompt">
</div>
<div class="inner_cell">
<div class="text_cell_render border-box-sizing rendered_html">
<p>This assignment is made using linux operating system ubunt 16.10, using pyhton 3 on top of Jupyter Notebook, the data was saved in the following directory: /home/kushal/Downloads/assignmentsforcandidates/movies</p>

</div>
</div>
</div>
<div class="cell border-box-sizing code_cell rendered">
<div class="input">
<div class="prompt input_prompt">In&nbsp;[1]:</div>
<div class="inner_cell">
    <div class="input_area">
<div class=" highlight hl-ipython3"><pre><span></span><span class="c1"># importing required packages</span>
<span class="kn">import</span> <span class="nn">numpy</span> <span class="k">as</span> <span class="nn">np</span>
<span class="kn">import</span> <span class="nn">pandas</span> <span class="k">as</span> <span class="nn">pd</span>

<span class="n">df</span> <span class="o">=</span> <span class="n">pd</span><span class="o">.</span><span class="n">read_csv</span><span class="p">(</span><span class="s1">&#39;/home/kushal/Downloads/assignmentsforcandidates/movies/movies.csv&#39;</span><span class="p">)</span>
<span class="n">df</span><span class="o">.</span><span class="n">columns</span>
</pre></div>

</div>
</div>
</div>

<div class="output_wrapper">
<div class="output">


<div class="output_area"><div class="prompt output_prompt">Out[1]:</div>


<div class="output_text output_subarea output_execute_result">
<pre>Index([&#39;Unnamed: 0&#39;, &#39;title&#39;, &#39;title_type&#39;, &#39;genre&#39;, &#39;runtime&#39;, &#39;mpaa_rating&#39;,
       &#39;studio&#39;, &#39;thtr_rel_year&#39;, &#39;thtr_rel_month&#39;, &#39;thtr_rel_day&#39;,
       &#39;dvd_rel_year&#39;, &#39;dvd_rel_month&#39;, &#39;dvd_rel_day&#39;, &#39;imdb_rating&#39;,
       &#39;imdb_num_votes&#39;, &#39;critics_rating&#39;, &#39;critics_score&#39;, &#39;audience_rating&#39;,
       &#39;audience_score&#39;, &#39;best_pic_nom&#39;, &#39;best_pic_win&#39;, &#39;best_actor_win&#39;,
       &#39;best_actress_win&#39;, &#39;best_dir_win&#39;, &#39;top200_box&#39;, &#39;director&#39;, &#39;actor1&#39;,
       &#39;actor2&#39;, &#39;actor3&#39;, &#39;actor4&#39;, &#39;actor5&#39;, &#39;imdb_url&#39;, &#39;rt_url&#39;],
      dtype=&#39;object&#39;)</pre>
</div>

</div>

</div>
</div>

</div>
<div class="cell border-box-sizing code_cell rendered">
<div class="input">
<div class="prompt input_prompt">In&nbsp;[2]:</div>
<div class="inner_cell">
    <div class="input_area">
<div class=" highlight hl-ipython3"><pre><span></span><span class="n">df</span><span class="o">.</span><span class="n">describe</span><span class="p">()</span>
</pre></div>

</div>
</div>
</div>

<div class="output_wrapper">
<div class="output">


<div class="output_area"><div class="prompt"></div>
<div class="output_subarea output_stream output_stderr output_text">
<pre>/home/kushal/anaconda3/lib/python3.5/site-packages/numpy/lib/function_base.py:3834: RuntimeWarning: Invalid value encountered in percentile
  RuntimeWarning)
</pre>
</div>
</div>

<div class="output_area"><div class="prompt output_prompt">Out[2]:</div>

<div class="output_html rendered_html output_subarea output_execute_result">
<div>
<table border="1" class="dataframe">
  <thead>
    <tr style="text-align: right;">
      <th></th>
      <th>Unnamed: 0</th>
      <th>runtime</th>
      <th>thtr_rel_year</th>
      <th>thtr_rel_month</th>
      <th>thtr_rel_day</th>
      <th>dvd_rel_year</th>
      <th>dvd_rel_month</th>
      <th>dvd_rel_day</th>
      <th>imdb_rating</th>
      <th>imdb_num_votes</th>
      <th>critics_score</th>
      <th>audience_score</th>
    </tr>
  </thead>
  <tbody>
    <tr>
      <th>count</th>
      <td>651.000000</td>
      <td>650.000000</td>
      <td>651.000000</td>
      <td>651.000000</td>
      <td>651.000000</td>
      <td>643.000000</td>
      <td>643.000000</td>
      <td>643.000000</td>
      <td>651.000000</td>
      <td>651.000000</td>
      <td>651.000000</td>
      <td>651.000000</td>
    </tr>
    <tr>
      <th>mean</th>
      <td>326.000000</td>
      <td>105.821538</td>
      <td>1997.941628</td>
      <td>6.740399</td>
      <td>14.416283</td>
      <td>2004.427683</td>
      <td>6.332815</td>
      <td>15.007776</td>
      <td>6.493088</td>
      <td>57532.983103</td>
      <td>57.688172</td>
      <td>62.362519</td>
    </tr>
    <tr>
      <th>std</th>
      <td>188.071795</td>
      <td>19.445047</td>
      <td>10.974501</td>
      <td>3.554223</td>
      <td>8.861167</td>
      <td>4.643588</td>
      <td>3.378228</td>
      <td>8.867400</td>
      <td>1.084747</td>
      <td>112124.386910</td>
      <td>28.402971</td>
      <td>20.222624</td>
    </tr>
    <tr>
      <th>min</th>
      <td>1.000000</td>
      <td>39.000000</td>
      <td>1970.000000</td>
      <td>1.000000</td>
      <td>1.000000</td>
      <td>1991.000000</td>
      <td>1.000000</td>
      <td>1.000000</td>
      <td>1.900000</td>
      <td>180.000000</td>
      <td>1.000000</td>
      <td>11.000000</td>
    </tr>
    <tr>
      <th>25%</th>
      <td>163.500000</td>
      <td>NaN</td>
      <td>1990.000000</td>
      <td>4.000000</td>
      <td>7.000000</td>
      <td>NaN</td>
      <td>NaN</td>
      <td>NaN</td>
      <td>5.900000</td>
      <td>4545.500000</td>
      <td>33.000000</td>
      <td>46.000000</td>
    </tr>
    <tr>
      <th>50%</th>
      <td>326.000000</td>
      <td>NaN</td>
      <td>2000.000000</td>
      <td>7.000000</td>
      <td>15.000000</td>
      <td>NaN</td>
      <td>NaN</td>
      <td>NaN</td>
      <td>6.600000</td>
      <td>15116.000000</td>
      <td>61.000000</td>
      <td>65.000000</td>
    </tr>
    <tr>
      <th>75%</th>
      <td>488.500000</td>
      <td>NaN</td>
      <td>2007.000000</td>
      <td>10.000000</td>
      <td>21.000000</td>
      <td>NaN</td>
      <td>NaN</td>
      <td>NaN</td>
      <td>7.300000</td>
      <td>58300.500000</td>
      <td>83.000000</td>
      <td>80.000000</td>
    </tr>
    <tr>
      <th>max</th>
      <td>651.000000</td>
      <td>267.000000</td>
      <td>2014.000000</td>
      <td>12.000000</td>
      <td>31.000000</td>
      <td>2015.000000</td>
      <td>12.000000</td>
      <td>31.000000</td>
      <td>9.000000</td>
      <td>893008.000000</td>
      <td>100.000000</td>
      <td>97.000000</td>
    </tr>
  </tbody>
</table>
</div>
</div>

</div>

</div>
</div>

</div>
<div class="cell border-box-sizing text_cell rendered">
<div class="prompt input_prompt">
</div>
<div class="inner_cell">
<div class="text_cell_render border-box-sizing rendered_html">
<p>We can build a simple predcitive model for IMDB rating using response variables such as critics score, audience score and imdb score. We can build a simple model using linear regression technique.</p>

</div>
</div>
</div>
<div class="cell border-box-sizing code_cell rendered">
<div class="input">
<div class="prompt input_prompt">In&nbsp;[3]:</div>
<div class="inner_cell">
    <div class="input_area">
<div class=" highlight hl-ipython3"><pre><span></span><span class="n">feature_cols</span> <span class="o">=</span> <span class="p">[</span><span class="s1">&#39;critics_score&#39;</span><span class="p">,</span><span class="s1">&#39;audience_score&#39;</span><span class="p">,</span><span class="s1">&#39;imdb_num_votes&#39;</span><span class="p">]</span>
<span class="nb">print</span><span class="p">(</span><span class="n">feature_cols</span><span class="p">)</span>
</pre></div>

</div>
</div>
</div>

<div class="output_wrapper">
<div class="output">


<div class="output_area"><div class="prompt"></div>
<div class="output_subarea output_stream output_stdout output_text">
<pre>[&#39;critics_score&#39;, &#39;audience_score&#39;, &#39;imdb_num_votes&#39;]
</pre>
</div>
</div>

</div>
</div>

</div>
<div class="cell border-box-sizing code_cell rendered">
<div class="input">
<div class="prompt input_prompt">In&nbsp;[21]:</div>
<div class="inner_cell">
    <div class="input_area">
<div class=" highlight hl-ipython3"><pre><span></span><span class="kn">import</span> <span class="nn">seaborn</span> <span class="k">as</span> <span class="nn">sns</span>
<span class="o">%</span><span class="k">matplotlib</span> inline
<span class="n">sns</span><span class="o">.</span><span class="n">pairplot</span><span class="p">(</span><span class="n">df</span><span class="p">,</span> <span class="n">x_vars</span> <span class="o">=</span> <span class="p">[</span><span class="s1">&#39;critics_score&#39;</span><span class="p">,</span><span class="s1">&#39;audience_score&#39;</span><span class="p">,</span><span class="s1">&#39;imdb_num_votes&#39;</span><span class="p">],</span><span class="n">y_vars</span> <span class="o">=</span> <span class="p">[</span><span class="s1">&#39;imdb_rating&#39;</span><span class="p">],</span> <span class="n">kind</span> <span class="o">=</span> <span class="s1">&#39;reg&#39;</span><span class="p">,</span> <span class="n">size</span> <span class="o">=</span> <span class="mi">7</span><span class="p">,</span> <span class="n">aspect</span> <span class="o">=</span> <span class="mf">0.7</span><span class="p">)</span>
</pre></div>

</div>
</div>
</div>

<div class="output_wrapper">
<div class="output">


<div class="output_area"><div class="prompt output_prompt">Out[21]:</div>


<div class="output_text output_subarea output_execute_result">
<pre>&lt;seaborn.axisgrid.PairGrid at 0x7f1b21fc85f8&gt;</pre>
</div>

</div>

<div class="output_area"><div class="prompt"></div>


<div class="output_png output_subarea ">
<img src="data:image/png;base64,iVBORw0KGgoAAAANSUhEUgAABcEAAAKyCAYAAAAdPBaYAAAABHNCSVQICAgIfAhkiAAAAAlwSFlz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"
>
</div>

</div>

</div>
</div>

</div>
<div class="cell border-box-sizing code_cell rendered">
<div class="input">
<div class="prompt input_prompt">In&nbsp;[53]:</div>
<div class="inner_cell">
    <div class="input_area">
<div class=" highlight hl-ipython3"><pre><span></span><span class="kn">from</span> <span class="nn">sklearn.linear_model</span> <span class="k">import</span> <span class="n">LinearRegression</span>
<span class="n">linreg</span> <span class="o">=</span> <span class="n">LinearRegression</span><span class="p">()</span>
<span class="n">x</span> <span class="o">=</span> <span class="n">df</span><span class="p">[</span><span class="n">feature_cols</span><span class="p">]</span> <span class="c1">#making response variable</span>
<span class="n">x</span><span class="o">.</span><span class="n">head</span><span class="p">()</span>
</pre></div>

</div>
</div>
</div>

<div class="output_wrapper">
<div class="output">


<div class="output_area"><div class="prompt output_prompt">Out[53]:</div>

<div class="output_html rendered_html output_subarea output_execute_result">
<div>
<table border="1" class="dataframe">
  <thead>
    <tr style="text-align: right;">
      <th></th>
      <th>critics_score</th>
      <th>audience_score</th>
      <th>imdb_num_votes</th>
    </tr>
  </thead>
  <tbody>
    <tr>
      <th>0</th>
      <td>45</td>
      <td>73</td>
      <td>899</td>
    </tr>
    <tr>
      <th>1</th>
      <td>96</td>
      <td>81</td>
      <td>12285</td>
    </tr>
    <tr>
      <th>2</th>
      <td>91</td>
      <td>91</td>
      <td>22381</td>
    </tr>
    <tr>
      <th>3</th>
      <td>80</td>
      <td>76</td>
      <td>35096</td>
    </tr>
    <tr>
      <th>4</th>
      <td>33</td>
      <td>27</td>
      <td>2386</td>
    </tr>
  </tbody>
</table>
</div>
</div>

</div>

</div>
</div>

</div>
<div class="cell border-box-sizing code_cell rendered">
<div class="input">
<div class="prompt input_prompt">In&nbsp;[22]:</div>
<div class="inner_cell">
    <div class="input_area">
<div class=" highlight hl-ipython3"><pre><span></span><span class="n">y</span><span class="o">=</span> <span class="n">df</span><span class="p">[</span><span class="s1">&#39;imdb_rating&#39;</span><span class="p">]</span>
<span class="n">y</span><span class="o">.</span><span class="n">head</span><span class="p">()</span>
</pre></div>

</div>
</div>
</div>

<div class="output_wrapper">
<div class="output">


<div class="output_area"><div class="prompt output_prompt">Out[22]:</div>


<div class="output_text output_subarea output_execute_result">
<pre>0    5.5
1    7.3
2    7.6
3    7.2
4    5.1
Name: imdb_rating, dtype: float64</pre>
</div>

</div>

</div>
</div>

</div>
<div class="cell border-box-sizing code_cell rendered">
<div class="input">
<div class="prompt input_prompt">In&nbsp;[32]:</div>
<div class="inner_cell">
    <div class="input_area">
<div class=" highlight hl-ipython3"><pre><span></span><span class="c1">#splitting data to train and test</span>
<span class="kn">from</span> <span class="nn">sklearn.cross_validation</span> <span class="k">import</span> <span class="n">train_test_split</span>
<span class="n">x_train</span><span class="p">,</span> <span class="n">x_test</span><span class="p">,</span> <span class="n">y_train</span><span class="p">,</span> <span class="n">y_test</span> <span class="o">=</span> <span class="n">train_test_split</span><span class="p">(</span><span class="n">x</span><span class="p">,</span><span class="n">y</span><span class="p">,</span> <span class="n">random_state</span> <span class="o">=</span><span class="mi">1</span><span class="p">)</span>
<span class="nb">print</span><span class="p">(</span><span class="n">x_train</span><span class="o">.</span><span class="n">shape</span><span class="p">)</span>
<span class="nb">print</span><span class="p">(</span><span class="n">x_test</span><span class="o">.</span><span class="n">shape</span><span class="p">)</span>
<span class="nb">print</span><span class="p">(</span><span class="n">y_train</span><span class="o">.</span><span class="n">shape</span><span class="p">)</span>
<span class="nb">print</span><span class="p">(</span><span class="n">y_test</span><span class="o">.</span><span class="n">shape</span><span class="p">)</span>
</pre></div>

</div>
</div>
</div>

<div class="output_wrapper">
<div class="output">


<div class="output_area"><div class="prompt"></div>
<div class="output_subarea output_stream output_stdout output_text">
<pre>(488, 3)
(163, 3)
(488,)
(163,)
</pre>
</div>
</div>

</div>
</div>

</div>
<div class="cell border-box-sizing code_cell rendered">
<div class="input">
<div class="prompt input_prompt">In&nbsp;[37]:</div>
<div class="inner_cell">
    <div class="input_area">
<div class=" highlight hl-ipython3"><pre><span></span><span class="n">linreg</span><span class="o">.</span><span class="n">fit</span><span class="p">(</span><span class="n">x_train</span><span class="p">,</span><span class="n">y_train</span><span class="p">)</span>
</pre></div>

</div>
</div>
</div>

<div class="output_wrapper">
<div class="output">


<div class="output_area"><div class="prompt output_prompt">Out[37]:</div>


<div class="output_text output_subarea output_execute_result">
<pre>LinearRegression(copy_X=True, fit_intercept=True, n_jobs=1, normalize=False)</pre>
</div>

</div>

</div>
</div>

</div>
<div class="cell border-box-sizing code_cell rendered">
<div class="input">
<div class="prompt input_prompt">In&nbsp;[38]:</div>
<div class="inner_cell">
    <div class="input_area">
<div class=" highlight hl-ipython3"><pre><span></span><span class="nb">print</span><span class="p">(</span><span class="n">linreg</span><span class="o">.</span><span class="n">intercept_</span><span class="p">)</span>
<span class="nb">print</span><span class="p">(</span><span class="n">linreg</span><span class="o">.</span><span class="n">coef_</span><span class="p">)</span>
</pre></div>

</div>
</div>
</div>

<div class="output_wrapper">
<div class="output">


<div class="output_area"><div class="prompt"></div>
<div class="output_subarea output_stream output_stdout output_text">
<pre>3.72054030211
[  1.10334155e-02   3.34112111e-02   8.97358299e-07]
</pre>
</div>
</div>

</div>
</div>

</div>
<div class="cell border-box-sizing code_cell rendered">
<div class="input">
<div class="prompt input_prompt">In&nbsp;[39]:</div>
<div class="inner_cell">
    <div class="input_area">
<div class=" highlight hl-ipython3"><pre><span></span><span class="nb">list</span><span class="p">(</span><span class="nb">zip</span><span class="p">(</span><span class="n">feature_cols</span><span class="p">,</span><span class="n">linreg</span><span class="o">.</span><span class="n">coef_</span><span class="p">))</span>
</pre></div>

</div>
</div>
</div>

<div class="output_wrapper">
<div class="output">


<div class="output_area"><div class="prompt output_prompt">Out[39]:</div>


<div class="output_text output_subarea output_execute_result">
<pre>[(&#39;critics_score&#39;, 0.011033415486383723),
 (&#39;audience_score&#39;, 0.033411211149323453),
 (&#39;imdb_num_votes&#39;, 8.973582985918882e-07)]</pre>
</div>

</div>

</div>
</div>

</div>
<div class="cell border-box-sizing code_cell rendered">
<div class="input">
<div class="prompt input_prompt">In&nbsp;[44]:</div>
<div class="inner_cell">
    <div class="input_area">
<div class=" highlight hl-ipython3"><pre><span></span><span class="n">y_pred</span> <span class="o">=</span> <span class="n">linreg</span><span class="o">.</span><span class="n">predict</span><span class="p">(</span><span class="n">x_test</span><span class="p">)</span>
</pre></div>

</div>
</div>
</div>

</div>
<div class="cell border-box-sizing text_cell rendered">
<div class="prompt input_prompt">
</div>
<div class="inner_cell">
<div class="text_cell_render border-box-sizing rendered_html">
<p>We can see the accuracy of our model using root mean squared error.</p>

</div>
</div>
</div>
<div class="cell border-box-sizing code_cell rendered">
<div class="input">
<div class="prompt input_prompt">In&nbsp;[51]:</div>
<div class="inner_cell">
    <div class="input_area">
<div class=" highlight hl-ipython3"><pre><span></span><span class="kn">from</span> <span class="nn">sklearn</span> <span class="k">import</span> <span class="n">metrics</span>
<span class="nb">print</span><span class="p">(</span><span class="n">np</span><span class="o">.</span><span class="n">sqrt</span><span class="p">(</span><span class="n">metrics</span><span class="o">.</span><span class="n">mean_squared_error</span><span class="p">(</span><span class="n">y_test</span><span class="p">,</span><span class="n">y_pred</span><span class="p">)))</span>
</pre></div>

</div>
</div>
</div>

<div class="output_wrapper">
<div class="output">


<div class="output_area"><div class="prompt"></div>
<div class="output_subarea output_stream output_stdout output_text">
<pre>0.496842765047
</pre>
</div>
</div>

</div>
</div>

</div>
<div class="cell border-box-sizing text_cell rendered">
<div class="prompt input_prompt">
</div>
<div class="inner_cell">
<div class="text_cell_render border-box-sizing rendered_html">
<p>We can predict the score of Lagaan using our model</p>

</div>
</div>
</div>
<div class="cell border-box-sizing code_cell rendered">
<div class="input">
<div class="prompt input_prompt">In&nbsp;[58]:</div>
<div class="inner_cell">
    <div class="input_area">
<div class=" highlight hl-ipython3"><pre><span></span><span class="c1">#lagaan votes 77011, critics score 84, audience score 93</span>
<span class="n">lagaan</span> <span class="o">=</span> <span class="p">[(</span><span class="mi">84</span><span class="p">,</span><span class="mi">93</span><span class="p">,</span><span class="mi">77011</span><span class="p">)]</span>
<span class="n">lag</span> <span class="o">=</span> <span class="n">pd</span><span class="o">.</span><span class="n">DataFrame</span><span class="o">.</span><span class="n">from_records</span><span class="p">(</span><span class="n">lagaan</span><span class="p">,</span> <span class="n">columns</span> <span class="o">=</span> <span class="n">feature_cols</span><span class="p">)</span>
<span class="n">lag</span>
</pre></div>

</div>
</div>
</div>

<div class="output_wrapper">
<div class="output">


<div class="output_area"><div class="prompt output_prompt">Out[58]:</div>

<div class="output_html rendered_html output_subarea output_execute_result">
<div>
<table border="1" class="dataframe">
  <thead>
    <tr style="text-align: right;">
      <th></th>
      <th>critics_score</th>
      <th>audience_score</th>
      <th>imdb_num_votes</th>
    </tr>
  </thead>
  <tbody>
    <tr>
      <th>0</th>
      <td>84</td>
      <td>93</td>
      <td>77011</td>
    </tr>
  </tbody>
</table>
</div>
</div>

</div>

</div>
</div>

</div>
<div class="cell border-box-sizing text_cell rendered">
<div class="prompt input_prompt">
</div>
<div class="inner_cell">
<div class="text_cell_render border-box-sizing rendered_html">
<p>imdb score = intercept + B1<em>critics_score + B2</em>audience_score + B3*imdb_num_votes</p>

</div>
</div>
</div>
<div class="cell border-box-sizing code_cell rendered">
<div class="input">
<div class="prompt input_prompt">In&nbsp;[62]:</div>
<div class="inner_cell">
    <div class="input_area">
<div class=" highlight hl-ipython3"><pre><span></span><span class="n">imdb_score</span> <span class="o">=</span> <span class="mf">3.7205403211</span> <span class="o">+</span> <span class="mi">84</span><span class="o">*</span><span class="mf">0.011033415486383723</span> <span class="o">+</span> <span class="mi">93</span><span class="o">*</span><span class="mf">0.033411211149323453</span> <span class="o">+</span> <span class="mi">77011</span><span class="o">*</span><span class="mf">8.973582985918882e-07</span>
<span class="nb">print</span><span class="p">(</span><span class="n">imdb_score</span><span class="p">)</span>
</pre></div>

</div>
</div>
</div>

<div class="output_wrapper">
<div class="output">


<div class="output_area"><div class="prompt"></div>
<div class="output_subarea output_stream output_stdout output_text">
<pre>7.823696318776173
</pre>
</div>
</div>

</div>
</div>

</div>
<div class="cell border-box-sizing text_cell rendered">
<div class="prompt input_prompt">
</div>
<div class="inner_cell">
<div class="text_cell_render border-box-sizing rendered_html">
<p>this predition of lagan is pretty close to the actual rating which is 8.2</p>

</div>
</div>
</div>
    </div>
  </div>
</body>
</html>
